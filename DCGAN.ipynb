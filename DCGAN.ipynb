{
  "nbformat": 4,
  "nbformat_minor": 0,
  "metadata": {
    "anaconda-cloud": {},
    "kernelspec": {
      "display_name": "Python 3.6 (tensorflow)",
      "language": "python",
      "name": "tensorflow"
    },
    "language_info": {
      "codemirror_mode": {
        "name": "ipython",
        "version": 3
      },
      "file_extension": ".py",
      "mimetype": "text/x-python",
      "name": "python",
      "nbconvert_exporter": "python",
      "pygments_lexer": "ipython3",
      "version": "3.7.7"
    },
    "colab": {
      "name": "t81_558_class_07_2_Keras_gan.ipynb",
      "provenance": [],
      "collapsed_sections": []
    },
    "accelerator": "GPU"
  },
  "cells": [
    {
      "cell_type": "markdown",
      "metadata": {
        "id": "4mB_sFildiDh"
      },
      "source": [
        "<a href=\"https://colab.research.google.com/github/jeffheaton/t81_558_deep_learning/blob/master/t81_558_class_07_2_Keras_gan.ipynb\" target=\"_parent\"><img src=\"https://colab.research.google.com/assets/colab-badge.svg\" alt=\"Open In Colab\"/></a>"
      ]
    },
    {
      "cell_type": "markdown",
      "metadata": {
        "id": "303iHntmdiDj"
      },
      "source": [
        "# T81-558: Applications of Deep Neural Networks\n",
        "**Module 7: Generative Adversarial Networks**\n",
        "* Instructor: [Jeff Heaton](https://sites.wustl.edu/jeffheaton/), McKelvey School of Engineering, [Washington University in St. Louis](https://engineering.wustl.edu/Programs/Pages/default.aspx)\n",
        "* For more information visit the [class website](https://sites.wustl.edu/jeffheaton/t81-558/)."
      ]
    },
    {
      "cell_type": "markdown",
      "metadata": {
        "id": "d5n2iv9udiDk"
      },
      "source": [
        "# Module 7 Material\n",
        "\n",
        "* Part 7.1: Introduction to GANS for Image and Data Generation [[Video]](https://www.youtube.com/watch?v=0QnCH6tlZgc&list=PLjy4p-07OYzulelvJ5KVaT2pDlxivl_BN) [[Notebook]](t81_558_class_07_1_gan_intro.ipynb)\n",
        "* **Part 7.2: Implementing a GAN in Keras** [[Video]](https://www.youtube.com/watch?v=T-MCludVNn4&list=PLjy4p-07OYzulelvJ5KVaT2pDlxivl_BN) [[Notebook]](t81_558_class_07_2_Keras_gan.ipynb)\n",
        "* Part 7.3: Face Generation with StyleGAN and Python [[Video]](https://www.youtube.com/watch?v=Wwwyr7cOBlU&list=PLjy4p-07OYzulelvJ5KVaT2pDlxivl_BN) [[Notebook]](t81_558_class_07_3_style_gan.ipynb)\n",
        "* Part 7.4: GANS for Semi-Supervised Learning in Keras [[Video]](https://www.youtube.com/watch?v=ZPewmEu7644&list=PLjy4p-07OYzulelvJ5KVaT2pDlxivl_BN) [[Notebook]](t81_558_class_07_4_gan_semi_supervised.ipynb)\n",
        "* Part 7.5: An Overview of GAN Research [[Video]](https://www.youtube.com/watch?v=cvCvZKvlvq4&list=PLjy4p-07OYzulelvJ5KVaT2pDlxivl_BN) [[Notebook]](t81_558_class_07_5_gan_research.ipynb)\n"
      ]
    },
    {
      "cell_type": "code",
      "metadata": {
        "id": "zgMWBuf61OmL"
      },
      "source": [
        "# Nicely formatted time string\n",
        "def hms_string(sec_elapsed):\n",
        "    h = int(sec_elapsed / (60 * 60))\n",
        "    m = int((sec_elapsed % (60 * 60)) / 60)\n",
        "    s = sec_elapsed % 60\n",
        "    return \"{}:{:>02}:{:>05.2f}\".format(h, m, s)"
      ],
      "execution_count": 1,
      "outputs": []
    },
    {
      "cell_type": "markdown",
      "metadata": {
        "id": "1yqlUD4sdiDk"
      },
      "source": [
        "# Part 7.2: Implementing DCGANs in Keras\n",
        "\n",
        "Paper that described the type of DCGAN that we will create in this module. [[Cite:radford2015unsupervised]](https://arxiv.org/abs/1511.06434) This paper implements a DCGAN as follows:\n",
        "\n",
        "* No pre-processing was applied to training images besides scaling to the range of the tanh activation function [-1, 1]. \n",
        "* All models were trained with mini-batch stochastic gradient descent (SGD) with a mini-batch size of 128. \n",
        "* All weights were initialized from a zero-centered Normal distribution with standard deviation 0.02. \n",
        "* In the LeakyReLU, the slope of the leak was set to 0.2 in all models.\n",
        "* we used the Adam optimizer(Kingma & Ba, 2014) with tuned hyperparameters. We found the suggested learning rate of 0.001, to be too high, using 0.0002 instead. \n",
        "* Additionally, we found leaving the momentum term $\\beta{1}$ at the suggested value of 0.9 resulted in training oscillation and instability while reducing it to 0.5 helped stabilize training.\n",
        "\n",
        "The paper also provides the following architecture guidelines for stable Deep Convolutional GANs:\n",
        "\n",
        "* Replace any pooling layers with strided convolutions (discriminator) and fractional-strided convolutions (generator).\n",
        "* Use batchnorm in both the generator and the discriminator.\n",
        "* Remove fully connected hidden layers for deeper architectures.\n",
        "* Use ReLU activation in generator for all layers except for the output, which uses Tanh.\n",
        "* Use LeakyReLU activation in the discriminator for all layers.\n",
        "\n",
        "While creating the material for this module I used a number of Internet resources, some of the most helpful were:\n",
        "\n",
        "* [Deep Convolutional Generative Adversarial Network (TensorFlow 2.0 example code)](https://www.tensorflow.org/tutorials/generative/dcgan)\n",
        "* [Keep Calm and train a GAN. Pitfalls and Tips on training Generative Adversarial Networks](https://medium.com/@utk.is.here/keep-calm-and-train-a-gan-pitfalls-and-tips-on-training-generative-adversarial-networks-edd529764aa9)\n",
        "* [Collection of Keras implementations of Generative Adversarial Networks GANs](https://github.com/eriklindernoren/Keras-GAN)\n",
        "* [dcgan-facegenerator](https://github.com/platonovsimeon/dcgan-facegenerator), [Semi-Paywalled Article by GitHub Author](https://medium.com/datadriveninvestor/generating-human-faces-with-keras-3ccd54c17f16)\n",
        "\n",
        "The program created next will generate faces similar to these.  While these faces are not perfect, they demonstrate how we can construct and train a GAN on or own.  Later we will see how to import very advanced weights from nVidia to produce high resolution, realistic looking faces. Figure 7.GAN-GRID shows images from GAN training.\n",
        "\n",
        "**Figure 7.GAN-GRID: GAN Neural Network Training**\n",
        "![GAN](https://raw.githubusercontent.com/jeffheaton/t81_558_deep_learning/master/images/gan-3.png \"GAN Images\")\n",
        "\n",
        "As discussed in the previous module, the GAN is made up of two different neural networks: the discriminator and the generator.  The generator generates the images, while the discriminator detects if a face is real or was generated.  These two neural networks work as shown in Figure 7.GAN-EVAL:\n",
        "\n",
        "**Figure 7.GAN-EVAL: Evaluating GANs**\n",
        "![GAN](https://raw.githubusercontent.com/jeffheaton/t81_558_deep_learning/master/images/gan_fig_1.png \"GAN\")\n",
        "\n",
        "The discriminator accepts an image as its input and produces number that is the probability of the input image being real.  The generator accepts a random seed vector and generates an image from that random vector seed. An unlimited number of new images can be created by providing additional seeds."
      ]
    },
    {
      "cell_type": "markdown",
      "metadata": {
        "id": "SpCjlQyEdiDo"
      },
      "source": [
        "I suggest running this code with a GPU, it will be very slow on a CPU alone.  The following code mounts your Google drive for use with Google CoLab.  If you are not using CoLab, the following code will not work."
      ]
    },
    {
      "cell_type": "code",
      "metadata": {
        "id": "Y8_-1h5ddiDp",
        "colab": {
          "base_uri": "https://localhost:8080/"
        },
        "outputId": "b5291e06-f916-4ea4-9768-52bd982cc591"
      },
      "source": [
        "try:\n",
        "    from google.colab import drive\n",
        "    drive.mount('/content/drive', force_remount=True)\n",
        "    COLAB = True\n",
        "    print(\"Note: using Google CoLab\")\n",
        "    %tensorflow_version 2.x\n",
        "except:\n",
        "    print(\"Note: not using Google CoLab\")\n",
        "    COLAB = False"
      ],
      "execution_count": 2,
      "outputs": [
        {
          "output_type": "stream",
          "text": [
            "Mounted at /content/drive\n",
            "Note: using Google CoLab\n"
          ],
          "name": "stdout"
        }
      ]
    },
    {
      "cell_type": "markdown",
      "metadata": {
        "id": "BeVAWGHOdiDl"
      },
      "source": [
        "The following packages will be used to implement a basic GAN system in Python/Keras."
      ]
    },
    {
      "cell_type": "code",
      "metadata": {
        "id": "KubxTY1mdiDm"
      },
      "source": [
        "import tensorflow as tf\n",
        "from tensorflow.keras.layers import Input, Reshape, Dropout, Dense \n",
        "from tensorflow.keras.layers import Flatten, BatchNormalization\n",
        "from tensorflow.keras.layers import Activation, ZeroPadding2D\n",
        "from tensorflow.keras.layers import LeakyReLU\n",
        "from tensorflow.keras.layers import UpSampling2D, Conv2D\n",
        "from tensorflow.keras.models import Sequential, Model, load_model\n",
        "from tensorflow.keras.optimizers import Adam\n",
        "import numpy as np\n",
        "from PIL import Image\n",
        "from tqdm import tqdm\n",
        "import os \n",
        "import time\n",
        "import matplotlib.pyplot as plt"
      ],
      "execution_count": 3,
      "outputs": []
    },
    {
      "cell_type": "markdown",
      "metadata": {
        "id": "X9uwIRYJdiDr"
      },
      "source": [
        "These are the constants that define how the GANs will be created for this example.  The higher the resolution, the more memory that will be needed.  Higher resolution will also result in longer run times.  For Google CoLab (with GPU) 128x128 resolution is as high as can be used (due to memory).  Note that the resolution is specified as a multiple of 32.  So **GENERATE_RES** of 1 is 32, 2 is 64, etc.\n",
        "\n",
        "To run this you will need training data.  The training data can be any collection of images.  I suggest using training data from the following two locations.  Simply unzip and combine to a common directory.  This directory should be uploaded to Google Drive (if you are using CoLab). The constant **DATA_PATH** defines where these images are stored.\n",
        "\n",
        "The source data (faces) used in this module can be found here:\n",
        "\n",
        "* [Kaggle Faces Data New](https://www.kaggle.com/gasgallo/faces-data-new)\n",
        "* [Kaggle Lag Dataset: Dataset of faces, from more than 1k different subjects](https://www.kaggle.com/gasgallo/lag-dataset)"
      ]
    },
    {
      "cell_type": "code",
      "metadata": {
        "id": "tb_XblE7diDr",
        "colab": {
          "base_uri": "https://localhost:8080/"
        },
        "outputId": "6fcd5e28-5d0b-404c-ef5b-4f7318818b41"
      },
      "source": [
        "# Generation resolution - Must be square \n",
        "# Training data is also scaled to this.\n",
        "# Note GENERATE_RES 4 or higher  \n",
        "# will blow Google CoLab's memory and have not\n",
        "# been tested extensivly.\n",
        "GENERATE_RES = 3 # Generation resolution factor \n",
        "# (1=32, 2=64, 3=96, 4=128, etc.)\n",
        "GENERATE_SQUARE = 32 * GENERATE_RES # rows/cols (should be square)\n",
        "IMAGE_CHANNELS = 3\n",
        "\n",
        "# Preview image \n",
        "PREVIEW_ROWS = 4\n",
        "PREVIEW_COLS = 7\n",
        "PREVIEW_MARGIN = 16\n",
        "\n",
        "# Size vector to generate images from\n",
        "SEED_SIZE = 100\n",
        "\n",
        "# Configuration\n",
        "DATA_PATH = '/content/drive/My Drive/projects/COVID'\n",
        "EPOCHS = 50\n",
        "BATCH_SIZE = 32\n",
        "BUFFER_SIZE = 60000\n",
        "\n",
        "print(f\"Will generate {GENERATE_SQUARE}px square images.\")"
      ],
      "execution_count": 4,
      "outputs": [
        {
          "output_type": "stream",
          "text": [
            "Will generate 96px square images.\n"
          ],
          "name": "stdout"
        }
      ]
    },
    {
      "cell_type": "markdown",
      "metadata": {
        "id": "oDTfFQjTdiDu"
      },
      "source": [
        "Next we will load and preprocess the images.  This can take awhile.  Google CoLab took around an hour to process.  Because of this we store the processed file as a binary.  This way we can simply reload the processed training data and quickly use it.  It is most efficient to only perform this operation once.  The dimensions of the image are encoded into the filename of the binary file because we need to regenerate it if these change."
      ]
    },
    {
      "cell_type": "code",
      "metadata": {
        "id": "dJ69ALfSdiDv",
        "colab": {
          "base_uri": "https://localhost:8080/"
        },
        "outputId": "c7a3a5c5-2377-4fc1-af67-793fe9ea8cac"
      },
      "source": [
        "# Image set has 11,682 images.  Can take over an hour \n",
        "# for initial preprocessing.\n",
        "# Because of this time needed, save a Numpy preprocessed file.\n",
        "# Note, that file is large enough to cause problems for \n",
        "# sume verisons of Pickle,\n",
        "# so Numpy binary files are used.\n",
        "training_binary_path = os.path.join(DATA_PATH,\n",
        "        f'training_data_{GENERATE_SQUARE}_{GENERATE_SQUARE}.npy')\n",
        "\n",
        "print(f\"Looking for file: {training_binary_path}\")\n",
        "\n",
        "if not os.path.isfile(training_binary_path):\n",
        "  start = time.time()\n",
        "  print(\"Loading training images...\")\n",
        "\n",
        "  training_data = []\n",
        "  faces_path = os.path.join(DATA_PATH,'kevid')\n",
        "  for filename in tqdm(os.listdir(faces_path)):\n",
        "      path = os.path.join(faces_path,filename)\n",
        "      image = Image.open(path).resize((GENERATE_SQUARE,\n",
        "            GENERATE_SQUARE),Image.ANTIALIAS)\n",
        "      training_data.append(np.asarray(image))\n",
        "  training_data = np.reshape(training_data,(-1,GENERATE_SQUARE,\n",
        "            GENERATE_SQUARE,IMAGE_CHANNELS))\n",
        "  training_data = training_data.astype(np.float32)\n",
        "  training_data = training_data / 127.5 - 1.\n",
        "\n",
        "\n",
        "  print(\"Saving training image binary...\")\n",
        "  np.save(training_binary_path,training_data)\n",
        "  elapsed = time.time()-start\n",
        "  print (f'Image preprocess time: {hms_string(elapsed)}')\n",
        "else:\n",
        "  print(\"Loading previous training pickle...\")\n",
        "  training_data = np.load(training_binary_path)"
      ],
      "execution_count": 5,
      "outputs": [
        {
          "output_type": "stream",
          "text": [
            "Looking for file: /content/drive/My Drive/projects/COVID/training_data_96_96.npy\n",
            "Loading previous training pickle...\n"
          ],
          "name": "stdout"
        }
      ]
    },
    {
      "cell_type": "markdown",
      "metadata": {
        "id": "Y9kO_iSRyixQ"
      },
      "source": [
        "We will use a TensorFlow **Dataset** object to actually hold the images.  This allows the data to be quickly shuffled int divided into the appropriate batch sizes for training.  "
      ]
    },
    {
      "cell_type": "code",
      "metadata": {
        "id": "BXl0JohJBx69"
      },
      "source": [
        "# Batch and shuffle the data\n",
        "train_dataset = tf.data.Dataset.from_tensor_slices(training_data) \\\n",
        "    .shuffle(BUFFER_SIZE).batch(BATCH_SIZE)"
      ],
      "execution_count": 6,
      "outputs": []
    },
    {
      "cell_type": "markdown",
      "metadata": {
        "id": "2dATyXqQdiDw"
      },
      "source": [
        "The code below creates the generator and discriminator."
      ]
    },
    {
      "cell_type": "markdown",
      "metadata": {
        "id": "zB_aX4ChdiD0"
      },
      "source": [
        "Next we actually build the discriminator and the generator.  Both will be trained with the Adam optimizer."
      ]
    },
    {
      "cell_type": "code",
      "metadata": {
        "id": "Ulou-BZPybzT"
      },
      "source": [
        "def build_generator(seed_size, channels):\n",
        "    model = Sequential()\n",
        "\n",
        "    model.add(Dense(4*4*256,activation=\"relu\",input_dim=seed_size))\n",
        "    model.add(Reshape((4,4,256)))\n",
        "\n",
        "    model.add(UpSampling2D())\n",
        "    model.add(Conv2D(256,kernel_size=3,padding=\"same\"))\n",
        "    model.add(BatchNormalization(momentum=0.8))\n",
        "    model.add(Activation(\"relu\"))\n",
        "\n",
        "    model.add(UpSampling2D())\n",
        "    model.add(Conv2D(256,kernel_size=3,padding=\"same\"))\n",
        "    model.add(BatchNormalization(momentum=0.8))\n",
        "    model.add(Activation(\"relu\"))\n",
        "   \n",
        "    # Output resolution, additional upsampling\n",
        "    model.add(UpSampling2D())\n",
        "    model.add(Conv2D(128,kernel_size=3,padding=\"same\"))\n",
        "    model.add(BatchNormalization(momentum=0.8))\n",
        "    model.add(Activation(\"relu\"))\n",
        "\n",
        "    if GENERATE_RES>1:\n",
        "      model.add(UpSampling2D(size=(GENERATE_RES,GENERATE_RES)))\n",
        "      model.add(Conv2D(128,kernel_size=3,padding=\"same\"))\n",
        "      model.add(BatchNormalization(momentum=0.8))\n",
        "      model.add(Activation(\"relu\"))\n",
        "\n",
        "    # Final CNN layer\n",
        "    model.add(Conv2D(channels,kernel_size=3,padding=\"same\"))\n",
        "    model.add(Activation(\"tanh\"))\n",
        "\n",
        "    return model\n",
        "\n",
        "\n",
        "def build_discriminator(image_shape):\n",
        "    model = Sequential()\n",
        "\n",
        "    model.add(Conv2D(32, kernel_size=3, strides=2, input_shape=image_shape, \n",
        "                     padding=\"same\"))\n",
        "    model.add(LeakyReLU(alpha=0.2))\n",
        "\n",
        "    model.add(Dropout(0.25))\n",
        "    model.add(Conv2D(64, kernel_size=3, strides=2, padding=\"same\"))\n",
        "    model.add(ZeroPadding2D(padding=((0,1),(0,1))))\n",
        "    model.add(BatchNormalization(momentum=0.8))\n",
        "    model.add(LeakyReLU(alpha=0.2))\n",
        "\n",
        "    model.add(Dropout(0.25))\n",
        "    model.add(Conv2D(128, kernel_size=3, strides=2, padding=\"same\"))\n",
        "    model.add(BatchNormalization(momentum=0.8))\n",
        "    model.add(LeakyReLU(alpha=0.2))\n",
        "\n",
        "    model.add(Dropout(0.25))\n",
        "    model.add(Conv2D(256, kernel_size=3, strides=1, padding=\"same\"))\n",
        "    model.add(BatchNormalization(momentum=0.8))\n",
        "    model.add(LeakyReLU(alpha=0.2))\n",
        "\n",
        "    model.add(Dropout(0.25))\n",
        "    model.add(Conv2D(512, kernel_size=3, strides=1, padding=\"same\"))\n",
        "    model.add(BatchNormalization(momentum=0.8))\n",
        "    model.add(LeakyReLU(alpha=0.2))\n",
        "\n",
        "    model.add(Dropout(0.25))\n",
        "    model.add(Flatten())\n",
        "    model.add(Dense(1, activation='sigmoid'))\n",
        "\n",
        "    return model"
      ],
      "execution_count": 7,
      "outputs": []
    },
    {
      "cell_type": "markdown",
      "metadata": {
        "id": "2kxKk7uDOnPS"
      },
      "source": [
        "As we progress through training images will be produced to show the progress.  These images will contain a number of rendered faces that show how good the generator has become.  These faces will be "
      ]
    },
    {
      "cell_type": "code",
      "metadata": {
        "id": "UKnCeDut2cp0"
      },
      "source": [
        "def save_images(cnt,noise):\n",
        "  image_array = np.full(( \n",
        "      PREVIEW_MARGIN + (PREVIEW_ROWS * (GENERATE_SQUARE+PREVIEW_MARGIN)), \n",
        "      PREVIEW_MARGIN + (PREVIEW_COLS * (GENERATE_SQUARE+PREVIEW_MARGIN)), 3), \n",
        "      255, dtype=np.uint8)\n",
        "  \n",
        "  generated_images = generator.predict(noise)\n",
        "\n",
        "  generated_images = 0.5 * generated_images + 0.5\n",
        "\n",
        "  image_count = 0\n",
        "  for row in range(PREVIEW_ROWS):\n",
        "      for col in range(PREVIEW_COLS):\n",
        "        r = row * (GENERATE_SQUARE+16) + PREVIEW_MARGIN\n",
        "        c = col * (GENERATE_SQUARE+16) + PREVIEW_MARGIN\n",
        "        image_array[r:r+GENERATE_SQUARE,c:c+GENERATE_SQUARE] \\\n",
        "            = generated_images[image_count] * 255\n",
        "        image_count += 1\n",
        "\n",
        "          \n",
        "  output_path = os.path.join(DATA_PATH,'output')\n",
        "  if not os.path.exists(output_path):\n",
        "    os.makedirs(output_path)\n",
        "  \n",
        "  filename = os.path.join(output_path,f\"train-{cnt}.png\")\n",
        "  im = Image.fromarray(image_array)\n",
        "  im.save(filename)"
      ],
      "execution_count": 8,
      "outputs": []
    },
    {
      "cell_type": "code",
      "metadata": {
        "id": "tyGzJhbvF_Ld"
      },
      "source": [
        "generated_path = os.path.join(DATA_PATH,'generated')\n",
        "if not os.path.exists(generated_path):\n",
        "    os.makedirs(generated_path)\n",
        "\n",
        "def save_data(cnt,noise):\n",
        "  image_array = np.full(( \n",
        "      GENERATE_SQUARE+1, \n",
        "      GENERATE_SQUARE+1, 3), \n",
        "      255, dtype=np.uint8)\n",
        "  \n",
        "  generated_images = generator.predict(noise)\n",
        "\n",
        "  generated_images = 0.5 * generated_images + 0.5\n",
        "\n",
        "  image_count = 0\n",
        "  for row in range(PREVIEW_ROWS * PREVIEW_COLS):\n",
        "      r = row * (GENERATE_SQUARE+16) + PREVIEW_MARGIN\n",
        "      c = row * (GENERATE_SQUARE+16) + PREVIEW_MARGIN\n",
        "      image_array[1:GENERATE_SQUARE+1,1:GENERATE_SQUARE+1] \\\n",
        "          = generated_images[image_count] * 255\n",
        "      \n",
        "      filename = os.path.join(generated_path,f\"train-{row}.png\")\n",
        "      im = Image.fromarray(image_array)\n",
        "      im.save(filename)\n",
        "      image_count += 1"
      ],
      "execution_count": 31,
      "outputs": []
    },
    {
      "cell_type": "markdown",
      "metadata": {
        "id": "XiUbj3W4Oo3U"
      },
      "source": [
        ""
      ]
    },
    {
      "cell_type": "code",
      "metadata": {
        "id": "gL5byGhNzOzd",
        "colab": {
          "base_uri": "https://localhost:8080/",
          "height": 285
        },
        "outputId": "70dc30d0-139f-412b-ae40-e23f0c3797f4"
      },
      "source": [
        "generator = build_generator(SEED_SIZE, IMAGE_CHANNELS)\n",
        "\n",
        "noise = tf.random.normal([1, SEED_SIZE])\n",
        "generated_image = generator(noise, training=False)\n",
        "\n",
        "plt.imshow(generated_image[0, :, :, 0])"
      ],
      "execution_count": 10,
      "outputs": [
        {
          "output_type": "execute_result",
          "data": {
            "text/plain": [
              "<matplotlib.image.AxesImage at 0x7f16fe23a898>"
            ]
          },
          "metadata": {
            "tags": []
          },
          "execution_count": 10
        },
        {
          "output_type": "display_data",
          "data": {
            "image/png": "[encoded data removed]",
            "text/plain": [
              "<Figure size 432x288 with 1 Axes>"
            ]
          },
          "metadata": {
            "tags": [],
            "needs_background": "light"
          }
        }
      ]
    },
    {
      "cell_type": "markdown",
      "metadata": {
        "id": "nlxxEHDIOqjW"
      },
      "source": [
        ""
      ]
    },
    {
      "cell_type": "code",
      "metadata": {
        "id": "LOnTxIXnyeEQ",
        "colab": {
          "base_uri": "https://localhost:8080/"
        },
        "outputId": "e807cab5-e6c1-4e1b-d6e8-6b496a3f22d6"
      },
      "source": [
        "image_shape = (GENERATE_SQUARE,GENERATE_SQUARE,IMAGE_CHANNELS)\n",
        "\n",
        "discriminator = build_discriminator(image_shape)\n",
        "decision = discriminator(generated_image)\n",
        "print (decision)"
      ],
      "execution_count": 11,
      "outputs": [
        {
          "output_type": "stream",
          "text": [
            "tf.Tensor([[0.5000933]], shape=(1, 1), dtype=float32)\n"
          ],
          "name": "stdout"
        }
      ]
    },
    {
      "cell_type": "markdown",
      "metadata": {
        "id": "-ChOo3D1OsVc"
      },
      "source": [
        "Loss functions must be developed that allow the generator and discriminator to be trained in an adversarial way.  Because these two neural networks are being trained independently they must be trained in two separate passes.  This requires two separate loss functions and also two separate updates to the gradients.  When the discriminator's gradients are applied to decrease the discriminator's loss it is important that only the discriminator's weights are update.  It is not fair, nor will it produce good results, to adversarially damage the weights of the generator to help the discriminator.  A simple backpropagation would do this.  It would simultaneously affect the weights of both generator and discriminator to lower whatever loss it was assigned to lower.\n",
        "\n",
        "Figure 7.TDIS shows how the discriminator is trained.\n",
        "\n",
        "**Figure 7.TDIS: Training the Discriminator**\n",
        "![Training the Discriminator](https://raw.githubusercontent.com/jeffheaton/t81_558_deep_learning/master/images/gan_fig_2.png \"Training the Discriminator\")\n",
        "\n",
        "Here a training set is generated with an equal number of real and fake images.  The real images are randomly sampled (chosen) from the training data.  An equal number of random images are generated from random seeds.  For the discriminator training set, the $x$ contains the input images and the $y$ contains a value of 1 for real images and 0 for generated ones.\n",
        "\n",
        "Likewise, the Figure 7.TGEN shows how the generator is trained.\n",
        "\n",
        "**Figure 7.TGEN: Training the Generator**\n",
        "![Training the Generator](https://raw.githubusercontent.com/jeffheaton/t81_558_deep_learning/master/images/gan_fig_3.png \"Training the Generator\")\n",
        "\n",
        "For the generator training set, the $x$ contains the random seeds to generate images and the $y$ always contains the value of 1, because the optimal is for the generator to have generated such good images that the discriminiator was fooled into assigning them a probability near 1."
      ]
    },
    {
      "cell_type": "code",
      "metadata": {
        "id": "gBaP98zAySJV"
      },
      "source": [
        "# This method returns a helper function to compute cross entropy loss\n",
        "cross_entropy = tf.keras.losses.BinaryCrossentropy()\n",
        "\n",
        "def discriminator_loss(real_output, fake_output):\n",
        "    real_loss = cross_entropy(tf.ones_like(real_output), real_output)\n",
        "    fake_loss = cross_entropy(tf.zeros_like(fake_output), fake_output)\n",
        "    total_loss = real_loss + fake_loss\n",
        "    return total_loss\n",
        "\n",
        "def generator_loss(fake_output):\n",
        "    return cross_entropy(tf.ones_like(fake_output), fake_output)"
      ],
      "execution_count": 12,
      "outputs": []
    },
    {
      "cell_type": "markdown",
      "metadata": {
        "id": "gIlZvHGAxbWf"
      },
      "source": [
        "Both the generator and discriminator use Adam and the same learning rate and momentum.  This does not need to be the case.  If you use a **GENERATE_RES** greater than 3 you may need to tune these learning rates, as well as other training and hyperparameters.  "
      ]
    },
    {
      "cell_type": "code",
      "metadata": {
        "id": "79UDhOCa0R4h"
      },
      "source": [
        "generator_optimizer = tf.keras.optimizers.Adam(1.5e-4,0.5)\n",
        "discriminator_optimizer = tf.keras.optimizers.Adam(1.5e-4,0.5)"
      ],
      "execution_count": 13,
      "outputs": []
    },
    {
      "cell_type": "markdown",
      "metadata": {
        "id": "frCpCNn8yRcM"
      },
      "source": [
        "The following function is where most of the training takes place for both the discriminator and the generator.  This function was based on the GAN provided by the [TensorFlow Keras exmples](https://www.tensorflow.org/tutorials/generative/dcgan) documentation.  The first thing you should notice about this function is that it is annotated with the **tf.function** annotation.  This causes the function to be precompiled and improves performance.\n",
        "\n",
        "This function trans differently than the code we previously saw for training.  This code makes use of **GradientTape** to allow the discriminator and generator to be trained together, yet separately.  \n",
        "\n"
      ]
    },
    {
      "cell_type": "code",
      "metadata": {
        "id": "uzyh-LqU0j5d"
      },
      "source": [
        "# Notice the use of `tf.function`\n",
        "# This annotation causes the function to be \"compiled\".\n",
        "@tf.function\n",
        "def train_step(images):\n",
        "  seed = tf.random.normal([BATCH_SIZE, SEED_SIZE])\n",
        "\n",
        "  with tf.GradientTape() as gen_tape, tf.GradientTape() as disc_tape:\n",
        "    generated_images = generator(seed, training=True)\n",
        "\n",
        "    real_output = discriminator(images, training=True)\n",
        "    fake_output = discriminator(generated_images, training=True)\n",
        "\n",
        "    gen_loss = generator_loss(fake_output)\n",
        "    disc_loss = discriminator_loss(real_output, fake_output)\n",
        "    \n",
        "\n",
        "    gradients_of_generator = gen_tape.gradient(\\\n",
        "        gen_loss, generator.trainable_variables)\n",
        "    gradients_of_discriminator = disc_tape.gradient(\\\n",
        "        disc_loss, discriminator.trainable_variables)\n",
        "\n",
        "    generator_optimizer.apply_gradients(zip(\n",
        "        gradients_of_generator, generator.trainable_variables))\n",
        "    discriminator_optimizer.apply_gradients(zip(\n",
        "        gradients_of_discriminator, \n",
        "        discriminator.trainable_variables))\n",
        "  return gen_loss,disc_loss"
      ],
      "execution_count": 14,
      "outputs": []
    },
    {
      "cell_type": "code",
      "metadata": {
        "id": "NjrRgDR10lSF"
      },
      "source": [
        "def train(dataset, epochs):\n",
        "  fixed_seed = np.random.normal(0, 1, (PREVIEW_ROWS * PREVIEW_COLS, \n",
        "                                       SEED_SIZE))\n",
        "  start = time.time()\n",
        "\n",
        "  for epoch in range(epochs):\n",
        "    epoch_start = time.time()\n",
        "\n",
        "    gen_loss_list = []\n",
        "    disc_loss_list = []\n",
        "\n",
        "    for image_batch in dataset:\n",
        "      t = train_step(image_batch)\n",
        "      gen_loss_list.append(t[0])\n",
        "      disc_loss_list.append(t[1])\n",
        "\n",
        "    g_loss = sum(gen_loss_list) / len(gen_loss_list)\n",
        "    d_loss = sum(disc_loss_list) / len(disc_loss_list)\n",
        "\n",
        "    epoch_elapsed = time.time()-epoch_start\n",
        "    print (f'Epoch {epoch+1}, gen loss={g_loss},disc loss={d_loss},'\\\n",
        "           ' {hms_string(epoch_elapsed)}')\n",
        "    save_images(epoch,fixed_seed)\n",
        "    if epochs == EPOCHS:\n",
        "      save_data(epoch,fixed_seed)\n",
        "\n",
        "  elapsed = time.time()-start\n",
        "  print (f'Training time: {hms_string(elapsed)}')\n"
      ],
      "execution_count": 15,
      "outputs": []
    },
    {
      "cell_type": "code",
      "metadata": {
        "id": "NTrpwsPoGekZ"
      },
      "source": [
        "EPOCHS = 500"
      ],
      "execution_count": 35,
      "outputs": []
    },
    {
      "cell_type": "code",
      "metadata": {
        "id": "vWmEHprD0t1V",
        "colab": {
          "base_uri": "https://localhost:8080/"
        },
        "outputId": "d5a57238-05d3-40b2-ab0f-ac459e9ac6fd"
      },
      "source": [
        "train(train_dataset, EPOCHS)"
      ],
      "execution_count": 36,
      "outputs": [
        {
          "output_type": "stream",
          "text": [
            "Epoch 1, gen loss=3.626006841659546,disc loss=0.42025986313819885, {hms_string(epoch_elapsed)}\n",
            "Epoch 2, gen loss=3.8041040897369385,disc loss=0.4375056028366089, {hms_string(epoch_elapsed)}\n",
            "Epoch 3, gen loss=3.1122710704803467,disc loss=1.258097529411316, {hms_string(epoch_elapsed)}\n",
            "Epoch 4, gen loss=2.6820297241210938,disc loss=1.0505112409591675, {hms_string(epoch_elapsed)}\n",
            "Epoch 5, gen loss=4.132380962371826,disc loss=1.623732089996338, {hms_string(epoch_elapsed)}\n",
            "Epoch 6, gen loss=2.930950403213501,disc loss=1.4116796255111694, {hms_string(epoch_elapsed)}\n",
            "Epoch 7, gen loss=2.5369396209716797,disc loss=1.399658203125, {hms_string(epoch_elapsed)}\n",
            "Epoch 8, gen loss=3.629990816116333,disc loss=0.8486489653587341, {hms_string(epoch_elapsed)}\n",
            "Epoch 9, gen loss=2.920531988143921,disc loss=0.8724166750907898, {hms_string(epoch_elapsed)}\n",
            "Epoch 10, gen loss=2.6541619300842285,disc loss=1.2065280675888062, {hms_string(epoch_elapsed)}\n",
            "Epoch 11, gen loss=2.423304557800293,disc loss=1.170690655708313, {hms_string(epoch_elapsed)}\n",
            "Epoch 12, gen loss=3.160318613052368,disc loss=0.7849997878074646, {hms_string(epoch_elapsed)}\n",
            "Epoch 13, gen loss=3.2269058227539062,disc loss=0.7778109908103943, {hms_string(epoch_elapsed)}\n",
            "Epoch 14, gen loss=3.5245559215545654,disc loss=1.2303870916366577, {hms_string(epoch_elapsed)}\n",
            "Epoch 15, gen loss=2.377413511276245,disc loss=1.1206309795379639, {hms_string(epoch_elapsed)}\n",
            "Epoch 16, gen loss=2.8387157917022705,disc loss=0.9282464981079102, {hms_string(epoch_elapsed)}\n",
            "Epoch 17, gen loss=3.0352935791015625,disc loss=0.805631697177887, {hms_string(epoch_elapsed)}\n",
            "Epoch 18, gen loss=2.5824131965637207,disc loss=0.7735646367073059, {hms_string(epoch_elapsed)}\n",
            "Epoch 19, gen loss=3.6169891357421875,disc loss=0.7948980331420898, {hms_string(epoch_elapsed)}\n",
            "Epoch 20, gen loss=2.768594741821289,disc loss=1.1702704429626465, {hms_string(epoch_elapsed)}\n",
            "Epoch 21, gen loss=2.8802483081817627,disc loss=1.0392696857452393, {hms_string(epoch_elapsed)}\n",
            "Epoch 22, gen loss=4.144423007965088,disc loss=1.1799851655960083, {hms_string(epoch_elapsed)}\n",
            "Epoch 23, gen loss=3.376750946044922,disc loss=0.7088913917541504, {hms_string(epoch_elapsed)}\n",
            "Epoch 24, gen loss=3.8511922359466553,disc loss=0.6756992936134338, {hms_string(epoch_elapsed)}\n",
            "Epoch 25, gen loss=3.760288953781128,disc loss=1.0504785776138306, {hms_string(epoch_elapsed)}\n",
            "Epoch 26, gen loss=3.3632755279541016,disc loss=0.7960147261619568, {hms_string(epoch_elapsed)}\n",
            "Epoch 27, gen loss=2.495004892349243,disc loss=0.9085353016853333, {hms_string(epoch_elapsed)}\n",
            "Epoch 28, gen loss=2.325697183609009,disc loss=1.16619074344635, {hms_string(epoch_elapsed)}\n",
            "Epoch 29, gen loss=2.6310136318206787,disc loss=0.7528889775276184, {hms_string(epoch_elapsed)}\n",
            "Epoch 30, gen loss=3.1961872577667236,disc loss=0.8780028820037842, {hms_string(epoch_elapsed)}\n",
            "Epoch 31, gen loss=3.2806642055511475,disc loss=0.8595083355903625, {hms_string(epoch_elapsed)}\n",
            "Epoch 32, gen loss=3.6015501022338867,disc loss=0.6889276504516602, {hms_string(epoch_elapsed)}\n",
            "Epoch 33, gen loss=2.912440299987793,disc loss=0.8470073342323303, {hms_string(epoch_elapsed)}\n",
            "Epoch 34, gen loss=3.0395984649658203,disc loss=1.2580324411392212, {hms_string(epoch_elapsed)}\n",
            "Epoch 35, gen loss=2.9616031646728516,disc loss=1.4763027429580688, {hms_string(epoch_elapsed)}\n",
            "Epoch 36, gen loss=3.389007329940796,disc loss=1.0478227138519287, {hms_string(epoch_elapsed)}\n",
            "Epoch 37, gen loss=2.5836782455444336,disc loss=1.2430202960968018, {hms_string(epoch_elapsed)}\n",
            "Epoch 38, gen loss=3.0684545040130615,disc loss=0.7476255297660828, {hms_string(epoch_elapsed)}\n",
            "Epoch 39, gen loss=2.795408010482788,disc loss=1.4321837425231934, {hms_string(epoch_elapsed)}\n",
            "Epoch 40, gen loss=3.0082645416259766,disc loss=0.6261487007141113, {hms_string(epoch_elapsed)}\n",
            "Epoch 41, gen loss=3.4875376224517822,disc loss=0.630053699016571, {hms_string(epoch_elapsed)}\n",
            "Epoch 42, gen loss=3.2041523456573486,disc loss=0.7994434237480164, {hms_string(epoch_elapsed)}\n",
            "Epoch 43, gen loss=3.0959484577178955,disc loss=0.9064705967903137, {hms_string(epoch_elapsed)}\n",
            "Epoch 44, gen loss=5.097927570343018,disc loss=0.1604229062795639, {hms_string(epoch_elapsed)}\n",
            "Epoch 45, gen loss=3.4768407344818115,disc loss=0.5908263325691223, {hms_string(epoch_elapsed)}\n",
            "Epoch 46, gen loss=4.503228664398193,disc loss=0.9888989329338074, {hms_string(epoch_elapsed)}\n",
            "Epoch 47, gen loss=3.6278018951416016,disc loss=0.8287314772605896, {hms_string(epoch_elapsed)}\n",
            "Epoch 48, gen loss=3.3667709827423096,disc loss=1.4940670728683472, {hms_string(epoch_elapsed)}\n",
            "Epoch 49, gen loss=2.8700482845306396,disc loss=0.6238586902618408, {hms_string(epoch_elapsed)}\n",
            "Epoch 50, gen loss=2.5054521560668945,disc loss=1.0524650812149048, {hms_string(epoch_elapsed)}\n",
            "Epoch 51, gen loss=2.5155625343322754,disc loss=0.7969319224357605, {hms_string(epoch_elapsed)}\n",
            "Epoch 52, gen loss=2.5864686965942383,disc loss=0.7222779393196106, {hms_string(epoch_elapsed)}\n",
            "Epoch 53, gen loss=2.8690922260284424,disc loss=0.8290292620658875, {hms_string(epoch_elapsed)}\n",
            "Epoch 54, gen loss=2.7095251083374023,disc loss=0.8859265446662903, {hms_string(epoch_elapsed)}\n",
            "Epoch 55, gen loss=2.6091763973236084,disc loss=1.0892765522003174, {hms_string(epoch_elapsed)}\n",
            "Epoch 56, gen loss=3.462603807449341,disc loss=0.6613039970397949, {hms_string(epoch_elapsed)}\n",
            "Epoch 57, gen loss=2.686126947402954,disc loss=0.8726752400398254, {hms_string(epoch_elapsed)}\n",
            "Epoch 58, gen loss=3.016223669052124,disc loss=0.8113271594047546, {hms_string(epoch_elapsed)}\n",
            "Epoch 59, gen loss=3.153764009475708,disc loss=0.9530213475227356, {hms_string(epoch_elapsed)}\n",
            "Epoch 60, gen loss=2.7430307865142822,disc loss=0.5880079865455627, {hms_string(epoch_elapsed)}\n",
            "Epoch 61, gen loss=3.050323724746704,disc loss=1.1959296464920044, {hms_string(epoch_elapsed)}\n",
            "Epoch 62, gen loss=2.9745934009552,disc loss=0.6578428149223328, {hms_string(epoch_elapsed)}\n",
            "Epoch 63, gen loss=2.584468126296997,disc loss=0.7092397212982178, {hms_string(epoch_elapsed)}\n",
            "Epoch 64, gen loss=3.7323544025421143,disc loss=0.8488628268241882, {hms_string(epoch_elapsed)}\n",
            "Epoch 65, gen loss=2.655517816543579,disc loss=1.0653935670852661, {hms_string(epoch_elapsed)}\n",
            "Epoch 66, gen loss=3.5524730682373047,disc loss=0.799830436706543, {hms_string(epoch_elapsed)}\n",
            "Epoch 67, gen loss=3.853266716003418,disc loss=0.8768187165260315, {hms_string(epoch_elapsed)}\n",
            "Epoch 68, gen loss=3.159449338912964,disc loss=0.521261990070343, {hms_string(epoch_elapsed)}\n",
            "Epoch 69, gen loss=2.9540855884552,disc loss=1.2547883987426758, {hms_string(epoch_elapsed)}\n",
            "Epoch 70, gen loss=2.7451095581054688,disc loss=0.755274772644043, {hms_string(epoch_elapsed)}\n",
            "Epoch 71, gen loss=2.4924888610839844,disc loss=0.9604692459106445, {hms_string(epoch_elapsed)}\n",
            "Epoch 72, gen loss=3.411837577819824,disc loss=0.6406130790710449, {hms_string(epoch_elapsed)}\n",
            "Epoch 73, gen loss=2.7991368770599365,disc loss=0.815703809261322, {hms_string(epoch_elapsed)}\n",
            "Epoch 74, gen loss=2.7383806705474854,disc loss=1.2327494621276855, {hms_string(epoch_elapsed)}\n",
            "Epoch 75, gen loss=4.379084587097168,disc loss=0.5106373429298401, {hms_string(epoch_elapsed)}\n",
            "Epoch 76, gen loss=3.2292556762695312,disc loss=1.0181010961532593, {hms_string(epoch_elapsed)}\n",
            "Epoch 77, gen loss=3.566457986831665,disc loss=0.3411211669445038, {hms_string(epoch_elapsed)}\n",
            "Epoch 78, gen loss=3.0404510498046875,disc loss=0.5298557877540588, {hms_string(epoch_elapsed)}\n",
            "Epoch 79, gen loss=2.8054285049438477,disc loss=0.9759323000907898, {hms_string(epoch_elapsed)}\n",
            "Epoch 80, gen loss=5.3403096199035645,disc loss=0.9233951568603516, {hms_string(epoch_elapsed)}\n",
            "Epoch 81, gen loss=4.531827449798584,disc loss=1.76109778881073, {hms_string(epoch_elapsed)}\n",
            "Epoch 82, gen loss=3.286341905593872,disc loss=0.7510541081428528, {hms_string(epoch_elapsed)}\n",
            "Epoch 83, gen loss=2.6341207027435303,disc loss=0.9498327374458313, {hms_string(epoch_elapsed)}\n",
            "Epoch 84, gen loss=2.556612968444824,disc loss=0.8788248896598816, {hms_string(epoch_elapsed)}\n",
            "Epoch 85, gen loss=2.640782594680786,disc loss=0.9867445826530457, {hms_string(epoch_elapsed)}\n",
            "Epoch 86, gen loss=2.6673595905303955,disc loss=0.94501131772995, {hms_string(epoch_elapsed)}\n",
            "Epoch 87, gen loss=2.6171255111694336,disc loss=0.6120592951774597, {hms_string(epoch_elapsed)}\n",
            "Epoch 88, gen loss=3.486402750015259,disc loss=0.7420713305473328, {hms_string(epoch_elapsed)}\n",
            "Epoch 89, gen loss=2.898573160171509,disc loss=0.8647854328155518, {hms_string(epoch_elapsed)}\n",
            "Epoch 90, gen loss=2.5629336833953857,disc loss=0.8850005269050598, {hms_string(epoch_elapsed)}\n",
            "Epoch 91, gen loss=4.567616939544678,disc loss=1.1265077590942383, {hms_string(epoch_elapsed)}\n",
            "Epoch 92, gen loss=3.2568540573120117,disc loss=0.8915614485740662, {hms_string(epoch_elapsed)}\n",
            "Epoch 93, gen loss=3.1077001094818115,disc loss=0.8207883238792419, {hms_string(epoch_elapsed)}\n",
            "Epoch 94, gen loss=3.469114065170288,disc loss=0.951274573802948, {hms_string(epoch_elapsed)}\n",
            "Epoch 95, gen loss=3.361553907394409,disc loss=0.7800490260124207, {hms_string(epoch_elapsed)}\n",
            "Epoch 96, gen loss=4.188413143157959,disc loss=0.44363927841186523, {hms_string(epoch_elapsed)}\n",
            "Epoch 97, gen loss=3.044060707092285,disc loss=1.1814402341842651, {hms_string(epoch_elapsed)}\n",
            "Epoch 98, gen loss=2.944340944290161,disc loss=0.6443970799446106, {hms_string(epoch_elapsed)}\n",
            "Epoch 99, gen loss=3.3218135833740234,disc loss=0.506540060043335, {hms_string(epoch_elapsed)}\n",
            "Epoch 100, gen loss=2.8907458782196045,disc loss=0.5796905755996704, {hms_string(epoch_elapsed)}\n",
            "Epoch 101, gen loss=3.092413902282715,disc loss=0.7466378808021545, {hms_string(epoch_elapsed)}\n",
            "Epoch 102, gen loss=3.0595543384552,disc loss=0.5735142230987549, {hms_string(epoch_elapsed)}\n",
            "Epoch 103, gen loss=2.6426591873168945,disc loss=0.8677938580513, {hms_string(epoch_elapsed)}\n",
            "Epoch 104, gen loss=3.403917074203491,disc loss=0.414600133895874, {hms_string(epoch_elapsed)}\n",
            "Epoch 105, gen loss=3.0040664672851562,disc loss=0.6720492243766785, {hms_string(epoch_elapsed)}\n",
            "Epoch 106, gen loss=3.32148814201355,disc loss=0.7708994746208191, {hms_string(epoch_elapsed)}\n",
            "Epoch 107, gen loss=3.6284115314483643,disc loss=0.807142436504364, {hms_string(epoch_elapsed)}\n",
            "Epoch 108, gen loss=3.1437108516693115,disc loss=0.6422446370124817, {hms_string(epoch_elapsed)}\n",
            "Epoch 109, gen loss=3.2998924255371094,disc loss=0.6090815663337708, {hms_string(epoch_elapsed)}\n",
            "Epoch 110, gen loss=3.0458390712738037,disc loss=1.0175305604934692, {hms_string(epoch_elapsed)}\n",
            "Epoch 111, gen loss=4.0911431312561035,disc loss=0.40168437361717224, {hms_string(epoch_elapsed)}\n",
            "Epoch 112, gen loss=3.6415460109710693,disc loss=1.0997577905654907, {hms_string(epoch_elapsed)}\n",
            "Epoch 113, gen loss=3.5203123092651367,disc loss=0.6520521640777588, {hms_string(epoch_elapsed)}\n",
            "Epoch 114, gen loss=3.43597674369812,disc loss=0.8136000633239746, {hms_string(epoch_elapsed)}\n",
            "Epoch 115, gen loss=2.848318099975586,disc loss=0.998785674571991, {hms_string(epoch_elapsed)}\n",
            "Epoch 116, gen loss=2.786489725112915,disc loss=0.6660094261169434, {hms_string(epoch_elapsed)}\n",
            "Epoch 117, gen loss=3.638551712036133,disc loss=0.7884882092475891, {hms_string(epoch_elapsed)}\n",
            "Epoch 118, gen loss=2.954871416091919,disc loss=0.9114643931388855, {hms_string(epoch_elapsed)}\n",
            "Epoch 119, gen loss=4.840219497680664,disc loss=1.220537543296814, {hms_string(epoch_elapsed)}\n",
            "Epoch 120, gen loss=3.216252088546753,disc loss=0.6361191868782043, {hms_string(epoch_elapsed)}\n",
            "Epoch 121, gen loss=3.0350143909454346,disc loss=0.8831220269203186, {hms_string(epoch_elapsed)}\n",
            "Epoch 122, gen loss=4.103384017944336,disc loss=1.0333287715911865, {hms_string(epoch_elapsed)}\n",
            "Epoch 123, gen loss=4.207685947418213,disc loss=0.8707669377326965, {hms_string(epoch_elapsed)}\n",
            "Epoch 124, gen loss=3.7332923412323,disc loss=0.5613114833831787, {hms_string(epoch_elapsed)}\n",
            "Epoch 125, gen loss=3.8764755725860596,disc loss=0.9354855418205261, {hms_string(epoch_elapsed)}\n",
            "Epoch 126, gen loss=3.862975835800171,disc loss=0.937011182308197, {hms_string(epoch_elapsed)}\n",
            "Epoch 127, gen loss=2.9628963470458984,disc loss=0.8634083867073059, {hms_string(epoch_elapsed)}\n",
            "Epoch 128, gen loss=3.517981767654419,disc loss=0.9754404425621033, {hms_string(epoch_elapsed)}\n",
            "Epoch 129, gen loss=2.768479585647583,disc loss=0.8294601440429688, {hms_string(epoch_elapsed)}\n",
            "Epoch 130, gen loss=3.8067092895507812,disc loss=0.9296914935112, {hms_string(epoch_elapsed)}\n",
            "Epoch 131, gen loss=3.1802427768707275,disc loss=0.5401644110679626, {hms_string(epoch_elapsed)}\n",
            "Epoch 132, gen loss=3.6093857288360596,disc loss=0.6189269423484802, {hms_string(epoch_elapsed)}\n",
            "Epoch 133, gen loss=3.520369529724121,disc loss=0.5522237420082092, {hms_string(epoch_elapsed)}\n",
            "Epoch 134, gen loss=2.597346544265747,disc loss=0.8362446427345276, {hms_string(epoch_elapsed)}\n",
            "Epoch 135, gen loss=5.520625591278076,disc loss=0.20548366010189056, {hms_string(epoch_elapsed)}\n",
            "Epoch 136, gen loss=3.2463064193725586,disc loss=0.7150143980979919, {hms_string(epoch_elapsed)}\n",
            "Epoch 137, gen loss=3.8354690074920654,disc loss=0.44374462962150574, {hms_string(epoch_elapsed)}\n",
            "Epoch 138, gen loss=3.9669697284698486,disc loss=0.9638230800628662, {hms_string(epoch_elapsed)}\n",
            "Epoch 139, gen loss=3.3838346004486084,disc loss=0.4999973475933075, {hms_string(epoch_elapsed)}\n",
            "Epoch 140, gen loss=3.778630495071411,disc loss=0.4243399202823639, {hms_string(epoch_elapsed)}\n",
            "Epoch 141, gen loss=3.12691330909729,disc loss=0.4084986746311188, {hms_string(epoch_elapsed)}\n",
            "Epoch 142, gen loss=3.228119134902954,disc loss=0.4897406995296478, {hms_string(epoch_elapsed)}\n",
            "Epoch 143, gen loss=3.8552401065826416,disc loss=0.37156763672828674, {hms_string(epoch_elapsed)}\n",
            "Epoch 144, gen loss=3.3146164417266846,disc loss=0.6432163119316101, {hms_string(epoch_elapsed)}\n",
            "Epoch 145, gen loss=5.088764667510986,disc loss=1.3629716634750366, {hms_string(epoch_elapsed)}\n",
            "Epoch 146, gen loss=3.902693033218384,disc loss=0.9398561120033264, {hms_string(epoch_elapsed)}\n",
            "Epoch 147, gen loss=3.093890428543091,disc loss=1.010123372077942, {hms_string(epoch_elapsed)}\n",
            "Epoch 148, gen loss=4.499547481536865,disc loss=1.036453366279602, {hms_string(epoch_elapsed)}\n",
            "Epoch 149, gen loss=5.170097351074219,disc loss=1.229326844215393, {hms_string(epoch_elapsed)}\n",
            "Epoch 150, gen loss=4.098517894744873,disc loss=0.6529127359390259, {hms_string(epoch_elapsed)}\n",
            "Epoch 151, gen loss=4.025618076324463,disc loss=0.5326862335205078, {hms_string(epoch_elapsed)}\n",
            "Epoch 152, gen loss=3.67706298828125,disc loss=0.5512423515319824, {hms_string(epoch_elapsed)}\n",
            "Epoch 153, gen loss=3.3730127811431885,disc loss=0.46727216243743896, {hms_string(epoch_elapsed)}\n",
            "Epoch 154, gen loss=3.3620340824127197,disc loss=0.580596387386322, {hms_string(epoch_elapsed)}\n",
            "Epoch 155, gen loss=3.9947516918182373,disc loss=0.42369505763053894, {hms_string(epoch_elapsed)}\n",
            "Epoch 156, gen loss=3.436861276626587,disc loss=0.712916374206543, {hms_string(epoch_elapsed)}\n",
            "Epoch 157, gen loss=3.804115056991577,disc loss=0.9035990238189697, {hms_string(epoch_elapsed)}\n",
            "Epoch 158, gen loss=4.299679279327393,disc loss=0.5089154839515686, {hms_string(epoch_elapsed)}\n",
            "Epoch 159, gen loss=4.053523540496826,disc loss=0.6429193615913391, {hms_string(epoch_elapsed)}\n",
            "Epoch 160, gen loss=5.456363677978516,disc loss=0.4919213354587555, {hms_string(epoch_elapsed)}\n",
            "Epoch 161, gen loss=3.6177103519439697,disc loss=0.6016628742218018, {hms_string(epoch_elapsed)}\n",
            "Epoch 162, gen loss=3.614683151245117,disc loss=0.6982086300849915, {hms_string(epoch_elapsed)}\n",
            "Epoch 163, gen loss=3.6838436126708984,disc loss=0.49335619807243347, {hms_string(epoch_elapsed)}\n",
            "Epoch 164, gen loss=3.5797536373138428,disc loss=0.5632761120796204, {hms_string(epoch_elapsed)}\n",
            "Epoch 165, gen loss=4.669374465942383,disc loss=1.167106032371521, {hms_string(epoch_elapsed)}\n",
            "Epoch 166, gen loss=3.870523691177368,disc loss=1.1183801889419556, {hms_string(epoch_elapsed)}\n",
            "Epoch 167, gen loss=3.635268449783325,disc loss=0.3896060883998871, {hms_string(epoch_elapsed)}\n",
            "Epoch 168, gen loss=3.7388718128204346,disc loss=0.47344180941581726, {hms_string(epoch_elapsed)}\n",
            "Epoch 169, gen loss=3.57556414604187,disc loss=0.5578498244285583, {hms_string(epoch_elapsed)}\n",
            "Epoch 170, gen loss=4.293282985687256,disc loss=0.8796355128288269, {hms_string(epoch_elapsed)}\n",
            "Epoch 171, gen loss=4.067574977874756,disc loss=0.926839292049408, {hms_string(epoch_elapsed)}\n",
            "Epoch 172, gen loss=4.455995082855225,disc loss=1.2424861192703247, {hms_string(epoch_elapsed)}\n",
            "Epoch 173, gen loss=4.79031229019165,disc loss=0.9137775897979736, {hms_string(epoch_elapsed)}\n",
            "Epoch 174, gen loss=3.247196912765503,disc loss=0.6925860047340393, {hms_string(epoch_elapsed)}\n",
            "Epoch 175, gen loss=4.503921985626221,disc loss=0.8807134628295898, {hms_string(epoch_elapsed)}\n",
            "Epoch 176, gen loss=3.292104482650757,disc loss=0.5965946316719055, {hms_string(epoch_elapsed)}\n",
            "Epoch 177, gen loss=3.6841471195220947,disc loss=0.48018017411231995, {hms_string(epoch_elapsed)}\n",
            "Epoch 178, gen loss=2.90944766998291,disc loss=0.5393298864364624, {hms_string(epoch_elapsed)}\n",
            "Epoch 179, gen loss=3.899553060531616,disc loss=0.5196744799613953, {hms_string(epoch_elapsed)}\n",
            "Epoch 180, gen loss=5.0133280754089355,disc loss=0.5491929054260254, {hms_string(epoch_elapsed)}\n",
            "Epoch 181, gen loss=3.9026424884796143,disc loss=0.37410035729408264, {hms_string(epoch_elapsed)}\n",
            "Epoch 182, gen loss=3.4580605030059814,disc loss=0.5760905146598816, {hms_string(epoch_elapsed)}\n",
            "Epoch 183, gen loss=3.1734554767608643,disc loss=0.5270664095878601, {hms_string(epoch_elapsed)}\n",
            "Epoch 184, gen loss=4.566091060638428,disc loss=0.5202105045318604, {hms_string(epoch_elapsed)}\n",
            "Epoch 185, gen loss=3.511927843093872,disc loss=0.5637063384056091, {hms_string(epoch_elapsed)}\n",
            "Epoch 186, gen loss=3.794029474258423,disc loss=0.38818323612213135, {hms_string(epoch_elapsed)}\n",
            "Epoch 187, gen loss=3.2636468410491943,disc loss=0.5506114363670349, {hms_string(epoch_elapsed)}\n",
            "Epoch 188, gen loss=3.7656517028808594,disc loss=0.9747700095176697, {hms_string(epoch_elapsed)}\n",
            "Epoch 189, gen loss=3.8093650341033936,disc loss=0.7650141716003418, {hms_string(epoch_elapsed)}\n",
            "Epoch 190, gen loss=3.4595015048980713,disc loss=0.5733096599578857, {hms_string(epoch_elapsed)}\n",
            "Epoch 191, gen loss=3.4478366374969482,disc loss=0.589876651763916, {hms_string(epoch_elapsed)}\n",
            "Epoch 192, gen loss=4.033779621124268,disc loss=0.47060832381248474, {hms_string(epoch_elapsed)}\n",
            "Epoch 193, gen loss=3.200101613998413,disc loss=0.6177346110343933, {hms_string(epoch_elapsed)}\n",
            "Epoch 194, gen loss=5.180425643920898,disc loss=1.2195231914520264, {hms_string(epoch_elapsed)}\n",
            "Epoch 195, gen loss=4.592027187347412,disc loss=0.6037026643753052, {hms_string(epoch_elapsed)}\n",
            "Epoch 196, gen loss=3.7892744541168213,disc loss=0.5340113043785095, {hms_string(epoch_elapsed)}\n",
            "Epoch 197, gen loss=3.4527103900909424,disc loss=0.4052826464176178, {hms_string(epoch_elapsed)}\n",
            "Epoch 198, gen loss=3.5934207439422607,disc loss=0.5289578437805176, {hms_string(epoch_elapsed)}\n",
            "Epoch 199, gen loss=4.76676607131958,disc loss=1.1492072343826294, {hms_string(epoch_elapsed)}\n",
            "Epoch 200, gen loss=3.7391860485076904,disc loss=0.584231436252594, {hms_string(epoch_elapsed)}\n",
            "Epoch 201, gen loss=5.353706359863281,disc loss=1.5188426971435547, {hms_string(epoch_elapsed)}\n",
            "Epoch 202, gen loss=5.286868572235107,disc loss=0.5847374796867371, {hms_string(epoch_elapsed)}\n",
            "Epoch 203, gen loss=4.2449750900268555,disc loss=0.49087226390838623, {hms_string(epoch_elapsed)}\n",
            "Epoch 204, gen loss=4.519240856170654,disc loss=0.3794828951358795, {hms_string(epoch_elapsed)}\n",
            "Epoch 205, gen loss=3.2061240673065186,disc loss=0.4699368476867676, {hms_string(epoch_elapsed)}\n",
            "Epoch 206, gen loss=3.606010675430298,disc loss=0.726205050945282, {hms_string(epoch_elapsed)}\n",
            "Epoch 207, gen loss=4.7506818771362305,disc loss=1.3397833108901978, {hms_string(epoch_elapsed)}\n",
            "Epoch 208, gen loss=5.001744747161865,disc loss=0.6107011437416077, {hms_string(epoch_elapsed)}\n",
            "Epoch 209, gen loss=4.4281744956970215,disc loss=0.5602542757987976, {hms_string(epoch_elapsed)}\n",
            "Epoch 210, gen loss=5.5372090339660645,disc loss=0.6720680594444275, {hms_string(epoch_elapsed)}\n",
            "Epoch 211, gen loss=6.1868462562561035,disc loss=1.094184160232544, {hms_string(epoch_elapsed)}\n",
            "Epoch 212, gen loss=4.432511329650879,disc loss=0.590960681438446, {hms_string(epoch_elapsed)}\n",
            "Epoch 213, gen loss=3.7837717533111572,disc loss=0.46246710419654846, {hms_string(epoch_elapsed)}\n",
            "Epoch 214, gen loss=4.3602423667907715,disc loss=0.42289888858795166, {hms_string(epoch_elapsed)}\n",
            "Epoch 215, gen loss=3.892806053161621,disc loss=0.27772799134254456, {hms_string(epoch_elapsed)}\n",
            "Epoch 216, gen loss=4.524345397949219,disc loss=0.8537378311157227, {hms_string(epoch_elapsed)}\n",
            "Epoch 217, gen loss=4.353653430938721,disc loss=0.7389988899230957, {hms_string(epoch_elapsed)}\n",
            "Epoch 218, gen loss=4.720347881317139,disc loss=1.1153312921524048, {hms_string(epoch_elapsed)}\n",
            "Epoch 219, gen loss=3.275571823120117,disc loss=0.7931172847747803, {hms_string(epoch_elapsed)}\n",
            "Epoch 220, gen loss=3.8110010623931885,disc loss=0.46892276406288147, {hms_string(epoch_elapsed)}\n",
            "Epoch 221, gen loss=4.831828594207764,disc loss=0.7462652325630188, {hms_string(epoch_elapsed)}\n",
            "Epoch 222, gen loss=4.829962253570557,disc loss=1.0422228574752808, {hms_string(epoch_elapsed)}\n",
            "Epoch 223, gen loss=3.650624990463257,disc loss=0.5690589547157288, {hms_string(epoch_elapsed)}\n",
            "Epoch 224, gen loss=4.826331615447998,disc loss=0.7056086659431458, {hms_string(epoch_elapsed)}\n",
            "Epoch 225, gen loss=4.201265811920166,disc loss=0.32958272099494934, {hms_string(epoch_elapsed)}\n",
            "Epoch 226, gen loss=3.344177484512329,disc loss=0.4708348214626312, {hms_string(epoch_elapsed)}\n",
            "Epoch 227, gen loss=5.818408966064453,disc loss=0.8977662920951843, {hms_string(epoch_elapsed)}\n",
            "Epoch 228, gen loss=3.2155933380126953,disc loss=0.4434814453125, {hms_string(epoch_elapsed)}\n",
            "Epoch 229, gen loss=4.19041633605957,disc loss=0.6083387732505798, {hms_string(epoch_elapsed)}\n",
            "Epoch 230, gen loss=3.4995405673980713,disc loss=0.37202420830726624, {hms_string(epoch_elapsed)}\n",
            "Epoch 231, gen loss=3.8512134552001953,disc loss=0.5104478001594543, {hms_string(epoch_elapsed)}\n",
            "Epoch 232, gen loss=4.325786113739014,disc loss=0.7701669335365295, {hms_string(epoch_elapsed)}\n",
            "Epoch 233, gen loss=5.5810465812683105,disc loss=1.2297905683517456, {hms_string(epoch_elapsed)}\n",
            "Epoch 234, gen loss=3.2494781017303467,disc loss=0.4509274959564209, {hms_string(epoch_elapsed)}\n",
            "Epoch 235, gen loss=4.400486469268799,disc loss=0.32038816809654236, {hms_string(epoch_elapsed)}\n",
            "Epoch 236, gen loss=4.777781009674072,disc loss=0.5565724968910217, {hms_string(epoch_elapsed)}\n",
            "Epoch 237, gen loss=3.4684345722198486,disc loss=0.45054522156715393, {hms_string(epoch_elapsed)}\n",
            "Epoch 238, gen loss=3.6961066722869873,disc loss=0.3969915807247162, {hms_string(epoch_elapsed)}\n",
            "Epoch 239, gen loss=5.668972015380859,disc loss=1.4272414445877075, {hms_string(epoch_elapsed)}\n",
            "Epoch 240, gen loss=4.265237808227539,disc loss=0.6218506097793579, {hms_string(epoch_elapsed)}\n",
            "Epoch 241, gen loss=4.227336406707764,disc loss=0.30112943053245544, {hms_string(epoch_elapsed)}\n",
            "Epoch 242, gen loss=3.9017980098724365,disc loss=0.30012163519859314, {hms_string(epoch_elapsed)}\n",
            "Epoch 243, gen loss=3.8049631118774414,disc loss=0.4971520006656647, {hms_string(epoch_elapsed)}\n",
            "Epoch 244, gen loss=5.8788628578186035,disc loss=0.4561612904071808, {hms_string(epoch_elapsed)}\n",
            "Epoch 245, gen loss=4.866852283477783,disc loss=0.6596828103065491, {hms_string(epoch_elapsed)}\n",
            "Epoch 246, gen loss=3.849470376968384,disc loss=0.5109609961509705, {hms_string(epoch_elapsed)}\n",
            "Epoch 247, gen loss=3.4742767810821533,disc loss=0.5717015862464905, {hms_string(epoch_elapsed)}\n",
            "Epoch 248, gen loss=4.060439586639404,disc loss=0.48109039664268494, {hms_string(epoch_elapsed)}\n",
            "Epoch 249, gen loss=3.254063844680786,disc loss=0.4617578089237213, {hms_string(epoch_elapsed)}\n",
            "Epoch 250, gen loss=3.9126923084259033,disc loss=0.2941296398639679, {hms_string(epoch_elapsed)}\n",
            "Epoch 251, gen loss=3.2885806560516357,disc loss=0.48627969622612, {hms_string(epoch_elapsed)}\n",
            "Epoch 252, gen loss=4.090944290161133,disc loss=0.25708460807800293, {hms_string(epoch_elapsed)}\n",
            "Epoch 253, gen loss=3.6233971118927,disc loss=0.3811500072479248, {hms_string(epoch_elapsed)}\n",
            "Epoch 254, gen loss=3.9799559116363525,disc loss=0.6735239028930664, {hms_string(epoch_elapsed)}\n",
            "Epoch 255, gen loss=6.384208679199219,disc loss=1.230710506439209, {hms_string(epoch_elapsed)}\n",
            "Epoch 256, gen loss=3.8367321491241455,disc loss=0.5560640692710876, {hms_string(epoch_elapsed)}\n",
            "Epoch 257, gen loss=3.3478662967681885,disc loss=0.538989782333374, {hms_string(epoch_elapsed)}\n",
            "Epoch 258, gen loss=6.905575275421143,disc loss=1.3867530822753906, {hms_string(epoch_elapsed)}\n",
            "Epoch 259, gen loss=4.228269100189209,disc loss=0.6832666397094727, {hms_string(epoch_elapsed)}\n",
            "Epoch 260, gen loss=3.3326966762542725,disc loss=0.5112281441688538, {hms_string(epoch_elapsed)}\n",
            "Epoch 261, gen loss=3.2671267986297607,disc loss=0.5359512567520142, {hms_string(epoch_elapsed)}\n",
            "Epoch 262, gen loss=4.396084785461426,disc loss=0.34303829073905945, {hms_string(epoch_elapsed)}\n",
            "Epoch 263, gen loss=4.013392448425293,disc loss=0.31980302929878235, {hms_string(epoch_elapsed)}\n",
            "Epoch 264, gen loss=3.553518056869507,disc loss=0.49545106291770935, {hms_string(epoch_elapsed)}\n",
            "Epoch 265, gen loss=6.191307544708252,disc loss=1.2214179039001465, {hms_string(epoch_elapsed)}\n",
            "Epoch 266, gen loss=3.8538150787353516,disc loss=0.5055612325668335, {hms_string(epoch_elapsed)}\n",
            "Epoch 267, gen loss=3.983379364013672,disc loss=0.6041556596755981, {hms_string(epoch_elapsed)}\n",
            "Epoch 268, gen loss=3.6761367321014404,disc loss=0.3392608165740967, {hms_string(epoch_elapsed)}\n",
            "Epoch 269, gen loss=4.82790994644165,disc loss=0.6015352606773376, {hms_string(epoch_elapsed)}\n",
            "Epoch 270, gen loss=3.8927018642425537,disc loss=0.5689884424209595, {hms_string(epoch_elapsed)}\n",
            "Epoch 271, gen loss=4.028794765472412,disc loss=0.42659804224967957, {hms_string(epoch_elapsed)}\n",
            "Epoch 272, gen loss=3.8572585582733154,disc loss=0.46972858905792236, {hms_string(epoch_elapsed)}\n",
            "Epoch 273, gen loss=4.4477152824401855,disc loss=0.6709153056144714, {hms_string(epoch_elapsed)}\n",
            "Epoch 274, gen loss=4.605817794799805,disc loss=0.4376175105571747, {hms_string(epoch_elapsed)}\n",
            "Epoch 275, gen loss=4.360698699951172,disc loss=0.2709769904613495, {hms_string(epoch_elapsed)}\n",
            "Epoch 276, gen loss=4.949523448944092,disc loss=0.7884146571159363, {hms_string(epoch_elapsed)}\n",
            "Epoch 277, gen loss=3.9189624786376953,disc loss=0.5335776805877686, {hms_string(epoch_elapsed)}\n",
            "Epoch 278, gen loss=5.862880229949951,disc loss=0.5634017586708069, {hms_string(epoch_elapsed)}\n",
            "Epoch 279, gen loss=5.19089412689209,disc loss=0.41971123218536377, {hms_string(epoch_elapsed)}\n",
            "Epoch 280, gen loss=4.076916217803955,disc loss=0.36762309074401855, {hms_string(epoch_elapsed)}\n",
            "Epoch 281, gen loss=3.503401041030884,disc loss=0.6530357003211975, {hms_string(epoch_elapsed)}\n",
            "Epoch 282, gen loss=3.9421908855438232,disc loss=1.1993892192840576, {hms_string(epoch_elapsed)}\n",
            "Epoch 283, gen loss=10.242410659790039,disc loss=0.5376145839691162, {hms_string(epoch_elapsed)}\n",
            "Epoch 284, gen loss=6.201165676116943,disc loss=0.40506991744041443, {hms_string(epoch_elapsed)}\n",
            "Epoch 285, gen loss=3.7255630493164062,disc loss=0.353625625371933, {hms_string(epoch_elapsed)}\n",
            "Epoch 286, gen loss=3.9354732036590576,disc loss=0.3837924897670746, {hms_string(epoch_elapsed)}\n",
            "Epoch 287, gen loss=6.270222187042236,disc loss=0.7237833142280579, {hms_string(epoch_elapsed)}\n",
            "Epoch 288, gen loss=4.397202491760254,disc loss=0.49403318762779236, {hms_string(epoch_elapsed)}\n",
            "Epoch 289, gen loss=6.336419582366943,disc loss=0.22125911712646484, {hms_string(epoch_elapsed)}\n",
            "Epoch 290, gen loss=4.3942646980285645,disc loss=0.2538210153579712, {hms_string(epoch_elapsed)}\n",
            "Epoch 291, gen loss=4.710185527801514,disc loss=0.5533227920532227, {hms_string(epoch_elapsed)}\n",
            "Epoch 292, gen loss=3.7328360080718994,disc loss=1.0192170143127441, {hms_string(epoch_elapsed)}\n",
            "Epoch 293, gen loss=4.589744567871094,disc loss=0.4495818316936493, {hms_string(epoch_elapsed)}\n",
            "Epoch 294, gen loss=4.509215831756592,disc loss=0.25263869762420654, {hms_string(epoch_elapsed)}\n",
            "Epoch 295, gen loss=3.6530845165252686,disc loss=0.24491055309772491, {hms_string(epoch_elapsed)}\n",
            "Epoch 296, gen loss=4.310909271240234,disc loss=0.564551830291748, {hms_string(epoch_elapsed)}\n",
            "Epoch 297, gen loss=4.773433685302734,disc loss=0.9806549549102783, {hms_string(epoch_elapsed)}\n",
            "Epoch 298, gen loss=4.626372814178467,disc loss=0.43502381443977356, {hms_string(epoch_elapsed)}\n",
            "Epoch 299, gen loss=3.9799625873565674,disc loss=0.4732334315776825, {hms_string(epoch_elapsed)}\n",
            "Epoch 300, gen loss=4.687326908111572,disc loss=0.40509524941444397, {hms_string(epoch_elapsed)}\n",
            "Epoch 301, gen loss=4.518962860107422,disc loss=0.5598562359809875, {hms_string(epoch_elapsed)}\n",
            "Epoch 302, gen loss=6.544403553009033,disc loss=1.3548451662063599, {hms_string(epoch_elapsed)}\n",
            "Epoch 303, gen loss=4.272704601287842,disc loss=0.4656740128993988, {hms_string(epoch_elapsed)}\n",
            "Epoch 304, gen loss=3.8580105304718018,disc loss=0.49600350856781006, {hms_string(epoch_elapsed)}\n",
            "Epoch 305, gen loss=4.487371444702148,disc loss=0.35569584369659424, {hms_string(epoch_elapsed)}\n",
            "Epoch 306, gen loss=3.9966259002685547,disc loss=0.36667370796203613, {hms_string(epoch_elapsed)}\n",
            "Epoch 307, gen loss=3.664423704147339,disc loss=0.5519588589668274, {hms_string(epoch_elapsed)}\n",
            "Epoch 308, gen loss=4.64121675491333,disc loss=0.6666505932807922, {hms_string(epoch_elapsed)}\n",
            "Epoch 309, gen loss=4.645244598388672,disc loss=0.3301841616630554, {hms_string(epoch_elapsed)}\n",
            "Epoch 310, gen loss=3.526458501815796,disc loss=0.380713552236557, {hms_string(epoch_elapsed)}\n",
            "Epoch 311, gen loss=4.295419692993164,disc loss=0.6892099380493164, {hms_string(epoch_elapsed)}\n",
            "Epoch 312, gen loss=4.133683681488037,disc loss=0.24108199775218964, {hms_string(epoch_elapsed)}\n",
            "Epoch 313, gen loss=3.739654541015625,disc loss=0.5363271832466125, {hms_string(epoch_elapsed)}\n",
            "Epoch 314, gen loss=5.93954610824585,disc loss=0.7981659770011902, {hms_string(epoch_elapsed)}\n",
            "Epoch 315, gen loss=4.023993015289307,disc loss=0.44241347908973694, {hms_string(epoch_elapsed)}\n",
            "Epoch 316, gen loss=4.913110733032227,disc loss=0.5609404444694519, {hms_string(epoch_elapsed)}\n",
            "Epoch 317, gen loss=6.064746856689453,disc loss=0.8735821843147278, {hms_string(epoch_elapsed)}\n",
            "Epoch 318, gen loss=4.4953932762146,disc loss=0.2415747046470642, {hms_string(epoch_elapsed)}\n",
            "Epoch 319, gen loss=4.617032527923584,disc loss=0.296073317527771, {hms_string(epoch_elapsed)}\n",
            "Epoch 320, gen loss=4.637269496917725,disc loss=0.2221425175666809, {hms_string(epoch_elapsed)}\n",
            "Epoch 321, gen loss=4.672108173370361,disc loss=0.42557433247566223, {hms_string(epoch_elapsed)}\n",
            "Epoch 322, gen loss=4.936886310577393,disc loss=0.6302677392959595, {hms_string(epoch_elapsed)}\n",
            "Epoch 323, gen loss=3.890730619430542,disc loss=0.4737691581249237, {hms_string(epoch_elapsed)}\n",
            "Epoch 324, gen loss=5.317596912384033,disc loss=0.35573992133140564, {hms_string(epoch_elapsed)}\n",
            "Epoch 325, gen loss=4.760819435119629,disc loss=0.5365187525749207, {hms_string(epoch_elapsed)}\n",
            "Epoch 326, gen loss=4.668902397155762,disc loss=0.3555324077606201, {hms_string(epoch_elapsed)}\n",
            "Epoch 327, gen loss=5.496934413909912,disc loss=0.1877598911523819, {hms_string(epoch_elapsed)}\n",
            "Epoch 328, gen loss=5.190932750701904,disc loss=0.5644229650497437, {hms_string(epoch_elapsed)}\n",
            "Epoch 329, gen loss=4.654263973236084,disc loss=0.35637304186820984, {hms_string(epoch_elapsed)}\n",
            "Epoch 330, gen loss=4.550711631774902,disc loss=0.32159164547920227, {hms_string(epoch_elapsed)}\n",
            "Epoch 331, gen loss=5.380304336547852,disc loss=1.1167354583740234, {hms_string(epoch_elapsed)}\n",
            "Epoch 332, gen loss=5.9363884925842285,disc loss=0.3035557270050049, {hms_string(epoch_elapsed)}\n",
            "Epoch 333, gen loss=4.66555643081665,disc loss=0.3890949487686157, {hms_string(epoch_elapsed)}\n",
            "Epoch 334, gen loss=3.4987573623657227,disc loss=0.46999308466911316, {hms_string(epoch_elapsed)}\n",
            "Epoch 335, gen loss=4.130425930023193,disc loss=0.6231390833854675, {hms_string(epoch_elapsed)}\n",
            "Epoch 336, gen loss=4.7506489753723145,disc loss=0.6642472743988037, {hms_string(epoch_elapsed)}\n",
            "Epoch 337, gen loss=4.644846439361572,disc loss=0.6328364014625549, {hms_string(epoch_elapsed)}\n",
            "Epoch 338, gen loss=3.4691028594970703,disc loss=0.43409183621406555, {hms_string(epoch_elapsed)}\n",
            "Epoch 339, gen loss=4.335663318634033,disc loss=0.41232308745384216, {hms_string(epoch_elapsed)}\n",
            "Epoch 340, gen loss=5.054940700531006,disc loss=0.30304601788520813, {hms_string(epoch_elapsed)}\n",
            "Epoch 341, gen loss=4.488706588745117,disc loss=0.3593083322048187, {hms_string(epoch_elapsed)}\n",
            "Epoch 342, gen loss=4.176843166351318,disc loss=0.3495405912399292, {hms_string(epoch_elapsed)}\n",
            "Epoch 343, gen loss=3.5873496532440186,disc loss=0.3829261362552643, {hms_string(epoch_elapsed)}\n",
            "Epoch 344, gen loss=4.381279468536377,disc loss=0.8099868893623352, {hms_string(epoch_elapsed)}\n",
            "Epoch 345, gen loss=6.549172878265381,disc loss=0.2827199697494507, {hms_string(epoch_elapsed)}\n",
            "Epoch 346, gen loss=4.609519958496094,disc loss=0.29042378067970276, {hms_string(epoch_elapsed)}\n",
            "Epoch 347, gen loss=4.045678615570068,disc loss=0.49470648169517517, {hms_string(epoch_elapsed)}\n",
            "Epoch 348, gen loss=4.874152183532715,disc loss=0.5885599255561829, {hms_string(epoch_elapsed)}\n",
            "Epoch 349, gen loss=4.0925374031066895,disc loss=0.5675520300865173, {hms_string(epoch_elapsed)}\n",
            "Epoch 350, gen loss=5.087752342224121,disc loss=1.7811150550842285, {hms_string(epoch_elapsed)}\n",
            "Epoch 351, gen loss=6.364077091217041,disc loss=0.3662296235561371, {hms_string(epoch_elapsed)}\n",
            "Epoch 352, gen loss=3.8257551193237305,disc loss=0.6569206118583679, {hms_string(epoch_elapsed)}\n",
            "Epoch 353, gen loss=6.7081618309021,disc loss=0.4795394837856293, {hms_string(epoch_elapsed)}\n",
            "Epoch 354, gen loss=6.047186374664307,disc loss=0.513117790222168, {hms_string(epoch_elapsed)}\n",
            "Epoch 355, gen loss=4.245232105255127,disc loss=0.5111055374145508, {hms_string(epoch_elapsed)}\n",
            "Epoch 356, gen loss=3.737421989440918,disc loss=0.470424622297287, {hms_string(epoch_elapsed)}\n",
            "Epoch 357, gen loss=5.506189823150635,disc loss=1.128027319908142, {hms_string(epoch_elapsed)}\n",
            "Epoch 358, gen loss=5.347681045532227,disc loss=0.40187594294548035, {hms_string(epoch_elapsed)}\n",
            "Epoch 359, gen loss=3.5847644805908203,disc loss=0.47404348850250244, {hms_string(epoch_elapsed)}\n",
            "Epoch 360, gen loss=3.971203565597534,disc loss=0.46697965264320374, {hms_string(epoch_elapsed)}\n",
            "Epoch 361, gen loss=4.88343620300293,disc loss=0.30179765820503235, {hms_string(epoch_elapsed)}\n",
            "Epoch 362, gen loss=3.991030693054199,disc loss=0.5030825734138489, {hms_string(epoch_elapsed)}\n",
            "Epoch 363, gen loss=4.039529323577881,disc loss=0.3430880606174469, {hms_string(epoch_elapsed)}\n",
            "Epoch 364, gen loss=4.129561901092529,disc loss=0.4397132694721222, {hms_string(epoch_elapsed)}\n",
            "Epoch 365, gen loss=3.888399124145508,disc loss=0.7733547687530518, {hms_string(epoch_elapsed)}\n",
            "Epoch 366, gen loss=7.76460599899292,disc loss=0.3075611889362335, {hms_string(epoch_elapsed)}\n",
            "Epoch 367, gen loss=4.884450435638428,disc loss=0.5055670142173767, {hms_string(epoch_elapsed)}\n",
            "Epoch 368, gen loss=5.335000991821289,disc loss=0.2642747461795807, {hms_string(epoch_elapsed)}\n",
            "Epoch 369, gen loss=3.9365196228027344,disc loss=0.31456413865089417, {hms_string(epoch_elapsed)}\n",
            "Epoch 370, gen loss=4.472634792327881,disc loss=0.3247124254703522, {hms_string(epoch_elapsed)}\n",
            "Epoch 371, gen loss=3.5457680225372314,disc loss=0.24362713098526, {hms_string(epoch_elapsed)}\n",
            "Epoch 372, gen loss=5.497975826263428,disc loss=0.763256847858429, {hms_string(epoch_elapsed)}\n",
            "Epoch 373, gen loss=4.157181262969971,disc loss=0.5858713984489441, {hms_string(epoch_elapsed)}\n",
            "Epoch 374, gen loss=4.902242660522461,disc loss=0.305056095123291, {hms_string(epoch_elapsed)}\n",
            "Epoch 375, gen loss=3.501100778579712,disc loss=0.42081698775291443, {hms_string(epoch_elapsed)}\n",
            "Epoch 376, gen loss=3.811664581298828,disc loss=0.46463093161582947, {hms_string(epoch_elapsed)}\n",
            "Epoch 377, gen loss=5.22371244430542,disc loss=0.3419460952281952, {hms_string(epoch_elapsed)}\n",
            "Epoch 378, gen loss=6.221218585968018,disc loss=1.1223880052566528, {hms_string(epoch_elapsed)}\n",
            "Epoch 379, gen loss=4.668299198150635,disc loss=0.5150173306465149, {hms_string(epoch_elapsed)}\n",
            "Epoch 380, gen loss=4.81838846206665,disc loss=0.24823184311389923, {hms_string(epoch_elapsed)}\n",
            "Epoch 381, gen loss=4.3446149826049805,disc loss=0.4182802438735962, {hms_string(epoch_elapsed)}\n",
            "Epoch 382, gen loss=5.015119552612305,disc loss=0.6497461795806885, {hms_string(epoch_elapsed)}\n",
            "Epoch 383, gen loss=4.35123872756958,disc loss=0.3392343819141388, {hms_string(epoch_elapsed)}\n",
            "Epoch 384, gen loss=7.686618328094482,disc loss=0.9464771151542664, {hms_string(epoch_elapsed)}\n",
            "Epoch 385, gen loss=5.429956436157227,disc loss=0.32881203293800354, {hms_string(epoch_elapsed)}\n",
            "Epoch 386, gen loss=4.228827953338623,disc loss=0.34166666865348816, {hms_string(epoch_elapsed)}\n",
            "Epoch 387, gen loss=5.4112548828125,disc loss=0.4408436119556427, {hms_string(epoch_elapsed)}\n",
            "Epoch 388, gen loss=4.449216842651367,disc loss=0.2282673567533493, {hms_string(epoch_elapsed)}\n",
            "Epoch 389, gen loss=5.157134532928467,disc loss=0.9253540635108948, {hms_string(epoch_elapsed)}\n",
            "Epoch 390, gen loss=6.027251720428467,disc loss=0.33038511872291565, {hms_string(epoch_elapsed)}\n",
            "Epoch 391, gen loss=5.715831279754639,disc loss=0.3327413499355316, {hms_string(epoch_elapsed)}\n",
            "Epoch 392, gen loss=4.745098114013672,disc loss=0.39130899310112, {hms_string(epoch_elapsed)}\n",
            "Epoch 393, gen loss=5.0001349449157715,disc loss=0.5855083465576172, {hms_string(epoch_elapsed)}\n",
            "Epoch 394, gen loss=4.035983562469482,disc loss=0.18632382154464722, {hms_string(epoch_elapsed)}\n",
            "Epoch 395, gen loss=4.284053325653076,disc loss=0.39996764063835144, {hms_string(epoch_elapsed)}\n",
            "Epoch 396, gen loss=4.052910327911377,disc loss=0.3982807695865631, {hms_string(epoch_elapsed)}\n",
            "Epoch 397, gen loss=5.711337566375732,disc loss=0.6895373463630676, {hms_string(epoch_elapsed)}\n",
            "Epoch 398, gen loss=5.9462971687316895,disc loss=0.7657744884490967, {hms_string(epoch_elapsed)}\n",
            "Epoch 399, gen loss=3.847954750061035,disc loss=0.4325028359889984, {hms_string(epoch_elapsed)}\n",
            "Epoch 400, gen loss=4.799839973449707,disc loss=0.4183330535888672, {hms_string(epoch_elapsed)}\n",
            "Epoch 401, gen loss=4.219420909881592,disc loss=0.4168052673339844, {hms_string(epoch_elapsed)}\n",
            "Epoch 402, gen loss=4.311578750610352,disc loss=0.3026580214500427, {hms_string(epoch_elapsed)}\n",
            "Epoch 403, gen loss=4.755758762359619,disc loss=0.47294339537620544, {hms_string(epoch_elapsed)}\n",
            "Epoch 404, gen loss=4.977842330932617,disc loss=0.40984001755714417, {hms_string(epoch_elapsed)}\n",
            "Epoch 405, gen loss=7.782556056976318,disc loss=0.8311376571655273, {hms_string(epoch_elapsed)}\n",
            "Epoch 406, gen loss=4.665182590484619,disc loss=0.4748271405696869, {hms_string(epoch_elapsed)}\n",
            "Epoch 407, gen loss=6.217286586761475,disc loss=1.2088578939437866, {hms_string(epoch_elapsed)}\n",
            "Epoch 408, gen loss=4.71957540512085,disc loss=0.6437925696372986, {hms_string(epoch_elapsed)}\n",
            "Epoch 409, gen loss=4.874258518218994,disc loss=1.2729694843292236, {hms_string(epoch_elapsed)}\n",
            "Epoch 410, gen loss=4.50502347946167,disc loss=0.22744958102703094, {hms_string(epoch_elapsed)}\n",
            "Epoch 411, gen loss=5.176583290100098,disc loss=0.5405780076980591, {hms_string(epoch_elapsed)}\n",
            "Epoch 412, gen loss=9.756155014038086,disc loss=0.9529950022697449, {hms_string(epoch_elapsed)}\n",
            "Epoch 413, gen loss=5.988018035888672,disc loss=0.24928981065750122, {hms_string(epoch_elapsed)}\n",
            "Epoch 414, gen loss=5.831081390380859,disc loss=0.3961165249347687, {hms_string(epoch_elapsed)}\n",
            "Epoch 415, gen loss=4.829373836517334,disc loss=0.24040824174880981, {hms_string(epoch_elapsed)}\n",
            "Epoch 416, gen loss=5.810414791107178,disc loss=0.7693639397621155, {hms_string(epoch_elapsed)}\n",
            "Epoch 417, gen loss=4.507867813110352,disc loss=0.4277055263519287, {hms_string(epoch_elapsed)}\n",
            "Epoch 418, gen loss=4.401560306549072,disc loss=0.34214141964912415, {hms_string(epoch_elapsed)}\n",
            "Epoch 419, gen loss=5.1819562911987305,disc loss=0.27112817764282227, {hms_string(epoch_elapsed)}\n",
            "Epoch 420, gen loss=3.847811460494995,disc loss=0.6687595248222351, {hms_string(epoch_elapsed)}\n",
            "Epoch 421, gen loss=8.289724349975586,disc loss=0.41691121459007263, {hms_string(epoch_elapsed)}\n",
            "Epoch 422, gen loss=4.447326183319092,disc loss=0.42911872267723083, {hms_string(epoch_elapsed)}\n",
            "Epoch 423, gen loss=3.9652652740478516,disc loss=0.2769591510295868, {hms_string(epoch_elapsed)}\n",
            "Epoch 424, gen loss=4.694510459899902,disc loss=0.5962904095649719, {hms_string(epoch_elapsed)}\n",
            "Epoch 425, gen loss=4.225905418395996,disc loss=0.45602288842201233, {hms_string(epoch_elapsed)}\n",
            "Epoch 426, gen loss=4.543467044830322,disc loss=0.08600878715515137, {hms_string(epoch_elapsed)}\n",
            "Epoch 427, gen loss=7.716216564178467,disc loss=0.3588602840900421, {hms_string(epoch_elapsed)}\n",
            "Epoch 428, gen loss=5.088900089263916,disc loss=1.073508858680725, {hms_string(epoch_elapsed)}\n",
            "Epoch 429, gen loss=4.54710054397583,disc loss=0.7428489327430725, {hms_string(epoch_elapsed)}\n",
            "Epoch 430, gen loss=5.156137943267822,disc loss=0.31994426250457764, {hms_string(epoch_elapsed)}\n",
            "Epoch 431, gen loss=4.208033084869385,disc loss=0.22984397411346436, {hms_string(epoch_elapsed)}\n",
            "Epoch 432, gen loss=4.860073566436768,disc loss=0.4553457498550415, {hms_string(epoch_elapsed)}\n",
            "Epoch 433, gen loss=6.9840264320373535,disc loss=0.9345700740814209, {hms_string(epoch_elapsed)}\n",
            "Epoch 434, gen loss=6.787267208099365,disc loss=0.6084468364715576, {hms_string(epoch_elapsed)}\n",
            "Epoch 435, gen loss=5.325821399688721,disc loss=0.43710628151893616, {hms_string(epoch_elapsed)}\n",
            "Epoch 436, gen loss=5.030454635620117,disc loss=0.6761252880096436, {hms_string(epoch_elapsed)}\n",
            "Epoch 437, gen loss=6.192176818847656,disc loss=0.9867174625396729, {hms_string(epoch_elapsed)}\n",
            "Epoch 438, gen loss=3.9804344177246094,disc loss=0.5813285708427429, {hms_string(epoch_elapsed)}\n",
            "Epoch 439, gen loss=6.005937099456787,disc loss=0.6221000552177429, {hms_string(epoch_elapsed)}\n",
            "Epoch 440, gen loss=4.226102352142334,disc loss=0.6288952231407166, {hms_string(epoch_elapsed)}\n",
            "Epoch 441, gen loss=4.79685115814209,disc loss=0.6399129033088684, {hms_string(epoch_elapsed)}\n",
            "Epoch 442, gen loss=4.111260890960693,disc loss=0.4567863941192627, {hms_string(epoch_elapsed)}\n",
            "Epoch 443, gen loss=6.821073055267334,disc loss=0.7362227439880371, {hms_string(epoch_elapsed)}\n",
            "Epoch 444, gen loss=6.670282363891602,disc loss=0.28413429856300354, {hms_string(epoch_elapsed)}\n",
            "Epoch 445, gen loss=5.012550354003906,disc loss=0.5308392643928528, {hms_string(epoch_elapsed)}\n",
            "Epoch 446, gen loss=5.380119323730469,disc loss=0.746793270111084, {hms_string(epoch_elapsed)}\n",
            "Epoch 447, gen loss=4.863443851470947,disc loss=0.41853538155555725, {hms_string(epoch_elapsed)}\n",
            "Epoch 448, gen loss=4.8879289627075195,disc loss=0.9719939231872559, {hms_string(epoch_elapsed)}\n",
            "Epoch 449, gen loss=3.7369229793548584,disc loss=0.8640298247337341, {hms_string(epoch_elapsed)}\n",
            "Epoch 450, gen loss=5.442219257354736,disc loss=0.5189663767814636, {hms_string(epoch_elapsed)}\n",
            "Epoch 451, gen loss=5.63434362411499,disc loss=1.2002390623092651, {hms_string(epoch_elapsed)}\n",
            "Epoch 452, gen loss=3.9880692958831787,disc loss=0.47749826312065125, {hms_string(epoch_elapsed)}\n",
            "Epoch 453, gen loss=4.60823392868042,disc loss=0.32571619749069214, {hms_string(epoch_elapsed)}\n",
            "Epoch 454, gen loss=3.8027122020721436,disc loss=0.370047003030777, {hms_string(epoch_elapsed)}\n",
            "Epoch 455, gen loss=4.196842670440674,disc loss=0.46034181118011475, {hms_string(epoch_elapsed)}\n",
            "Epoch 456, gen loss=4.075582027435303,disc loss=0.4741445481777191, {hms_string(epoch_elapsed)}\n",
            "Epoch 457, gen loss=4.981435775756836,disc loss=0.4776270091533661, {hms_string(epoch_elapsed)}\n",
            "Epoch 458, gen loss=4.379542827606201,disc loss=0.22852082550525665, {hms_string(epoch_elapsed)}\n",
            "Epoch 459, gen loss=4.390596389770508,disc loss=0.8432603478431702, {hms_string(epoch_elapsed)}\n",
            "Epoch 460, gen loss=6.17389440536499,disc loss=0.8929750919342041, {hms_string(epoch_elapsed)}\n",
            "Epoch 461, gen loss=4.495112895965576,disc loss=0.42649224400520325, {hms_string(epoch_elapsed)}\n",
            "Epoch 462, gen loss=5.105872631072998,disc loss=0.7024853825569153, {hms_string(epoch_elapsed)}\n",
            "Epoch 463, gen loss=3.8307502269744873,disc loss=0.38419392704963684, {hms_string(epoch_elapsed)}\n",
            "Epoch 464, gen loss=4.847189426422119,disc loss=0.7734541893005371, {hms_string(epoch_elapsed)}\n",
            "Epoch 465, gen loss=4.264408588409424,disc loss=0.32568302750587463, {hms_string(epoch_elapsed)}\n",
            "Epoch 466, gen loss=4.911012172698975,disc loss=0.21083344519138336, {hms_string(epoch_elapsed)}\n",
            "Epoch 467, gen loss=4.893151760101318,disc loss=0.40788066387176514, {hms_string(epoch_elapsed)}\n",
            "Epoch 468, gen loss=5.377928256988525,disc loss=0.7414405941963196, {hms_string(epoch_elapsed)}\n",
            "Epoch 469, gen loss=4.254172325134277,disc loss=0.49438002705574036, {hms_string(epoch_elapsed)}\n",
            "Epoch 470, gen loss=3.8471758365631104,disc loss=0.3882899284362793, {hms_string(epoch_elapsed)}\n",
            "Epoch 471, gen loss=3.577982187271118,disc loss=0.4329180419445038, {hms_string(epoch_elapsed)}\n",
            "Epoch 472, gen loss=6.360347747802734,disc loss=0.23667877912521362, {hms_string(epoch_elapsed)}\n",
            "Epoch 473, gen loss=5.111307144165039,disc loss=0.07575065642595291, {hms_string(epoch_elapsed)}\n",
            "Epoch 474, gen loss=5.083399295806885,disc loss=0.12385082244873047, {hms_string(epoch_elapsed)}\n",
            "Epoch 475, gen loss=4.703638076782227,disc loss=0.3180222809314728, {hms_string(epoch_elapsed)}\n",
            "Epoch 476, gen loss=6.192863464355469,disc loss=0.3037336766719818, {hms_string(epoch_elapsed)}\n",
            "Epoch 477, gen loss=4.392518997192383,disc loss=0.29145127534866333, {hms_string(epoch_elapsed)}\n",
            "Epoch 478, gen loss=4.5556960105896,disc loss=0.4208560883998871, {hms_string(epoch_elapsed)}\n",
            "Epoch 479, gen loss=5.437704086303711,disc loss=0.6206850409507751, {hms_string(epoch_elapsed)}\n",
            "Epoch 480, gen loss=4.068324565887451,disc loss=0.3200817108154297, {hms_string(epoch_elapsed)}\n",
            "Epoch 481, gen loss=4.886796474456787,disc loss=0.3812401294708252, {hms_string(epoch_elapsed)}\n",
            "Epoch 482, gen loss=5.118592739105225,disc loss=0.28391364216804504, {hms_string(epoch_elapsed)}\n",
            "Epoch 483, gen loss=4.786567211151123,disc loss=0.43741390109062195, {hms_string(epoch_elapsed)}\n",
            "Epoch 484, gen loss=4.309816837310791,disc loss=0.31912991404533386, {hms_string(epoch_elapsed)}\n",
            "Epoch 485, gen loss=5.022359848022461,disc loss=0.39690306782722473, {hms_string(epoch_elapsed)}\n",
            "Epoch 486, gen loss=4.850090503692627,disc loss=0.3340417146682739, {hms_string(epoch_elapsed)}\n",
            "Epoch 487, gen loss=4.057168483734131,disc loss=0.3226718604564667, {hms_string(epoch_elapsed)}\n",
            "Epoch 488, gen loss=4.435884475708008,disc loss=0.2790842354297638, {hms_string(epoch_elapsed)}\n",
            "Epoch 489, gen loss=4.517803192138672,disc loss=0.7270899415016174, {hms_string(epoch_elapsed)}\n",
            "Epoch 490, gen loss=6.638641834259033,disc loss=0.9800722002983093, {hms_string(epoch_elapsed)}\n",
            "Epoch 491, gen loss=5.137045383453369,disc loss=0.3332493305206299, {hms_string(epoch_elapsed)}\n",
            "Epoch 492, gen loss=4.069469928741455,disc loss=0.5884789824485779, {hms_string(epoch_elapsed)}\n",
            "Epoch 493, gen loss=4.61867094039917,disc loss=0.8222975730895996, {hms_string(epoch_elapsed)}\n",
            "Epoch 494, gen loss=4.304809093475342,disc loss=0.7071564793586731, {hms_string(epoch_elapsed)}\n",
            "Epoch 495, gen loss=6.359292507171631,disc loss=0.6336503624916077, {hms_string(epoch_elapsed)}\n",
            "Epoch 496, gen loss=6.955591678619385,disc loss=1.0320600271224976, {hms_string(epoch_elapsed)}\n",
            "Epoch 497, gen loss=5.270364284515381,disc loss=0.5236565470695496, {hms_string(epoch_elapsed)}\n",
            "Epoch 498, gen loss=5.320179462432861,disc loss=1.2018890380859375, {hms_string(epoch_elapsed)}\n",
            "Epoch 499, gen loss=3.745616912841797,disc loss=0.8306460380554199, {hms_string(epoch_elapsed)}\n",
            "Epoch 500, gen loss=4.777803897857666,disc loss=0.4202542006969452, {hms_string(epoch_elapsed)}\n",
            "Training time: 0:10:02.68\n"
          ],
          "name": "stdout"
        }
      ]
    },
    {
      "cell_type": "markdown",
      "metadata": {
        "id": "Mvir4efcLlwi"
      },
      "source": [
        ""
      ]
    },
    {
      "cell_type": "code",
      "metadata": {
        "id": "15Hia_feD9sm"
      },
      "source": [
        "generator.save(os.path.join(DATA_PATH,\"face_generator.h5\"))"
      ],
      "execution_count": null,
      "outputs": []
    }
  ]
}