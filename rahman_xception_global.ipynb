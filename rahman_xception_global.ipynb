{
  "nbformat": 4,
  "nbformat_minor": 0,
  "metadata": {
    "colab": {
      "name": "rahman_xception_global.ipynb",
      "provenance": []
    },
    "kernelspec": {
      "name": "python3",
      "display_name": "Python 3"
    },
    "accelerator": "GPU"
  },
  "cells": [
    {
      "cell_type": "markdown",
      "metadata": {
        "id": "-_ixVkXsRQ2_"
      },
      "source": [
        "# **Xception network , extracting features from different convolution blocks**"
      ]
    },
    {
      "cell_type": "code",
      "metadata": {
        "colab": {
          "base_uri": "https://localhost:8080/"
        },
        "id": "688rWIBuonuy",
        "outputId": "95980d38-9168-4e5f-b683-65f6172714d9"
      },
      "source": [
        "from google.colab import drive\n",
        "drive.mount('/content/drive')"
      ],
      "execution_count": 1,
      "outputs": [
        {
          "output_type": "stream",
          "text": [
            "Mounted at /content/drive\n"
          ],
          "name": "stdout"
        }
      ]
    },
    {
      "cell_type": "code",
      "metadata": {
        "id": "cwUmMdllr4xq"
      },
      "source": [
        "import warnings\n",
        "warnings.filterwarnings('always')\n",
        "warnings.filterwarnings('ignore')\n",
        "\n",
        "import os\n",
        "import numpy as np\n",
        "np.random.seed(777)\n",
        "import math\n",
        "import keras\n",
        "import keras.backend as K\n",
        "import h5py\n",
        "from keras.preprocessing.image import ImageDataGenerator\n",
        "from keras.optimizers import Adam, SGD, RMSprop\n",
        "from keras.models import Sequential\n",
        "from keras.models import Model\n",
        "from keras.layers import Input, Activation, merge, Dense, Flatten, Dropout, concatenate\n",
        "from keras.layers.convolutional import Conv2D, MaxPooling2D\n",
        "from keras.layers import BatchNormalization, add, GlobalAveragePooling2D\n",
        "from keras.utils.np_utils import to_categorical\n",
        "from keras.optimizers import Adam\n",
        "from sklearn.metrics import accuracy_score,roc_curve, confusion_matrix, roc_auc_score, auc, f1_score\n",
        "from keras.regularizers import l2\n",
        "from keras.applications.xception import Xception, preprocess_input\n",
        "from keras.applications.mobilenet import MobileNet\n",
        "from keras.applications.vgg16 import VGG16\n",
        "from keras.applications.vgg19 import VGG19\n",
        "from keras.applications import DenseNet201\n",
        "from keras.applications import DenseNet121\n",
        "\n",
        "from keras.layers import Input, Dense, Activation, ZeroPadding2D, BatchNormalization, Flatten, Conv2D, Lambda,Concatenate\n",
        "from keras.layers import SeparableConv2D, AveragePooling2D, MaxPooling2D, Dropout, GlobalMaxPooling2D, GlobalAveragePooling2D, Add\n",
        "\n",
        "import matplotlib.pyplot as plt\n",
        "%matplotlib inline\n",
        "\n",
        "plt.rcParams[\"axes.grid\"] = False\n",
        "plt.rcParams.update({'font.size': 20})"
      ],
      "execution_count": 2,
      "outputs": []
    },
    {
      "cell_type": "code",
      "metadata": {
        "id": "zbkqYzjbr62a"
      },
      "source": [
        "train_dir = '/content/drive/My Drive/DDSM_CBIS_Enhanced/train/'\n",
        "test_dir = '/content/drive/My Drive/DDSM_CBIS_Enhanced/test/'\n",
        "valid_dir = '/content/drive/My Drive/DDSM_CBIS_Enhanced/valid/'\n",
        "\n",
        "extracted_features_dir = '/content/drive/My Drive/DDSM_CBIS_Enhanced/extracted_features/'\n",
        "model_name = \"Rahman_Xcep_glob\""
      ],
      "execution_count": 3,
      "outputs": []
    },
    {
      "cell_type": "code",
      "metadata": {
        "colab": {
          "base_uri": "https://localhost:8080/"
        },
        "id": "A__VFVDmr7n0",
        "outputId": "49c9160b-a1cb-4f0f-ac83-e6cdd1f80736"
      },
      "source": [
        "import keras\n",
        "import tensorflow as tf\n",
        "import keras.backend as K\n",
        "\n",
        "print(\"Keras Version\", keras.__version__)\n",
        "print(\"tensorflow Version\", tf.__version__)"
      ],
      "execution_count": 4,
      "outputs": [
        {
          "output_type": "stream",
          "text": [
            "Keras Version 2.4.3\n",
            "tensorflow Version 2.3.0\n"
          ],
          "name": "stdout"
        }
      ]
    },
    {
      "cell_type": "code",
      "metadata": {
        "id": "nhOU9EkMr_UM"
      },
      "source": [
        "batch_size = 32\n",
        "img_height, img_width = 224, 224\n",
        "input_shape = (img_height, img_width, 3)\n",
        "epochs = 1000"
      ],
      "execution_count": 5,
      "outputs": []
    },
    {
      "cell_type": "code",
      "metadata": {
        "colab": {
          "base_uri": "https://localhost:8080/"
        },
        "id": "RcSjl3IYsB30",
        "outputId": "3bbe9d36-477c-4aa7-e0dc-75d993e054d0"
      },
      "source": [
        "for root,dirs,files in os.walk(train_dir):\n",
        "    print (root, len(files))\n",
        "\n",
        "print(\"*\"*30)\n",
        "for root,dirs,files in os.walk(test_dir):\n",
        "    print (root, len(files))\n",
        "\n",
        "print(\"*\"*30)\n",
        "for root,dirs,files in os.walk(valid_dir):\n",
        "    print (root, len(files))"
      ],
      "execution_count": 6,
      "outputs": [
        {
          "output_type": "stream",
          "text": [
            "/content/drive/My Drive/DDSM_CBIS_Enhanced/train/ 0\n",
            "/content/drive/My Drive/DDSM_CBIS_Enhanced/train/benign 572\n",
            "/content/drive/My Drive/DDSM_CBIS_Enhanced/train/malignant 522\n",
            "******************************\n",
            "/content/drive/My Drive/DDSM_CBIS_Enhanced/test/ 0\n",
            "/content/drive/My Drive/DDSM_CBIS_Enhanced/test/malignant 147\n",
            "/content/drive/My Drive/DDSM_CBIS_Enhanced/test/benign 230\n",
            "******************************\n",
            "/content/drive/My Drive/DDSM_CBIS_Enhanced/valid/ 0\n",
            "/content/drive/My Drive/DDSM_CBIS_Enhanced/valid/benign 101\n",
            "/content/drive/My Drive/DDSM_CBIS_Enhanced/valid/malignant 100\n"
          ],
          "name": "stdout"
        }
      ]
    },
    {
      "cell_type": "code",
      "metadata": {
        "colab": {
          "base_uri": "https://localhost:8080/"
        },
        "id": "6TNlxt6_sEwM",
        "outputId": "cc464528-5259-43aa-9373-83e67b7fd2e6"
      },
      "source": [
        "random_seed = np.random.seed(1142)\n",
        "\n",
        "train_datagen = ImageDataGenerator(\n",
        "    rescale=1. / 255,\n",
        "    featurewise_center=True,\n",
        "    featurewise_std_normalization=True,\n",
        "    validation_split= 0.25,\n",
        "    zoom_range=0.2,\n",
        "    shear_range=0.2)\n",
        "\n",
        "train_generator = train_datagen.flow_from_directory(\n",
        "    train_dir,\n",
        "    target_size=(img_height, img_width),\n",
        "    batch_size=batch_size,\n",
        "    seed = random_seed,\n",
        "    shuffle = False,\n",
        "    subset = 'training',\n",
        "    class_mode='categorical')\n",
        "\n",
        "validation_generator = train_datagen.flow_from_directory(\n",
        "    valid_dir,\n",
        "    target_size=(img_height, img_width),\n",
        "    batch_size=batch_size,\n",
        "    seed = random_seed,\n",
        "    shuffle = False,\n",
        "    subset = 'validation',\n",
        "    class_mode='categorical')\n",
        "\n",
        "test_datagen = ImageDataGenerator(rescale=1. / 255)\n",
        "test_generator = test_datagen.flow_from_directory(\n",
        "    test_dir,\n",
        "    target_size=(img_height, img_width),\n",
        "    batch_size=batch_size,\n",
        "    seed = random_seed,\n",
        "    shuffle = False,\n",
        "    class_mode='categorical')"
      ],
      "execution_count": 7,
      "outputs": [
        {
          "output_type": "stream",
          "text": [
            "Found 821 images belonging to 2 classes.\n",
            "Found 50 images belonging to 2 classes.\n",
            "Found 377 images belonging to 2 classes.\n"
          ],
          "name": "stdout"
        }
      ]
    },
    {
      "cell_type": "code",
      "metadata": {
        "colab": {
          "base_uri": "https://localhost:8080/"
        },
        "id": "2yTmEDwlsFpF",
        "outputId": "64d4b2ae-be57-46d7-8d0f-6e6b64625a8a"
      },
      "source": [
        "nb_train_samples = len(train_generator.filenames)\n",
        "nb_validation_samples = len(validation_generator.filenames)\n",
        "predict_size_train = int(math.ceil(nb_train_samples / batch_size))\n",
        "predict_size_validation = int(math.ceil(nb_validation_samples / batch_size))\n",
        "\n",
        "nb_test_samples = len(test_generator.filenames)\n",
        "predict_size_test = int(math.ceil(nb_test_samples / batch_size))\n",
        "\n",
        "# nb_test_without_aug_samples = len(test_generator_without_aug.filenames)\n",
        "# predict_size_test_without_aug = int(math.ceil(nb_test_without_aug_samples / batch_size))\n",
        "\n",
        "num_classes = len(train_generator.class_indices)\n",
        "\n",
        "print(\"nb_train_samples:\", nb_train_samples)\n",
        "print(\"nb_validation_samples:\", nb_validation_samples)\n",
        "print(\"\\npredict_size_train:\", predict_size_train)\n",
        "print(\"predict_size_validation:\", predict_size_validation)\n",
        "# print(\"nb_test_without_aug_samples:\", nb_test_without_aug_samples)\n",
        "# print(\"predict_size_test_without_aug_samples:\", predict_size_test_without_aug)\n",
        "print(\"nb_test_samples:\", nb_test_samples)\n",
        "print(\"predict_size_test:\", predict_size_test)\n",
        "\n",
        "print(\"\\n num_classes:\", num_classes)"
      ],
      "execution_count": 8,
      "outputs": [
        {
          "output_type": "stream",
          "text": [
            "nb_train_samples: 821\n",
            "nb_validation_samples: 50\n",
            "\n",
            "predict_size_train: 26\n",
            "predict_size_validation: 2\n",
            "nb_test_samples: 377\n",
            "predict_size_test: 12\n",
            "\n",
            " num_classes: 2\n"
          ],
          "name": "stdout"
        }
      ]
    },
    {
      "cell_type": "code",
      "metadata": {
        "colab": {
          "base_uri": "https://localhost:8080/"
        },
        "id": "KaZMR4xrsJxd",
        "outputId": "e59f1464-4a41-4273-f153-547fdb232e26"
      },
      "source": [
        "# from keras.applications.mobilenetv2 import MobileNetV2\n",
        "# from keras.applications.densenet import DenseNet169\n",
        "# from keras.applications.vgg19 import VGG19\n",
        "from keras.applications.inception_v3 import InceptionV3\n",
        "# from keras.applications.vgg16 import VGG16\n",
        "from keras.applications.xception import Xception, preprocess_input\n",
        "# from keras.applications import DenseNet201\n",
        "# from keras.applications import DenseNet121\n",
        "# from keras.applications import ResNet50\n",
        "from keras.applications.inception_resnet_v2 import InceptionResNetV2\n",
        "# from keras.applications import NASNetLarge, NASNetMobile\n",
        "# from keras.applications import MobileNet\n",
        "\n",
        "\n",
        "model = Xception(weights='imagenet', include_top=False, pooling = 'avg', input_tensor=Input(shape=input_shape))\n",
        "for i, layer in enumerate(model.layers):\n",
        "    print(i, layer.name)"
      ],
      "execution_count": 9,
      "outputs": [
        {
          "output_type": "stream",
          "text": [
            "Downloading data from https://storage.googleapis.com/tensorflow/keras-applications/xception/xception_weights_tf_dim_ordering_tf_kernels_notop.h5\n",
            "83689472/83683744 [==============================] - 1s 0us/step\n",
            "0 input_1\n",
            "1 block1_conv1\n",
            "2 block1_conv1_bn\n",
            "3 block1_conv1_act\n",
            "4 block1_conv2\n",
            "5 block1_conv2_bn\n",
            "6 block1_conv2_act\n",
            "7 block2_sepconv1\n",
            "8 block2_sepconv1_bn\n",
            "9 block2_sepconv2_act\n",
            "10 block2_sepconv2\n",
            "11 block2_sepconv2_bn\n",
            "12 conv2d\n",
            "13 block2_pool\n",
            "14 batch_normalization\n",
            "15 add\n",
            "16 block3_sepconv1_act\n",
            "17 block3_sepconv1\n",
            "18 block3_sepconv1_bn\n",
            "19 block3_sepconv2_act\n",
            "20 block3_sepconv2\n",
            "21 block3_sepconv2_bn\n",
            "22 conv2d_1\n",
            "23 block3_pool\n",
            "24 batch_normalization_1\n",
            "25 add_1\n",
            "26 block4_sepconv1_act\n",
            "27 block4_sepconv1\n",
            "28 block4_sepconv1_bn\n",
            "29 block4_sepconv2_act\n",
            "30 block4_sepconv2\n",
            "31 block4_sepconv2_bn\n",
            "32 conv2d_2\n",
            "33 block4_pool\n",
            "34 batch_normalization_2\n",
            "35 add_2\n",
            "36 block5_sepconv1_act\n",
            "37 block5_sepconv1\n",
            "38 block5_sepconv1_bn\n",
            "39 block5_sepconv2_act\n",
            "40 block5_sepconv2\n",
            "41 block5_sepconv2_bn\n",
            "42 block5_sepconv3_act\n",
            "43 block5_sepconv3\n",
            "44 block5_sepconv3_bn\n",
            "45 add_3\n",
            "46 block6_sepconv1_act\n",
            "47 block6_sepconv1\n",
            "48 block6_sepconv1_bn\n",
            "49 block6_sepconv2_act\n",
            "50 block6_sepconv2\n",
            "51 block6_sepconv2_bn\n",
            "52 block6_sepconv3_act\n",
            "53 block6_sepconv3\n",
            "54 block6_sepconv3_bn\n",
            "55 add_4\n",
            "56 block7_sepconv1_act\n",
            "57 block7_sepconv1\n",
            "58 block7_sepconv1_bn\n",
            "59 block7_sepconv2_act\n",
            "60 block7_sepconv2\n",
            "61 block7_sepconv2_bn\n",
            "62 block7_sepconv3_act\n",
            "63 block7_sepconv3\n",
            "64 block7_sepconv3_bn\n",
            "65 add_5\n",
            "66 block8_sepconv1_act\n",
            "67 block8_sepconv1\n",
            "68 block8_sepconv1_bn\n",
            "69 block8_sepconv2_act\n",
            "70 block8_sepconv2\n",
            "71 block8_sepconv2_bn\n",
            "72 block8_sepconv3_act\n",
            "73 block8_sepconv3\n",
            "74 block8_sepconv3_bn\n",
            "75 add_6\n",
            "76 block9_sepconv1_act\n",
            "77 block9_sepconv1\n",
            "78 block9_sepconv1_bn\n",
            "79 block9_sepconv2_act\n",
            "80 block9_sepconv2\n",
            "81 block9_sepconv2_bn\n",
            "82 block9_sepconv3_act\n",
            "83 block9_sepconv3\n",
            "84 block9_sepconv3_bn\n",
            "85 add_7\n",
            "86 block10_sepconv1_act\n",
            "87 block10_sepconv1\n",
            "88 block10_sepconv1_bn\n",
            "89 block10_sepconv2_act\n",
            "90 block10_sepconv2\n",
            "91 block10_sepconv2_bn\n",
            "92 block10_sepconv3_act\n",
            "93 block10_sepconv3\n",
            "94 block10_sepconv3_bn\n",
            "95 add_8\n",
            "96 block11_sepconv1_act\n",
            "97 block11_sepconv1\n",
            "98 block11_sepconv1_bn\n",
            "99 block11_sepconv2_act\n",
            "100 block11_sepconv2\n",
            "101 block11_sepconv2_bn\n",
            "102 block11_sepconv3_act\n",
            "103 block11_sepconv3\n",
            "104 block11_sepconv3_bn\n",
            "105 add_9\n",
            "106 block12_sepconv1_act\n",
            "107 block12_sepconv1\n",
            "108 block12_sepconv1_bn\n",
            "109 block12_sepconv2_act\n",
            "110 block12_sepconv2\n",
            "111 block12_sepconv2_bn\n",
            "112 block12_sepconv3_act\n",
            "113 block12_sepconv3\n",
            "114 block12_sepconv3_bn\n",
            "115 add_10\n",
            "116 block13_sepconv1_act\n",
            "117 block13_sepconv1\n",
            "118 block13_sepconv1_bn\n",
            "119 block13_sepconv2_act\n",
            "120 block13_sepconv2\n",
            "121 block13_sepconv2_bn\n",
            "122 conv2d_3\n",
            "123 block13_pool\n",
            "124 batch_normalization_3\n",
            "125 add_11\n",
            "126 block14_sepconv1\n",
            "127 block14_sepconv1_bn\n",
            "128 block14_sepconv1_act\n",
            "129 block14_sepconv2\n",
            "130 block14_sepconv2_bn\n",
            "131 block14_sepconv2_act\n",
            "132 global_average_pooling2d\n"
          ],
          "name": "stdout"
        }
      ]
    },
    {
      "cell_type": "markdown",
      "metadata": {
        "id": "U4BI_hA13Nmn"
      },
      "source": [
        "**Xception Network used with features extracted from different layers after passing through Global Average Pooling layer**"
      ]
    },
    {
      "cell_type": "code",
      "metadata": {
        "colab": {
          "base_uri": "https://localhost:8080/"
        },
        "id": "-n4o_xz2sbPs",
        "outputId": "d81fc170-dcbb-4a70-cf25-c419d01be14d"
      },
      "source": [
        "c1 = model.layers[16].output \n",
        "c1 = GlobalAveragePooling2D()(c1)       \n",
        "\n",
        "c2 = model.layers[26].output\n",
        "c2 = GlobalAveragePooling2D()(c2)       \n",
        "\n",
        "c3 = model.layers[36].output\n",
        "c3 = GlobalAveragePooling2D()(c3)       \n",
        "\n",
        "c4 = model.layers[126].output\n",
        "c4 = GlobalAveragePooling2D()(c4) \n",
        "\n",
        "con = concatenate([c1, c2, c3, c4])\n",
        "\n",
        "bottleneck_final_model = Model(inputs=model.input, outputs=con)\n",
        "\n",
        "bottleneck_final_model.summary()"
      ],
      "execution_count": 10,
      "outputs": [
        {
          "output_type": "stream",
          "text": [
            "Model: \"functional_1\"\n",
            "__________________________________________________________________________________________________\n",
            "Layer (type)                    Output Shape         Param #     Connected to                     \n",
            "==================================================================================================\n",
            "input_1 (InputLayer)            [(None, 224, 224, 3) 0                                            \n",
            "__________________________________________________________________________________________________\n",
            "block1_conv1 (Conv2D)           (None, 111, 111, 32) 864         input_1[0][0]                    \n",
            "__________________________________________________________________________________________________\n",
            "block1_conv1_bn (BatchNormaliza (None, 111, 111, 32) 128         block1_conv1[0][0]               \n",
            "__________________________________________________________________________________________________\n",
            "block1_conv1_act (Activation)   (None, 111, 111, 32) 0           block1_conv1_bn[0][0]            \n",
            "__________________________________________________________________________________________________\n",
            "block1_conv2 (Conv2D)           (None, 109, 109, 64) 18432       block1_conv1_act[0][0]           \n",
            "__________________________________________________________________________________________________\n",
            "block1_conv2_bn (BatchNormaliza (None, 109, 109, 64) 256         block1_conv2[0][0]               \n",
            "__________________________________________________________________________________________________\n",
            "block1_conv2_act (Activation)   (None, 109, 109, 64) 0           block1_conv2_bn[0][0]            \n",
            "__________________________________________________________________________________________________\n",
            "block2_sepconv1 (SeparableConv2 (None, 109, 109, 128 8768        block1_conv2_act[0][0]           \n",
            "__________________________________________________________________________________________________\n",
            "block2_sepconv1_bn (BatchNormal (None, 109, 109, 128 512         block2_sepconv1[0][0]            \n",
            "__________________________________________________________________________________________________\n",
            "block2_sepconv2_act (Activation (None, 109, 109, 128 0           block2_sepconv1_bn[0][0]         \n",
            "__________________________________________________________________________________________________\n",
            "block2_sepconv2 (SeparableConv2 (None, 109, 109, 128 17536       block2_sepconv2_act[0][0]        \n",
            "__________________________________________________________________________________________________\n",
            "block2_sepconv2_bn (BatchNormal (None, 109, 109, 128 512         block2_sepconv2[0][0]            \n",
            "__________________________________________________________________________________________________\n",
            "conv2d (Conv2D)                 (None, 55, 55, 128)  8192        block1_conv2_act[0][0]           \n",
            "__________________________________________________________________________________________________\n",
            "block2_pool (MaxPooling2D)      (None, 55, 55, 128)  0           block2_sepconv2_bn[0][0]         \n",
            "__________________________________________________________________________________________________\n",
            "batch_normalization (BatchNorma (None, 55, 55, 128)  512         conv2d[0][0]                     \n",
            "__________________________________________________________________________________________________\n",
            "add (Add)                       (None, 55, 55, 128)  0           block2_pool[0][0]                \n",
            "                                                                 batch_normalization[0][0]        \n",
            "__________________________________________________________________________________________________\n",
            "block3_sepconv1_act (Activation (None, 55, 55, 128)  0           add[0][0]                        \n",
            "__________________________________________________________________________________________________\n",
            "block3_sepconv1 (SeparableConv2 (None, 55, 55, 256)  33920       block3_sepconv1_act[0][0]        \n",
            "__________________________________________________________________________________________________\n",
            "block3_sepconv1_bn (BatchNormal (None, 55, 55, 256)  1024        block3_sepconv1[0][0]            \n",
            "__________________________________________________________________________________________________\n",
            "block3_sepconv2_act (Activation (None, 55, 55, 256)  0           block3_sepconv1_bn[0][0]         \n",
            "__________________________________________________________________________________________________\n",
            "block3_sepconv2 (SeparableConv2 (None, 55, 55, 256)  67840       block3_sepconv2_act[0][0]        \n",
            "__________________________________________________________________________________________________\n",
            "block3_sepconv2_bn (BatchNormal (None, 55, 55, 256)  1024        block3_sepconv2[0][0]            \n",
            "__________________________________________________________________________________________________\n",
            "conv2d_1 (Conv2D)               (None, 28, 28, 256)  32768       add[0][0]                        \n",
            "__________________________________________________________________________________________________\n",
            "block3_pool (MaxPooling2D)      (None, 28, 28, 256)  0           block3_sepconv2_bn[0][0]         \n",
            "__________________________________________________________________________________________________\n",
            "batch_normalization_1 (BatchNor (None, 28, 28, 256)  1024        conv2d_1[0][0]                   \n",
            "__________________________________________________________________________________________________\n",
            "add_1 (Add)                     (None, 28, 28, 256)  0           block3_pool[0][0]                \n",
            "                                                                 batch_normalization_1[0][0]      \n",
            "__________________________________________________________________________________________________\n",
            "block4_sepconv1_act (Activation (None, 28, 28, 256)  0           add_1[0][0]                      \n",
            "__________________________________________________________________________________________________\n",
            "block4_sepconv1 (SeparableConv2 (None, 28, 28, 728)  188672      block4_sepconv1_act[0][0]        \n",
            "__________________________________________________________________________________________________\n",
            "block4_sepconv1_bn (BatchNormal (None, 28, 28, 728)  2912        block4_sepconv1[0][0]            \n",
            "__________________________________________________________________________________________________\n",
            "block4_sepconv2_act (Activation (None, 28, 28, 728)  0           block4_sepconv1_bn[0][0]         \n",
            "__________________________________________________________________________________________________\n",
            "block4_sepconv2 (SeparableConv2 (None, 28, 28, 728)  536536      block4_sepconv2_act[0][0]        \n",
            "__________________________________________________________________________________________________\n",
            "block4_sepconv2_bn (BatchNormal (None, 28, 28, 728)  2912        block4_sepconv2[0][0]            \n",
            "__________________________________________________________________________________________________\n",
            "conv2d_2 (Conv2D)               (None, 14, 14, 728)  186368      add_1[0][0]                      \n",
            "__________________________________________________________________________________________________\n",
            "block4_pool (MaxPooling2D)      (None, 14, 14, 728)  0           block4_sepconv2_bn[0][0]         \n",
            "__________________________________________________________________________________________________\n",
            "batch_normalization_2 (BatchNor (None, 14, 14, 728)  2912        conv2d_2[0][0]                   \n",
            "__________________________________________________________________________________________________\n",
            "add_2 (Add)                     (None, 14, 14, 728)  0           block4_pool[0][0]                \n",
            "                                                                 batch_normalization_2[0][0]      \n",
            "__________________________________________________________________________________________________\n",
            "block5_sepconv1_act (Activation (None, 14, 14, 728)  0           add_2[0][0]                      \n",
            "__________________________________________________________________________________________________\n",
            "block5_sepconv1 (SeparableConv2 (None, 14, 14, 728)  536536      block5_sepconv1_act[0][0]        \n",
            "__________________________________________________________________________________________________\n",
            "block5_sepconv1_bn (BatchNormal (None, 14, 14, 728)  2912        block5_sepconv1[0][0]            \n",
            "__________________________________________________________________________________________________\n",
            "block5_sepconv2_act (Activation (None, 14, 14, 728)  0           block5_sepconv1_bn[0][0]         \n",
            "__________________________________________________________________________________________________\n",
            "block5_sepconv2 (SeparableConv2 (None, 14, 14, 728)  536536      block5_sepconv2_act[0][0]        \n",
            "__________________________________________________________________________________________________\n",
            "block5_sepconv2_bn (BatchNormal (None, 14, 14, 728)  2912        block5_sepconv2[0][0]            \n",
            "__________________________________________________________________________________________________\n",
            "block5_sepconv3_act (Activation (None, 14, 14, 728)  0           block5_sepconv2_bn[0][0]         \n",
            "__________________________________________________________________________________________________\n",
            "block5_sepconv3 (SeparableConv2 (None, 14, 14, 728)  536536      block5_sepconv3_act[0][0]        \n",
            "__________________________________________________________________________________________________\n",
            "block5_sepconv3_bn (BatchNormal (None, 14, 14, 728)  2912        block5_sepconv3[0][0]            \n",
            "__________________________________________________________________________________________________\n",
            "add_3 (Add)                     (None, 14, 14, 728)  0           block5_sepconv3_bn[0][0]         \n",
            "                                                                 add_2[0][0]                      \n",
            "__________________________________________________________________________________________________\n",
            "block6_sepconv1_act (Activation (None, 14, 14, 728)  0           add_3[0][0]                      \n",
            "__________________________________________________________________________________________________\n",
            "block6_sepconv1 (SeparableConv2 (None, 14, 14, 728)  536536      block6_sepconv1_act[0][0]        \n",
            "__________________________________________________________________________________________________\n",
            "block6_sepconv1_bn (BatchNormal (None, 14, 14, 728)  2912        block6_sepconv1[0][0]            \n",
            "__________________________________________________________________________________________________\n",
            "block6_sepconv2_act (Activation (None, 14, 14, 728)  0           block6_sepconv1_bn[0][0]         \n",
            "__________________________________________________________________________________________________\n",
            "block6_sepconv2 (SeparableConv2 (None, 14, 14, 728)  536536      block6_sepconv2_act[0][0]        \n",
            "__________________________________________________________________________________________________\n",
            "block6_sepconv2_bn (BatchNormal (None, 14, 14, 728)  2912        block6_sepconv2[0][0]            \n",
            "__________________________________________________________________________________________________\n",
            "block6_sepconv3_act (Activation (None, 14, 14, 728)  0           block6_sepconv2_bn[0][0]         \n",
            "__________________________________________________________________________________________________\n",
            "block6_sepconv3 (SeparableConv2 (None, 14, 14, 728)  536536      block6_sepconv3_act[0][0]        \n",
            "__________________________________________________________________________________________________\n",
            "block6_sepconv3_bn (BatchNormal (None, 14, 14, 728)  2912        block6_sepconv3[0][0]            \n",
            "__________________________________________________________________________________________________\n",
            "add_4 (Add)                     (None, 14, 14, 728)  0           block6_sepconv3_bn[0][0]         \n",
            "                                                                 add_3[0][0]                      \n",
            "__________________________________________________________________________________________________\n",
            "block7_sepconv1_act (Activation (None, 14, 14, 728)  0           add_4[0][0]                      \n",
            "__________________________________________________________________________________________________\n",
            "block7_sepconv1 (SeparableConv2 (None, 14, 14, 728)  536536      block7_sepconv1_act[0][0]        \n",
            "__________________________________________________________________________________________________\n",
            "block7_sepconv1_bn (BatchNormal (None, 14, 14, 728)  2912        block7_sepconv1[0][0]            \n",
            "__________________________________________________________________________________________________\n",
            "block7_sepconv2_act (Activation (None, 14, 14, 728)  0           block7_sepconv1_bn[0][0]         \n",
            "__________________________________________________________________________________________________\n",
            "block7_sepconv2 (SeparableConv2 (None, 14, 14, 728)  536536      block7_sepconv2_act[0][0]        \n",
            "__________________________________________________________________________________________________\n",
            "block7_sepconv2_bn (BatchNormal (None, 14, 14, 728)  2912        block7_sepconv2[0][0]            \n",
            "__________________________________________________________________________________________________\n",
            "block7_sepconv3_act (Activation (None, 14, 14, 728)  0           block7_sepconv2_bn[0][0]         \n",
            "__________________________________________________________________________________________________\n",
            "block7_sepconv3 (SeparableConv2 (None, 14, 14, 728)  536536      block7_sepconv3_act[0][0]        \n",
            "__________________________________________________________________________________________________\n",
            "block7_sepconv3_bn (BatchNormal (None, 14, 14, 728)  2912        block7_sepconv3[0][0]            \n",
            "__________________________________________________________________________________________________\n",
            "add_5 (Add)                     (None, 14, 14, 728)  0           block7_sepconv3_bn[0][0]         \n",
            "                                                                 add_4[0][0]                      \n",
            "__________________________________________________________________________________________________\n",
            "block8_sepconv1_act (Activation (None, 14, 14, 728)  0           add_5[0][0]                      \n",
            "__________________________________________________________________________________________________\n",
            "block8_sepconv1 (SeparableConv2 (None, 14, 14, 728)  536536      block8_sepconv1_act[0][0]        \n",
            "__________________________________________________________________________________________________\n",
            "block8_sepconv1_bn (BatchNormal (None, 14, 14, 728)  2912        block8_sepconv1[0][0]            \n",
            "__________________________________________________________________________________________________\n",
            "block8_sepconv2_act (Activation (None, 14, 14, 728)  0           block8_sepconv1_bn[0][0]         \n",
            "__________________________________________________________________________________________________\n",
            "block8_sepconv2 (SeparableConv2 (None, 14, 14, 728)  536536      block8_sepconv2_act[0][0]        \n",
            "__________________________________________________________________________________________________\n",
            "block8_sepconv2_bn (BatchNormal (None, 14, 14, 728)  2912        block8_sepconv2[0][0]            \n",
            "__________________________________________________________________________________________________\n",
            "block8_sepconv3_act (Activation (None, 14, 14, 728)  0           block8_sepconv2_bn[0][0]         \n",
            "__________________________________________________________________________________________________\n",
            "block8_sepconv3 (SeparableConv2 (None, 14, 14, 728)  536536      block8_sepconv3_act[0][0]        \n",
            "__________________________________________________________________________________________________\n",
            "block8_sepconv3_bn (BatchNormal (None, 14, 14, 728)  2912        block8_sepconv3[0][0]            \n",
            "__________________________________________________________________________________________________\n",
            "add_6 (Add)                     (None, 14, 14, 728)  0           block8_sepconv3_bn[0][0]         \n",
            "                                                                 add_5[0][0]                      \n",
            "__________________________________________________________________________________________________\n",
            "block9_sepconv1_act (Activation (None, 14, 14, 728)  0           add_6[0][0]                      \n",
            "__________________________________________________________________________________________________\n",
            "block9_sepconv1 (SeparableConv2 (None, 14, 14, 728)  536536      block9_sepconv1_act[0][0]        \n",
            "__________________________________________________________________________________________________\n",
            "block9_sepconv1_bn (BatchNormal (None, 14, 14, 728)  2912        block9_sepconv1[0][0]            \n",
            "__________________________________________________________________________________________________\n",
            "block9_sepconv2_act (Activation (None, 14, 14, 728)  0           block9_sepconv1_bn[0][0]         \n",
            "__________________________________________________________________________________________________\n",
            "block9_sepconv2 (SeparableConv2 (None, 14, 14, 728)  536536      block9_sepconv2_act[0][0]        \n",
            "__________________________________________________________________________________________________\n",
            "block9_sepconv2_bn (BatchNormal (None, 14, 14, 728)  2912        block9_sepconv2[0][0]            \n",
            "__________________________________________________________________________________________________\n",
            "block9_sepconv3_act (Activation (None, 14, 14, 728)  0           block9_sepconv2_bn[0][0]         \n",
            "__________________________________________________________________________________________________\n",
            "block9_sepconv3 (SeparableConv2 (None, 14, 14, 728)  536536      block9_sepconv3_act[0][0]        \n",
            "__________________________________________________________________________________________________\n",
            "block9_sepconv3_bn (BatchNormal (None, 14, 14, 728)  2912        block9_sepconv3[0][0]            \n",
            "__________________________________________________________________________________________________\n",
            "add_7 (Add)                     (None, 14, 14, 728)  0           block9_sepconv3_bn[0][0]         \n",
            "                                                                 add_6[0][0]                      \n",
            "__________________________________________________________________________________________________\n",
            "block10_sepconv1_act (Activatio (None, 14, 14, 728)  0           add_7[0][0]                      \n",
            "__________________________________________________________________________________________________\n",
            "block10_sepconv1 (SeparableConv (None, 14, 14, 728)  536536      block10_sepconv1_act[0][0]       \n",
            "__________________________________________________________________________________________________\n",
            "block10_sepconv1_bn (BatchNorma (None, 14, 14, 728)  2912        block10_sepconv1[0][0]           \n",
            "__________________________________________________________________________________________________\n",
            "block10_sepconv2_act (Activatio (None, 14, 14, 728)  0           block10_sepconv1_bn[0][0]        \n",
            "__________________________________________________________________________________________________\n",
            "block10_sepconv2 (SeparableConv (None, 14, 14, 728)  536536      block10_sepconv2_act[0][0]       \n",
            "__________________________________________________________________________________________________\n",
            "block10_sepconv2_bn (BatchNorma (None, 14, 14, 728)  2912        block10_sepconv2[0][0]           \n",
            "__________________________________________________________________________________________________\n",
            "block10_sepconv3_act (Activatio (None, 14, 14, 728)  0           block10_sepconv2_bn[0][0]        \n",
            "__________________________________________________________________________________________________\n",
            "block10_sepconv3 (SeparableConv (None, 14, 14, 728)  536536      block10_sepconv3_act[0][0]       \n",
            "__________________________________________________________________________________________________\n",
            "block10_sepconv3_bn (BatchNorma (None, 14, 14, 728)  2912        block10_sepconv3[0][0]           \n",
            "__________________________________________________________________________________________________\n",
            "add_8 (Add)                     (None, 14, 14, 728)  0           block10_sepconv3_bn[0][0]        \n",
            "                                                                 add_7[0][0]                      \n",
            "__________________________________________________________________________________________________\n",
            "block11_sepconv1_act (Activatio (None, 14, 14, 728)  0           add_8[0][0]                      \n",
            "__________________________________________________________________________________________________\n",
            "block11_sepconv1 (SeparableConv (None, 14, 14, 728)  536536      block11_sepconv1_act[0][0]       \n",
            "__________________________________________________________________________________________________\n",
            "block11_sepconv1_bn (BatchNorma (None, 14, 14, 728)  2912        block11_sepconv1[0][0]           \n",
            "__________________________________________________________________________________________________\n",
            "block11_sepconv2_act (Activatio (None, 14, 14, 728)  0           block11_sepconv1_bn[0][0]        \n",
            "__________________________________________________________________________________________________\n",
            "block11_sepconv2 (SeparableConv (None, 14, 14, 728)  536536      block11_sepconv2_act[0][0]       \n",
            "__________________________________________________________________________________________________\n",
            "block11_sepconv2_bn (BatchNorma (None, 14, 14, 728)  2912        block11_sepconv2[0][0]           \n",
            "__________________________________________________________________________________________________\n",
            "block11_sepconv3_act (Activatio (None, 14, 14, 728)  0           block11_sepconv2_bn[0][0]        \n",
            "__________________________________________________________________________________________________\n",
            "block11_sepconv3 (SeparableConv (None, 14, 14, 728)  536536      block11_sepconv3_act[0][0]       \n",
            "__________________________________________________________________________________________________\n",
            "block11_sepconv3_bn (BatchNorma (None, 14, 14, 728)  2912        block11_sepconv3[0][0]           \n",
            "__________________________________________________________________________________________________\n",
            "add_9 (Add)                     (None, 14, 14, 728)  0           block11_sepconv3_bn[0][0]        \n",
            "                                                                 add_8[0][0]                      \n",
            "__________________________________________________________________________________________________\n",
            "block12_sepconv1_act (Activatio (None, 14, 14, 728)  0           add_9[0][0]                      \n",
            "__________________________________________________________________________________________________\n",
            "block12_sepconv1 (SeparableConv (None, 14, 14, 728)  536536      block12_sepconv1_act[0][0]       \n",
            "__________________________________________________________________________________________________\n",
            "block12_sepconv1_bn (BatchNorma (None, 14, 14, 728)  2912        block12_sepconv1[0][0]           \n",
            "__________________________________________________________________________________________________\n",
            "block12_sepconv2_act (Activatio (None, 14, 14, 728)  0           block12_sepconv1_bn[0][0]        \n",
            "__________________________________________________________________________________________________\n",
            "block12_sepconv2 (SeparableConv (None, 14, 14, 728)  536536      block12_sepconv2_act[0][0]       \n",
            "__________________________________________________________________________________________________\n",
            "block12_sepconv2_bn (BatchNorma (None, 14, 14, 728)  2912        block12_sepconv2[0][0]           \n",
            "__________________________________________________________________________________________________\n",
            "block12_sepconv3_act (Activatio (None, 14, 14, 728)  0           block12_sepconv2_bn[0][0]        \n",
            "__________________________________________________________________________________________________\n",
            "block12_sepconv3 (SeparableConv (None, 14, 14, 728)  536536      block12_sepconv3_act[0][0]       \n",
            "__________________________________________________________________________________________________\n",
            "block12_sepconv3_bn (BatchNorma (None, 14, 14, 728)  2912        block12_sepconv3[0][0]           \n",
            "__________________________________________________________________________________________________\n",
            "add_10 (Add)                    (None, 14, 14, 728)  0           block12_sepconv3_bn[0][0]        \n",
            "                                                                 add_9[0][0]                      \n",
            "__________________________________________________________________________________________________\n",
            "block13_sepconv1_act (Activatio (None, 14, 14, 728)  0           add_10[0][0]                     \n",
            "__________________________________________________________________________________________________\n",
            "block13_sepconv1 (SeparableConv (None, 14, 14, 728)  536536      block13_sepconv1_act[0][0]       \n",
            "__________________________________________________________________________________________________\n",
            "block13_sepconv1_bn (BatchNorma (None, 14, 14, 728)  2912        block13_sepconv1[0][0]           \n",
            "__________________________________________________________________________________________________\n",
            "block13_sepconv2_act (Activatio (None, 14, 14, 728)  0           block13_sepconv1_bn[0][0]        \n",
            "__________________________________________________________________________________________________\n",
            "block13_sepconv2 (SeparableConv (None, 14, 14, 1024) 752024      block13_sepconv2_act[0][0]       \n",
            "__________________________________________________________________________________________________\n",
            "block13_sepconv2_bn (BatchNorma (None, 14, 14, 1024) 4096        block13_sepconv2[0][0]           \n",
            "__________________________________________________________________________________________________\n",
            "conv2d_3 (Conv2D)               (None, 7, 7, 1024)   745472      add_10[0][0]                     \n",
            "__________________________________________________________________________________________________\n",
            "block13_pool (MaxPooling2D)     (None, 7, 7, 1024)   0           block13_sepconv2_bn[0][0]        \n",
            "__________________________________________________________________________________________________\n",
            "batch_normalization_3 (BatchNor (None, 7, 7, 1024)   4096        conv2d_3[0][0]                   \n",
            "__________________________________________________________________________________________________\n",
            "add_11 (Add)                    (None, 7, 7, 1024)   0           block13_pool[0][0]               \n",
            "                                                                 batch_normalization_3[0][0]      \n",
            "__________________________________________________________________________________________________\n",
            "block14_sepconv1 (SeparableConv (None, 7, 7, 1536)   1582080     add_11[0][0]                     \n",
            "__________________________________________________________________________________________________\n",
            "global_average_pooling2d_1 (Glo (None, 128)          0           block3_sepconv1_act[0][0]        \n",
            "__________________________________________________________________________________________________\n",
            "global_average_pooling2d_2 (Glo (None, 256)          0           block4_sepconv1_act[0][0]        \n",
            "__________________________________________________________________________________________________\n",
            "global_average_pooling2d_3 (Glo (None, 728)          0           block5_sepconv1_act[0][0]        \n",
            "__________________________________________________________________________________________________\n",
            "global_average_pooling2d_4 (Glo (None, 1536)         0           block14_sepconv1[0][0]           \n",
            "__________________________________________________________________________________________________\n",
            "concatenate (Concatenate)       (None, 2648)         0           global_average_pooling2d_1[0][0] \n",
            "                                                                 global_average_pooling2d_2[0][0] \n",
            "                                                                 global_average_pooling2d_3[0][0] \n",
            "                                                                 global_average_pooling2d_4[0][0] \n",
            "==================================================================================================\n",
            "Total params: 17,687,592\n",
            "Trainable params: 17,640,232\n",
            "Non-trainable params: 47,360\n",
            "__________________________________________________________________________________________________\n"
          ],
          "name": "stdout"
        }
      ]
    },
    {
      "cell_type": "code",
      "metadata": {
        "colab": {
          "base_uri": "https://localhost:8080/"
        },
        "id": "9QFYlQWasdqE",
        "outputId": "d30da3e2-ca6d-4459-85b2-7e1601c71b63"
      },
      "source": [
        "bottleneck_features_train = bottleneck_final_model.predict_generator(train_generator, predict_size_train)\n",
        "np.save(extracted_features_dir+'bottleneck_features_train_'+model_name+'.npy', bottleneck_features_train)"
      ],
      "execution_count": 11,
      "outputs": [
        {
          "output_type": "stream",
          "text": [
            "WARNING:tensorflow:From <ipython-input-11-8f58c074c945>:1: Model.predict_generator (from tensorflow.python.keras.engine.training) is deprecated and will be removed in a future version.\n",
            "Instructions for updating:\n",
            "Please use Model.predict, which supports generators.\n"
          ],
          "name": "stdout"
        }
      ]
    },
    {
      "cell_type": "code",
      "metadata": {
        "id": "DH74Bro7sgB7"
      },
      "source": [
        "bottleneck_features_validation = bottleneck_final_model.predict_generator(validation_generator, predict_size_validation)\n",
        "np.save(extracted_features_dir+'bottleneck_features_validation_'+model_name+'.npy', bottleneck_features_validation)"
      ],
      "execution_count": 12,
      "outputs": []
    },
    {
      "cell_type": "code",
      "metadata": {
        "id": "JD5moZyNsgqh"
      },
      "source": [
        "bottleneck_features_test = bottleneck_final_model.predict_generator(test_generator, predict_size_test)\n",
        "np.save(extracted_features_dir+'bottleneck_features_test_'+model_name+'.npy', bottleneck_features_test)"
      ],
      "execution_count": 13,
      "outputs": []
    },
    {
      "cell_type": "code",
      "metadata": {
        "id": "Hq79eA_zskcN"
      },
      "source": [
        "train_data = np.load(extracted_features_dir+'bottleneck_features_train_'+model_name+'.npy')\n",
        "validation_data = np.load(extracted_features_dir+'bottleneck_features_validation_'+model_name+'.npy')\n",
        "test_data = np.load(extracted_features_dir+'bottleneck_features_test_'+model_name+'.npy')\n",
        "\n",
        "train_labels = train_generator.classes\n",
        "train_labels = to_categorical(train_labels, num_classes=num_classes)\n",
        "\n",
        "validation_labels = validation_generator.classes\n",
        "validation_labels = to_categorical(validation_labels, num_classes=num_classes)\n",
        "\n",
        "test_labels = test_generator.classes\n",
        "test_labels = to_categorical(test_labels, num_classes=num_classes)"
      ],
      "execution_count": 14,
      "outputs": []
    },
    {
      "cell_type": "code",
      "metadata": {
        "colab": {
          "base_uri": "https://localhost:8080/"
        },
        "id": "zNtpijussmyJ",
        "outputId": "57647a1d-b68c-4f1a-bc1b-4464e6ceecec"
      },
      "source": [
        "# example of saving sub-models for later use in a stacking ensemble\n",
        "from keras.utils import to_categorical\n",
        "from keras.models import Sequential\n",
        "from keras.layers import Dense\n",
        "from matplotlib import pyplot\n",
        "import os , shutil\n",
        "from keras.callbacks import ReduceLROnPlateau\n",
        "from tensorflow.keras.callbacks import EarlyStopping\n",
        "from keras.callbacks import ModelCheckpoint\n",
        "\n",
        "\n",
        "stop = EarlyStopping(monitor='val_loss', patience=50, verbose=1, mode='min')\n",
        "save = ModelCheckpoint('/content/drive/My Drive/Brain-Tumor-Detection-master/extracted/my_model.hdf5', save_best_only=True, monitor='val_loss', mode='min')\n",
        "reduce_lr = ReduceLROnPlateau(monitor='val_loss', factor=0.1, patience=50, verbose=1, epsilon=1e-3, mode='min')\n",
        "\n",
        " \n",
        "# fit model on dataset\n",
        "def fit_model(trainX,trainy):\n",
        "  dropout_rate = 0.4\n",
        "  model = Sequential()\n",
        "  # model.add(Flatten(input_shape=train_data.shape[1:]))\n",
        "  model.add(Dense(256, activation='relu'))\n",
        "  model.add(Dropout(dropout_rate))\n",
        "  model.add(Dense(num_classes, activation=tf.nn.softmax))\n",
        "  adam_opt2=Adam(lr = 0.0001, beta_1=0.6, beta_2=0.9, amsgrad=False)\n",
        "  model.compile(optimizer=adam_opt2, loss='categorical_crossentropy', metrics=['accuracy'])\n",
        "  model.fit(trainX,trainy,epochs=500,validation_data=(validation_data, validation_labels),batch_size=batch_size,verbose=0,callbacks=[stop, save, reduce_lr])\n",
        "  return model\n",
        "\n",
        "\n",
        "\n",
        "trainX = train_data\n",
        "testX  = test_data\n",
        "trainy = train_generator.classes\n",
        "trainy = to_categorical(trainy, num_classes=2)\n",
        "testy  = test_generator.classes\n",
        "testy_enc = to_categorical(testy, num_classes=2)\n",
        "\n",
        "\n",
        "print(trainX.shape, trainy.shape)\n",
        "print(testX.shape, testy.shape)\n",
        "# create directory for models\n",
        "base_dir = '/content/drive/My Drive/DDSM_CBIS_Enhanced/extracted_features/'\n",
        "#os.mkdir(base_dir)\n",
        "# fit and save models\n",
        "n_members = 5\n",
        "for i in range(n_members):\n",
        "\t# fit model\n",
        "\tmodel = fit_model(trainX, trainy)\n",
        "\t# save model\n",
        "\tfilename = '/content/drive/My Drive/DDSM_CBIS_Enhanced/extracted_features/model_' + str(i + 1) + '.h5'\n",
        "\tmodel.save(filename)\n",
        "\tprint('>Saved %s' % filename)"
      ],
      "execution_count": 15,
      "outputs": [
        {
          "output_type": "stream",
          "text": [
            "WARNING:tensorflow:`epsilon` argument is deprecated and will be removed, use `min_delta` instead.\n",
            "(821, 2648) (821, 2)\n",
            "(377, 2648) (377,)\n",
            "\n",
            "Epoch 00092: ReduceLROnPlateau reducing learning rate to 9.999999747378752e-06.\n",
            "Epoch 00092: early stopping\n",
            ">Saved /content/drive/My Drive/DDSM_CBIS_Enhanced/extracted_features/model_1.h5\n",
            "\n",
            "Epoch 00087: ReduceLROnPlateau reducing learning rate to 9.999999747378752e-06.\n",
            "Epoch 00087: early stopping\n",
            ">Saved /content/drive/My Drive/DDSM_CBIS_Enhanced/extracted_features/model_2.h5\n",
            "\n",
            "Epoch 00096: ReduceLROnPlateau reducing learning rate to 9.999999747378752e-06.\n",
            "Epoch 00096: early stopping\n",
            ">Saved /content/drive/My Drive/DDSM_CBIS_Enhanced/extracted_features/model_3.h5\n",
            "\n",
            "Epoch 00100: ReduceLROnPlateau reducing learning rate to 9.999999747378752e-06.\n",
            "Epoch 00100: early stopping\n",
            ">Saved /content/drive/My Drive/DDSM_CBIS_Enhanced/extracted_features/model_4.h5\n",
            "\n",
            "Epoch 00096: ReduceLROnPlateau reducing learning rate to 9.999999747378752e-06.\n",
            "Epoch 00096: early stopping\n",
            ">Saved /content/drive/My Drive/DDSM_CBIS_Enhanced/extracted_features/model_5.h5\n"
          ],
          "name": "stdout"
        }
      ]
    },
    {
      "cell_type": "code",
      "metadata": {
        "id": "7o_5lB8bsxU6"
      },
      "source": [
        "# load models from file\n",
        "from keras.models import load_model\n",
        "from numpy import dstack\n",
        "from sklearn.metrics import accuracy_score\n",
        "from sklearn.linear_model import LogisticRegression\n",
        "from keras.models import load_model\n",
        "from keras.utils import to_categorical\n",
        "from numpy import dstack\n",
        "\n",
        "\n",
        "\n",
        "\n",
        "def load_all_models(n_models):\n",
        "\tall_models = list()\n",
        "\tfor i in range(n_models):\n",
        "\t\t# define filename for this ensemble\n",
        "\t\tfilename = '/content/drive/My Drive/DDSM_CBIS_Enhanced/extracted_features/model_' + str(i + 1) + '.h5'\n",
        "\t\t# load model from file\n",
        "\t\tmodel = load_model(filename)\n",
        "\t\t# add to list of members\n",
        "\t\tall_models.append(model)\n",
        "\t\tprint('>loaded %s' % filename)\n",
        "\treturn all_models"
      ],
      "execution_count": 16,
      "outputs": []
    },
    {
      "cell_type": "code",
      "metadata": {
        "colab": {
          "base_uri": "https://localhost:8080/"
        },
        "id": "rFgnJ--Iszyo",
        "outputId": "52cfe69e-971a-4942-80bc-93854d091831"
      },
      "source": [
        "# load all models\n",
        "members = load_all_models(n_members)\n",
        "print('Loaded %d models' % len(members))"
      ],
      "execution_count": 17,
      "outputs": [
        {
          "output_type": "stream",
          "text": [
            ">loaded /content/drive/My Drive/DDSM_CBIS_Enhanced/extracted_features/model_1.h5\n",
            ">loaded /content/drive/My Drive/DDSM_CBIS_Enhanced/extracted_features/model_2.h5\n",
            ">loaded /content/drive/My Drive/DDSM_CBIS_Enhanced/extracted_features/model_3.h5\n",
            ">loaded /content/drive/My Drive/DDSM_CBIS_Enhanced/extracted_features/model_4.h5\n",
            ">loaded /content/drive/My Drive/DDSM_CBIS_Enhanced/extracted_features/model_5.h5\n",
            "Loaded 5 models\n"
          ],
          "name": "stdout"
        }
      ]
    },
    {
      "cell_type": "code",
      "metadata": {
        "colab": {
          "base_uri": "https://localhost:8080/"
        },
        "id": "lDAksazas1w8",
        "outputId": "3ef712d4-8610-405d-e6a0-097f6eaf5ecb"
      },
      "source": [
        "# evaluate standalone models on test dataset\n",
        "for model in members:\n",
        "\ttesty_enc = to_categorical(testy)\n",
        "\t_, acc = model.evaluate(testX, testy_enc, verbose=0)\n",
        "\tprint('Model Accuracy: %.3f' % acc)"
      ],
      "execution_count": 18,
      "outputs": [
        {
          "output_type": "stream",
          "text": [
            "Model Accuracy: 0.695\n",
            "Model Accuracy: 0.719\n",
            "Model Accuracy: 0.729\n",
            "Model Accuracy: 0.700\n",
            "Model Accuracy: 0.711\n"
          ],
          "name": "stdout"
        }
      ]
    },
    {
      "cell_type": "code",
      "metadata": {
        "id": "_41KNzhYs3td"
      },
      "source": [
        "from sklearn.preprocessing import LabelEncoder\n",
        "from sklearn.metrics import confusion_matrix, classification_report\n",
        "from keras.preprocessing.image import ImageDataGenerator, load_img"
      ],
      "execution_count": 19,
      "outputs": []
    },
    {
      "cell_type": "markdown",
      "metadata": {
        "id": "DBbsqGDj24ZG"
      },
      "source": [
        "**Executing the code for five different times and noting down the misclassified data**"
      ]
    },
    {
      "cell_type": "code",
      "metadata": {
        "colab": {
          "base_uri": "https://localhost:8080/"
        },
        "id": "6OUzXhsts6mk",
        "outputId": "d6744798-3683-4da3-ae9e-b4417244bf01"
      },
      "source": [
        "for model in members:\n",
        "  preds = model.predict(test_data)\n",
        "\n",
        "  predictions = [i.argmax() for i in preds]\n",
        "  y_true = [i.argmax() for i in test_labels]\n",
        "  cm = confusion_matrix(y_pred=predictions, y_true=y_true)\n",
        "\n",
        "  print('Accuracy {}'.format(accuracy_score(y_true=y_true, y_pred=predictions)))\n",
        "  plt.rcParams[\"axes.grid\"] = False\n",
        "  plt.rcParams.update({'font.size': 20})\n",
        "\n",
        "  labels = []\n",
        "\n",
        "  label = test_generator.class_indices\n",
        "  indexlabel = dict((value, key) for key, value in label.items())\n",
        "\n",
        "  for k,v in indexlabel.items():\n",
        "      labels.append(v)\n",
        "\n",
        "  from sklearn.metrics import confusion_matrix\n",
        "  import itertools\n",
        "  def plot_confusion_matrix(cm, classes,\n",
        "                            normalize=False,\n",
        "                            title='Confusion matrix',\n",
        "                            cmap=plt.cm.Blues):\n",
        "      accuracy = np.trace(cm) / float(np.sum(cm))\n",
        "      misclass = 1 - accuracy\n",
        "      if normalize:\n",
        "          cm = cm.astype('float') / cm.sum(axis=1)[:, np.newaxis]\n",
        "          print(\"Normalized confusion matrix\")\n",
        "      else:\n",
        "          print('Confusion Matrix')\n",
        "\n",
        "      print(cm)\n",
        "  #     fig = plt.figure()\n",
        "      plt.imshow(cm, interpolation='nearest', cmap=cmap)\n",
        "  #     plt.title(title)\n",
        "  #     plt.colorbar()\n",
        "      tick_marks = np.arange(len(classes))\n",
        "      plt.xticks(tick_marks, classes, rotation=45)\n",
        "      plt.yticks(tick_marks, classes)\n",
        "\n",
        "      fmt = '.2f' if normalize else 'd'\n",
        "      thresh = cm.max() / 2.\n",
        "      for i, j in itertools.product(range(cm.shape[0]), range(cm.shape[1])):\n",
        "          plt.text(j, i, format(cm[i, j], fmt),\n",
        "                   horizontalalignment=\"center\",\n",
        "                   color=\"white\" if cm[i, j] > thresh else \"black\")\n",
        "\n",
        "      plt.tight_layout()\n",
        "      plt.ylabel('True label')\n",
        "      plt.xlabel('Predicted label\\naccuracy={:0.4f}; misclass={:0.4f}'.format(accuracy, misclass))\n",
        "      #plt.savefig('/content/drive/My Drive/data_v3/extracted_features/confusion_marix.png', bbox_inches='tight', dpi = 100) \n",
        "\n",
        "\n",
        "  #plt.figure(figsize=(10,10))\n",
        "  #plot_confusion_matrix(cm, classes=labels, title=' ')\n",
        "\n",
        "  from sklearn.preprocessing import LabelEncoder\n",
        "  from sklearn.metrics import confusion_matrix, classification_report\n",
        "  y_pred=predictions\n",
        "  y_pred_probabilities=y_pred\n",
        "\n",
        "  # y_pred = np.argmax(y_pred,axis = 1) \n",
        "  y_actual = y_true\n",
        "\n",
        "  classnames=[]\n",
        "  for classname in test_generator.class_indices:\n",
        "      classnames.append(classname)\n",
        "\n",
        "  confusion_mtx = confusion_matrix(y_actual, y_pred) \n",
        "  print(confusion_mtx)\n",
        "  target_names = classnames\n",
        "  print(classification_report(y_actual, y_pred, target_names=target_names))\n",
        "\n",
        "\n",
        "\n",
        "  from keras.preprocessing.image import ImageDataGenerator, load_img\n",
        "  fnames = test_generator.filenames\n",
        "  ground_truth = test_generator.classes\n",
        "\n",
        "  label2index = test_generator.class_indices\n",
        "  idx2label = dict((v,k) for k,v in label2index.items())\n",
        "\n",
        "  predictions = model.predict(test_data)\n",
        "  predicted_classes = np.argmax(predictions,axis=1)\n",
        "\n",
        "  errors = np.where(predicted_classes != ground_truth)[0]\n",
        "  no_error = len(errors)\n",
        "  print(\"No of errors = {}/{}\".format(len(errors),test_generator.samples))\n",
        "  #no_errors.append(no_error)\n",
        "\n",
        "  # Show the errors\n",
        "  for i in range(len(errors)):\n",
        "      pred_class = np.argmax(predictions[errors[i]])\n",
        "      pred_label = idx2label[pred_class]\n",
        "\n",
        "      title = 'filename:{},Original label:{}, Prediction :{}, confidence : {:.3f}, class ID : {}'.format(\n",
        "              fnames[errors[i]],\n",
        "              fnames[errors[i]].split('/')[0],\n",
        "              pred_label,\n",
        "              predictions[errors[i]][pred_class], pred_class)\n",
        "\n",
        "      original = load_img('{}/{}'.format(test_dir,fnames[errors[i]]))\n",
        "      #plt.figure(figsize=[7,7])\n",
        "      #plt.axis('off')\n",
        "      #plt.title(title)\n",
        "      #plt.imshow(original)\n",
        "      print(title)\n",
        "  #plt.show()\n"
      ],
      "execution_count": 20,
      "outputs": [
        {
          "output_type": "stream",
          "text": [
            "Accuracy 0.6949602122015915\n",
            "[[153  77]\n",
            " [ 38 109]]\n",
            "              precision    recall  f1-score   support\n",
            "\n",
            "      benign       0.80      0.67      0.73       230\n",
            "   malignant       0.59      0.74      0.65       147\n",
            "\n",
            "    accuracy                           0.69       377\n",
            "   macro avg       0.69      0.70      0.69       377\n",
            "weighted avg       0.72      0.69      0.70       377\n",
            "\n",
            "No of errors = 115/377\n",
            "filename:benign/Mass-Test_P_00032_RIGHT_CC_ROI_Mass_B_1.png .png,Original label:benign, Prediction :malignant, confidence : 0.725, class ID : 1\n",
            "filename:benign/Mass-Test_P_00032_RIGHT_MLO_ROI_Mass_B_1.png .png,Original label:benign, Prediction :malignant, confidence : 0.575, class ID : 1\n",
            "filename:benign/Mass-Test_P_00126_RIGHT_CC_ROI_Mass_B_1.png .png,Original label:benign, Prediction :malignant, confidence : 0.680, class ID : 1\n",
            "filename:benign/Mass-Test_P_00126_RIGHT_MLO_ROI_Mass_B_1.png .png,Original label:benign, Prediction :malignant, confidence : 0.590, class ID : 1\n",
            "filename:benign/Mass-Test_P_00145_LEFT_MLO_ROI_Mass_B_1.png .png,Original label:benign, Prediction :malignant, confidence : 0.562, class ID : 1\n",
            "filename:benign/Mass-Test_P_00159_RIGHT_MLO_ROI_Mass_B_1.png .png,Original label:benign, Prediction :malignant, confidence : 0.527, class ID : 1\n",
            "filename:benign/Mass-Test_P_00171_RIGHT_CC_ROI_Mass_B_1.png .png,Original label:benign, Prediction :malignant, confidence : 0.555, class ID : 1\n",
            "filename:benign/Mass-Test_P_00171_RIGHT_MLO_ROI_Mass_B_1.png .png,Original label:benign, Prediction :malignant, confidence : 0.620, class ID : 1\n",
            "filename:benign/Mass-Test_P_00173_RIGHT_CC_ROI_Mass_B_2.png .png,Original label:benign, Prediction :malignant, confidence : 0.618, class ID : 1\n",
            "filename:benign/Mass-Test_P_00200_LEFT_MLO_ROI_Mass_B_1.png .png,Original label:benign, Prediction :malignant, confidence : 0.868, class ID : 1\n",
            "filename:benign/Mass-Test_P_00200_RIGHT_MLO_ROI_Mass_B_1.png .png,Original label:benign, Prediction :malignant, confidence : 0.512, class ID : 1\n",
            "filename:benign/Mass-Test_P_00358_RIGHT_CC_ROI_Arch_B_1.png .png,Original label:benign, Prediction :malignant, confidence : 0.755, class ID : 1\n",
            "filename:benign/Mass-Test_P_00358_RIGHT_MLO_ROI_Arch_B_1.png .png,Original label:benign, Prediction :malignant, confidence : 0.792, class ID : 1\n",
            "filename:benign/Mass-Test_P_00359_LEFT_MLO_ROI_Mass_B_1.png .png,Original label:benign, Prediction :malignant, confidence : 0.738, class ID : 1\n",
            "filename:benign/Mass-Test_P_00369_LEFT_CC_ROI_Mass_B_1.png .png,Original label:benign, Prediction :malignant, confidence : 0.690, class ID : 1\n",
            "filename:benign/Mass-Test_P_00379_LEFT_CC_ROI_Mass_B_1.png .png,Original label:benign, Prediction :malignant, confidence : 0.822, class ID : 1\n",
            "filename:benign/Mass-Test_P_00379_LEFT_MLO_ROI_Mass_B_1.png .png,Original label:benign, Prediction :malignant, confidence : 0.529, class ID : 1\n",
            "filename:benign/Mass-Test_P_00387_RIGHT_MLO_ROI_Mass_B_1.png .png,Original label:benign, Prediction :malignant, confidence : 0.592, class ID : 1\n",
            "filename:benign/Mass-Test_P_00391_LEFT_MLO_ROI_Mass_B_1.png .png,Original label:benign, Prediction :malignant, confidence : 0.660, class ID : 1\n",
            "filename:benign/Mass-Test_P_00391_RIGHT_CC_ROI_Mass_B_1.png .png,Original label:benign, Prediction :malignant, confidence : 0.643, class ID : 1\n",
            "filename:benign/Mass-Test_P_00394_RIGHT_MLO_ROI_Arch_B_1.png .png,Original label:benign, Prediction :malignant, confidence : 0.621, class ID : 1\n",
            "filename:benign/Mass-Test_P_00405_LEFT_MLO_ROI_Mass_B_1.png .png,Original label:benign, Prediction :malignant, confidence : 0.753, class ID : 1\n",
            "filename:benign/Mass-Test_P_00429_LEFT_CC_ROI_Mass_B_1.png .png,Original label:benign, Prediction :malignant, confidence : 0.763, class ID : 1\n",
            "filename:benign/Mass-Test_P_00429_LEFT_MLO_ROI_Mass_B_1.png .png,Original label:benign, Prediction :malignant, confidence : 0.911, class ID : 1\n",
            "filename:benign/Mass-Test_P_00457_LEFT_CC_ROI_Mass_B_1.png .png,Original label:benign, Prediction :malignant, confidence : 0.567, class ID : 1\n",
            "filename:benign/Mass-Test_P_00470_RIGHT_MLO_ROI_Mass_B_1.png .png,Original label:benign, Prediction :malignant, confidence : 0.652, class ID : 1\n",
            "filename:benign/Mass-Test_P_00482_LEFT_MLO_ROI_Mass_B_1.png .png,Original label:benign, Prediction :malignant, confidence : 0.525, class ID : 1\n",
            "filename:benign/Mass-Test_P_00490_RIGHT_MLO_ROI_Mass_B_1.png .png,Original label:benign, Prediction :malignant, confidence : 0.524, class ID : 1\n",
            "filename:benign/Mass-Test_P_00493_RIGHT_CC_ROI_Mass_B_1.png .png,Original label:benign, Prediction :malignant, confidence : 0.628, class ID : 1\n",
            "filename:benign/Mass-Test_P_00494_RIGHT_CC_ROI_Mass_B_1.png .png,Original label:benign, Prediction :malignant, confidence : 0.881, class ID : 1\n",
            "filename:benign/Mass-Test_P_00494_RIGHT_MLO_ROI_Mass_B_1.png .png,Original label:benign, Prediction :malignant, confidence : 0.581, class ID : 1\n",
            "filename:benign/Mass-Test_P_00587_RIGHT_CC_ROI_Mass_B_1.png .png,Original label:benign, Prediction :malignant, confidence : 0.873, class ID : 1\n",
            "filename:benign/Mass-Test_P_00629_RIGHT_CC_ROI_Mass_B_1.png .png,Original label:benign, Prediction :malignant, confidence : 0.856, class ID : 1\n",
            "filename:benign/Mass-Test_P_00662_LEFT_CC_ROI_Mass_B_1.png .png,Original label:benign, Prediction :malignant, confidence : 0.672, class ID : 1\n",
            "filename:benign/Mass-Test_P_00662_LEFT_MLO_ROI_Mass_B_1.png .png,Original label:benign, Prediction :malignant, confidence : 0.944, class ID : 1\n",
            "filename:benign/Mass-Test_P_00671_LEFT_CC_ROI_Mass_B_1.png .png,Original label:benign, Prediction :malignant, confidence : 0.514, class ID : 1\n",
            "filename:benign/Mass-Test_P_00671_LEFT_MLO_ROI_Mass_B_1.png .png,Original label:benign, Prediction :malignant, confidence : 0.587, class ID : 1\n",
            "filename:benign/Mass-Test_P_00766_LEFT_CC_ROI_Arch_B_1.png .png,Original label:benign, Prediction :malignant, confidence : 0.726, class ID : 1\n",
            "filename:benign/Mass-Test_P_00766_LEFT_MLO_ROI_Arch_B_1.png .png,Original label:benign, Prediction :malignant, confidence : 0.763, class ID : 1\n",
            "filename:benign/Mass-Test_P_00788_RIGHT_MLO_ROI_Mass_B_1.png .png,Original label:benign, Prediction :malignant, confidence : 0.599, class ID : 1\n",
            "filename:benign/Mass-Test_P_00820_RIGHT_CC_ROI_Mass_B_1.png .png,Original label:benign, Prediction :malignant, confidence : 0.538, class ID : 1\n",
            "filename:benign/Mass-Test_P_00882_RIGHT_CC_ROI_Mass_B_1.png .png,Original label:benign, Prediction :malignant, confidence : 0.787, class ID : 1\n",
            "filename:benign/Mass-Test_P_00882_RIGHT_MLO_ROI_Mass_B_1.png .png,Original label:benign, Prediction :malignant, confidence : 0.918, class ID : 1\n",
            "filename:benign/Mass-Test_P_00922_RIGHT_MLO_ROI_Mass_B_1.png .png,Original label:benign, Prediction :malignant, confidence : 0.799, class ID : 1\n",
            "filename:benign/Mass-Test_P_00951_LEFT_CC_ROI_Arch_B_1.png .png,Original label:benign, Prediction :malignant, confidence : 0.821, class ID : 1\n",
            "filename:benign/Mass-Test_P_00966_RIGHT_MLO_ROI_Mass_B_1.png .png,Original label:benign, Prediction :malignant, confidence : 0.821, class ID : 1\n",
            "filename:benign/Mass-Test_P_00979_LEFT_CC_ROI_Mass_B_1.png .png,Original label:benign, Prediction :malignant, confidence : 0.929, class ID : 1\n",
            "filename:benign/Mass-Test_P_00979_LEFT_MLO_ROI_Mass_B_1.png .png,Original label:benign, Prediction :malignant, confidence : 0.629, class ID : 1\n",
            "filename:benign/Mass-Test_P_01145_LEFT_MLO_ROI_Mass_B_1.png .png,Original label:benign, Prediction :malignant, confidence : 0.887, class ID : 1\n",
            "filename:benign/Mass-Test_P_01183_LEFT_MLO_ROI_Mass_B_1.png .png,Original label:benign, Prediction :malignant, confidence : 0.638, class ID : 1\n",
            "filename:benign/Mass-Test_P_01192_LEFT_CC_ROI_Arch_B_1.png .png,Original label:benign, Prediction :malignant, confidence : 0.569, class ID : 1\n",
            "filename:benign/Mass-Test_P_01192_LEFT_MLO_ROI_Arch_B_1.png .png,Original label:benign, Prediction :malignant, confidence : 0.647, class ID : 1\n",
            "filename:benign/Mass-Test_P_01251_LEFT_CC_ROI_Mass_B_1.png .png,Original label:benign, Prediction :malignant, confidence : 0.547, class ID : 1\n",
            "filename:benign/Mass-Test_P_01254_RIGHT_CC_ROI_Mass_B_1.png .png,Original label:benign, Prediction :malignant, confidence : 0.759, class ID : 1\n",
            "filename:benign/Mass-Test_P_01307_RIGHT_CC_ROI_Mass_B_1.png .png,Original label:benign, Prediction :malignant, confidence : 0.563, class ID : 1\n",
            "filename:benign/Mass-Test_P_01322_RIGHT_MLO_ROI_Mass_B_1.png .png,Original label:benign, Prediction :malignant, confidence : 0.693, class ID : 1\n",
            "filename:benign/Mass-Test_P_01365_LEFT_CC_ROI_Mass_B_2.png .png,Original label:benign, Prediction :malignant, confidence : 0.731, class ID : 1\n",
            "filename:benign/Mass-Test_P_01395_RIGHT_CC_ROI_Mass_B_1.png .png,Original label:benign, Prediction :malignant, confidence : 0.807, class ID : 1\n",
            "filename:benign/Mass-Test_P_01395_RIGHT_MLO_ROI_Mass_B_1.png .png,Original label:benign, Prediction :malignant, confidence : 0.650, class ID : 1\n",
            "filename:benign/Mass-Test_P_01416_RIGHT_MLO_ROI_Mass_B_1.png .png,Original label:benign, Prediction :malignant, confidence : 0.913, class ID : 1\n",
            "filename:benign/Mass-Test_P_01502_LEFT_CC_ROI_Mass_B_1.png .png,Original label:benign, Prediction :malignant, confidence : 0.626, class ID : 1\n",
            "filename:benign/Mass-Test_P_01510_RIGHT_CC_ROI_Mass_B_1.png .png,Original label:benign, Prediction :malignant, confidence : 0.598, class ID : 1\n",
            "filename:benign/Mass-Test_P_01512_LEFT_CC_ROI_Mass_B_1.png .png,Original label:benign, Prediction :malignant, confidence : 0.827, class ID : 1\n",
            "filename:benign/Mass-Test_P_01539_RIGHT_CC_ROI_Mass_B_1.png .png,Original label:benign, Prediction :malignant, confidence : 0.731, class ID : 1\n",
            "filename:benign/Mass-Test_P_01539_RIGHT_MLO_ROI_Mass_B_1.png .png,Original label:benign, Prediction :malignant, confidence : 0.515, class ID : 1\n",
            "filename:benign/Mass-Test_P_01551_LEFT_MLO_ROI_Mass_B_1.png .png,Original label:benign, Prediction :malignant, confidence : 0.694, class ID : 1\n",
            "filename:benign/Mass-Test_P_01566_RIGHT_CC_ROI_Mass_B_1.png .png,Original label:benign, Prediction :malignant, confidence : 0.562, class ID : 1\n",
            "filename:benign/Mass-Test_P_01566_RIGHT_MLO_ROI_Mass_B_1.png .png,Original label:benign, Prediction :malignant, confidence : 0.578, class ID : 1\n",
            "filename:benign/Mass-Test_P_01566_RIGHT_MLO_ROI_Mass_B_2.png .png,Original label:benign, Prediction :malignant, confidence : 0.639, class ID : 1\n",
            "filename:benign/Mass-Test_P_01623_RIGHT_MLO_ROI_Mass_B_1.png .png,Original label:benign, Prediction :malignant, confidence : 0.925, class ID : 1\n",
            "filename:benign/Mass-Test_P_01684_LEFT_CC_ROI_Mass_B_1.png .png,Original label:benign, Prediction :malignant, confidence : 0.783, class ID : 1\n",
            "filename:benign/Mass-Test_P_01684_LEFT_MLO_ROI_Mass_B_1.png .png,Original label:benign, Prediction :malignant, confidence : 0.757, class ID : 1\n",
            "filename:benign/Mass-Test_P_01697_LEFT_MLO_ROI_Mass_B_1.png .png,Original label:benign, Prediction :malignant, confidence : 0.941, class ID : 1\n",
            "filename:benign/Mass-Test_P_01716_RIGHT_CC_ROI_Mass_B_1.png .png,Original label:benign, Prediction :malignant, confidence : 0.615, class ID : 1\n",
            "filename:benign/Mass-Test_P_01726_RIGHT_CC_ROI_Mass_B_1.png .png,Original label:benign, Prediction :malignant, confidence : 0.759, class ID : 1\n",
            "filename:benign/Mass-Test_P_01765_RIGHT_MLO_ROI_Mass_B_1.png .png,Original label:benign, Prediction :malignant, confidence : 0.532, class ID : 1\n",
            "filename:benign/Mass-Test_P_01825_RIGHT_CC_ROI_Mass_B_1.png .png,Original label:benign, Prediction :malignant, confidence : 0.805, class ID : 1\n",
            "filename:malignant/Mass-Test_P_00016_LEFT_CC_ROI_Mass_M_1.png .png,Original label:malignant, Prediction :benign, confidence : 0.545, class ID : 0\n",
            "filename:malignant/Mass-Test_P_00017_LEFT_CC_ROI_Mass_M_1.png .png,Original label:malignant, Prediction :benign, confidence : 0.827, class ID : 0\n",
            "filename:malignant/Mass-Test_P_00017_LEFT_MLO_ROI_Mass_M_1.png .png,Original label:malignant, Prediction :benign, confidence : 0.640, class ID : 0\n",
            "filename:malignant/Mass-Test_P_00066_LEFT_CC_ROI_Mass_M_1.png .png,Original label:malignant, Prediction :benign, confidence : 0.586, class ID : 0\n",
            "filename:malignant/Mass-Test_P_00116_RIGHT_MLO_ROI_Arch_M_1.png .png,Original label:malignant, Prediction :benign, confidence : 0.617, class ID : 0\n",
            "filename:malignant/Mass-Test_P_00118_RIGHT_MLO_ROI_Mass_M_1.png .png,Original label:malignant, Prediction :benign, confidence : 0.526, class ID : 0\n",
            "filename:malignant/Mass-Test_P_00147_RIGHT_MLO_ROI_Mass_M_1.png .png,Original label:malignant, Prediction :benign, confidence : 0.835, class ID : 0\n",
            "filename:malignant/Mass-Test_P_00194_RIGHT_CC_ROI_Mass_M_1.png .png,Original label:malignant, Prediction :benign, confidence : 0.527, class ID : 0\n",
            "filename:malignant/Mass-Test_P_00194_RIGHT_MLO_ROI_Mass_M_1.png .png,Original label:malignant, Prediction :benign, confidence : 0.904, class ID : 0\n",
            "filename:malignant/Mass-Test_P_00198_LEFT_CC_ROI_Mass_M_1.png .png,Original label:malignant, Prediction :benign, confidence : 0.773, class ID : 0\n",
            "filename:malignant/Mass-Test_P_00198_LEFT_MLO_ROI_Mass_M_1.png .png,Original label:malignant, Prediction :benign, confidence : 0.644, class ID : 0\n",
            "filename:malignant/Mass-Test_P_00212_RIGHT_MLO_ROI_Mass_M_1.png .png,Original label:malignant, Prediction :benign, confidence : 0.962, class ID : 0\n",
            "filename:malignant/Mass-Test_P_00347_LEFT_CC_ROI_Mass_M_1.png .png,Original label:malignant, Prediction :benign, confidence : 0.543, class ID : 0\n",
            "filename:malignant/Mass-Test_P_00498_LEFT_CC_ROI_Mass_M_1.png .png,Original label:malignant, Prediction :benign, confidence : 0.618, class ID : 0\n",
            "filename:malignant/Mass-Test_P_00514_LEFT_MLO_ROI_Mass_M_1.png .png,Original label:malignant, Prediction :benign, confidence : 0.728, class ID : 0\n",
            "filename:malignant/Mass-Test_P_00524_LEFT_MLO_ROI_Mass_M_1.png .png,Original label:malignant, Prediction :benign, confidence : 0.625, class ID : 0\n",
            "filename:malignant/Mass-Test_P_00576_LEFT_MLO_ROI_Mass_M_1.png .png,Original label:malignant, Prediction :benign, confidence : 0.526, class ID : 0\n",
            "filename:malignant/Mass-Test_P_00591_RIGHT_MLO_ROI_Mass_M_3.png .png,Original label:malignant, Prediction :benign, confidence : 0.964, class ID : 0\n",
            "filename:malignant/Mass-Test_P_00641_RIGHT_CC_ROI_Mass_M_1.png .png,Original label:malignant, Prediction :benign, confidence : 0.567, class ID : 0\n",
            "filename:malignant/Mass-Test_P_00677_RIGHT_MLO_ROI_Mass_M_1.png .png,Original label:malignant, Prediction :benign, confidence : 0.527, class ID : 0\n",
            "filename:malignant/Mass-Test_P_00741_LEFT_MLO_ROI_Mass_M_1.png .png,Original label:malignant, Prediction :benign, confidence : 0.594, class ID : 0\n",
            "filename:malignant/Mass-Test_P_00773_LEFT_MLO_ROI_Arch_M_1.png .png,Original label:malignant, Prediction :benign, confidence : 0.539, class ID : 0\n",
            "filename:malignant/Mass-Test_P_00813_RIGHT_MLO_ROI_Mass_M_1.png .png,Original label:malignant, Prediction :benign, confidence : 0.541, class ID : 0\n",
            "filename:malignant/Mass-Test_P_00947_RIGHT_MLO_ROI_Mass_M_1.png .png,Original label:malignant, Prediction :benign, confidence : 0.638, class ID : 0\n",
            "filename:malignant/Mass-Test_P_00951_RIGHT_CC_ROI_Mass_M_1.png .png,Original label:malignant, Prediction :benign, confidence : 0.614, class ID : 0\n",
            "filename:malignant/Mass-Test_P_00962_RIGHT_MLO_ROI_Mass_M_1.png .png,Original label:malignant, Prediction :benign, confidence : 0.682, class ID : 0\n",
            "filename:malignant/Mass-Test_P_01114_RIGHT_MLO_ROI_Mass_M_1.png .png,Original label:malignant, Prediction :benign, confidence : 0.629, class ID : 0\n",
            "filename:malignant/Mass-Test_P_01167_LEFT_MLO_ROI_Mass_M_1.png .png,Original label:malignant, Prediction :benign, confidence : 0.629, class ID : 0\n",
            "filename:malignant/Mass-Test_P_01213_LEFT_CC_ROI_Mass_M_1.png .png,Original label:malignant, Prediction :benign, confidence : 0.515, class ID : 0\n",
            "filename:malignant/Mass-Test_P_01213_LEFT_MLO_ROI_Mass_M_1.png .png,Original label:malignant, Prediction :benign, confidence : 0.783, class ID : 0\n",
            "filename:malignant/Mass-Test_P_01277_RIGHT_CC_ROI_Mass_M_1.png .png,Original label:malignant, Prediction :benign, confidence : 0.698, class ID : 0\n",
            "filename:malignant/Mass-Test_P_01298_LEFT_CC_ROI_Mass_M_1.png .png,Original label:malignant, Prediction :benign, confidence : 0.697, class ID : 0\n",
            "filename:malignant/Mass-Test_P_01298_LEFT_MLO_ROI_Mass_M_1.png .png,Original label:malignant, Prediction :benign, confidence : 0.545, class ID : 0\n",
            "filename:malignant/Mass-Test_P_01323_LEFT_CC_ROI_Mass_M_1.png .png,Original label:malignant, Prediction :benign, confidence : 0.752, class ID : 0\n",
            "filename:malignant/Mass-Test_P_01348_LEFT_MLO_ROI_Mass_M_1.png .png,Original label:malignant, Prediction :benign, confidence : 0.801, class ID : 0\n",
            "filename:malignant/Mass-Test_P_01534_RIGHT_CC_ROI_Mass_M_1.png .png,Original label:malignant, Prediction :benign, confidence : 0.550, class ID : 0\n",
            "filename:malignant/Mass-Test_P_01534_RIGHT_MLO_ROI_Mass_M_1.png .png,Original label:malignant, Prediction :benign, confidence : 0.583, class ID : 0\n",
            "filename:malignant/Mass-Test_P_01661_LEFT_CC_ROI_Mass_M_1.png .png,Original label:malignant, Prediction :benign, confidence : 0.770, class ID : 0\n",
            "Accuracy 0.7188328912466844\n",
            "[[184  46]\n",
            " [ 60  87]]\n",
            "              precision    recall  f1-score   support\n",
            "\n",
            "      benign       0.75      0.80      0.78       230\n",
            "   malignant       0.65      0.59      0.62       147\n",
            "\n",
            "    accuracy                           0.72       377\n",
            "   macro avg       0.70      0.70      0.70       377\n",
            "weighted avg       0.72      0.72      0.72       377\n",
            "\n",
            "No of errors = 106/377\n",
            "filename:benign/Mass-Test_P_00032_RIGHT_CC_ROI_Mass_B_1.png .png,Original label:benign, Prediction :malignant, confidence : 0.621, class ID : 1\n",
            "filename:benign/Mass-Test_P_00126_RIGHT_CC_ROI_Mass_B_1.png .png,Original label:benign, Prediction :malignant, confidence : 0.579, class ID : 1\n",
            "filename:benign/Mass-Test_P_00173_LEFT_CC_ROI_Mass_B_1.png .png,Original label:benign, Prediction :malignant, confidence : 0.513, class ID : 1\n",
            "filename:benign/Mass-Test_P_00173_RIGHT_CC_ROI_Mass_B_2.png .png,Original label:benign, Prediction :malignant, confidence : 0.537, class ID : 1\n",
            "filename:benign/Mass-Test_P_00200_LEFT_MLO_ROI_Mass_B_1.png .png,Original label:benign, Prediction :malignant, confidence : 0.804, class ID : 1\n",
            "filename:benign/Mass-Test_P_00343_RIGHT_MLO_ROI_Mass_B_2.png .png,Original label:benign, Prediction :malignant, confidence : 0.599, class ID : 1\n",
            "filename:benign/Mass-Test_P_00358_RIGHT_CC_ROI_Arch_B_1.png .png,Original label:benign, Prediction :malignant, confidence : 0.750, class ID : 1\n",
            "filename:benign/Mass-Test_P_00358_RIGHT_MLO_ROI_Arch_B_1.png .png,Original label:benign, Prediction :malignant, confidence : 0.738, class ID : 1\n",
            "filename:benign/Mass-Test_P_00359_LEFT_MLO_ROI_Mass_B_1.png .png,Original label:benign, Prediction :malignant, confidence : 0.542, class ID : 1\n",
            "filename:benign/Mass-Test_P_00369_LEFT_CC_ROI_Mass_B_1.png .png,Original label:benign, Prediction :malignant, confidence : 0.607, class ID : 1\n",
            "filename:benign/Mass-Test_P_00379_LEFT_CC_ROI_Mass_B_1.png .png,Original label:benign, Prediction :malignant, confidence : 0.696, class ID : 1\n",
            "filename:benign/Mass-Test_P_00391_LEFT_MLO_ROI_Mass_B_1.png .png,Original label:benign, Prediction :malignant, confidence : 0.644, class ID : 1\n",
            "filename:benign/Mass-Test_P_00405_LEFT_MLO_ROI_Mass_B_1.png .png,Original label:benign, Prediction :malignant, confidence : 0.671, class ID : 1\n",
            "filename:benign/Mass-Test_P_00429_LEFT_CC_ROI_Mass_B_1.png .png,Original label:benign, Prediction :malignant, confidence : 0.652, class ID : 1\n",
            "filename:benign/Mass-Test_P_00429_LEFT_MLO_ROI_Mass_B_1.png .png,Original label:benign, Prediction :malignant, confidence : 0.908, class ID : 1\n",
            "filename:benign/Mass-Test_P_00470_RIGHT_MLO_ROI_Mass_B_1.png .png,Original label:benign, Prediction :malignant, confidence : 0.507, class ID : 1\n",
            "filename:benign/Mass-Test_P_00493_RIGHT_CC_ROI_Mass_B_1.png .png,Original label:benign, Prediction :malignant, confidence : 0.534, class ID : 1\n",
            "filename:benign/Mass-Test_P_00494_RIGHT_CC_ROI_Mass_B_1.png .png,Original label:benign, Prediction :malignant, confidence : 0.889, class ID : 1\n",
            "filename:benign/Mass-Test_P_00587_RIGHT_CC_ROI_Mass_B_1.png .png,Original label:benign, Prediction :malignant, confidence : 0.855, class ID : 1\n",
            "filename:benign/Mass-Test_P_00629_RIGHT_CC_ROI_Mass_B_1.png .png,Original label:benign, Prediction :malignant, confidence : 0.877, class ID : 1\n",
            "filename:benign/Mass-Test_P_00639_LEFT_MLO_ROI_Arch_B_1.png .png,Original label:benign, Prediction :malignant, confidence : 0.625, class ID : 1\n",
            "filename:benign/Mass-Test_P_00662_LEFT_CC_ROI_Mass_B_1.png .png,Original label:benign, Prediction :malignant, confidence : 0.591, class ID : 1\n",
            "filename:benign/Mass-Test_P_00662_LEFT_MLO_ROI_Mass_B_1.png .png,Original label:benign, Prediction :malignant, confidence : 0.943, class ID : 1\n",
            "filename:benign/Mass-Test_P_00766_LEFT_CC_ROI_Arch_B_1.png .png,Original label:benign, Prediction :malignant, confidence : 0.516, class ID : 1\n",
            "filename:benign/Mass-Test_P_00766_LEFT_MLO_ROI_Arch_B_1.png .png,Original label:benign, Prediction :malignant, confidence : 0.729, class ID : 1\n",
            "filename:benign/Mass-Test_P_00882_RIGHT_CC_ROI_Mass_B_1.png .png,Original label:benign, Prediction :malignant, confidence : 0.615, class ID : 1\n",
            "filename:benign/Mass-Test_P_00882_RIGHT_MLO_ROI_Mass_B_1.png .png,Original label:benign, Prediction :malignant, confidence : 0.819, class ID : 1\n",
            "filename:benign/Mass-Test_P_00922_RIGHT_MLO_ROI_Mass_B_1.png .png,Original label:benign, Prediction :malignant, confidence : 0.642, class ID : 1\n",
            "filename:benign/Mass-Test_P_00951_LEFT_CC_ROI_Arch_B_1.png .png,Original label:benign, Prediction :malignant, confidence : 0.710, class ID : 1\n",
            "filename:benign/Mass-Test_P_00966_RIGHT_MLO_ROI_Mass_B_1.png .png,Original label:benign, Prediction :malignant, confidence : 0.749, class ID : 1\n",
            "filename:benign/Mass-Test_P_00979_LEFT_CC_ROI_Mass_B_1.png .png,Original label:benign, Prediction :malignant, confidence : 0.910, class ID : 1\n",
            "filename:benign/Mass-Test_P_01145_LEFT_MLO_ROI_Mass_B_1.png .png,Original label:benign, Prediction :malignant, confidence : 0.734, class ID : 1\n",
            "filename:benign/Mass-Test_P_01254_RIGHT_CC_ROI_Mass_B_1.png .png,Original label:benign, Prediction :malignant, confidence : 0.692, class ID : 1\n",
            "filename:benign/Mass-Test_P_01365_LEFT_CC_ROI_Mass_B_2.png .png,Original label:benign, Prediction :malignant, confidence : 0.710, class ID : 1\n",
            "filename:benign/Mass-Test_P_01395_RIGHT_CC_ROI_Mass_B_1.png .png,Original label:benign, Prediction :malignant, confidence : 0.648, class ID : 1\n",
            "filename:benign/Mass-Test_P_01416_RIGHT_MLO_ROI_Mass_B_1.png .png,Original label:benign, Prediction :malignant, confidence : 0.894, class ID : 1\n",
            "filename:benign/Mass-Test_P_01512_LEFT_CC_ROI_Mass_B_1.png .png,Original label:benign, Prediction :malignant, confidence : 0.653, class ID : 1\n",
            "filename:benign/Mass-Test_P_01539_RIGHT_CC_ROI_Mass_B_1.png .png,Original label:benign, Prediction :malignant, confidence : 0.589, class ID : 1\n",
            "filename:benign/Mass-Test_P_01551_LEFT_MLO_ROI_Mass_B_1.png .png,Original label:benign, Prediction :malignant, confidence : 0.625, class ID : 1\n",
            "filename:benign/Mass-Test_P_01566_RIGHT_MLO_ROI_Mass_B_2.png .png,Original label:benign, Prediction :malignant, confidence : 0.507, class ID : 1\n",
            "filename:benign/Mass-Test_P_01623_RIGHT_MLO_ROI_Mass_B_1.png .png,Original label:benign, Prediction :malignant, confidence : 0.911, class ID : 1\n",
            "filename:benign/Mass-Test_P_01684_LEFT_CC_ROI_Mass_B_1.png .png,Original label:benign, Prediction :malignant, confidence : 0.619, class ID : 1\n",
            "filename:benign/Mass-Test_P_01684_LEFT_MLO_ROI_Mass_B_1.png .png,Original label:benign, Prediction :malignant, confidence : 0.579, class ID : 1\n",
            "filename:benign/Mass-Test_P_01697_LEFT_MLO_ROI_Mass_B_1.png .png,Original label:benign, Prediction :malignant, confidence : 0.905, class ID : 1\n",
            "filename:benign/Mass-Test_P_01726_RIGHT_CC_ROI_Mass_B_1.png .png,Original label:benign, Prediction :malignant, confidence : 0.550, class ID : 1\n",
            "filename:benign/Mass-Test_P_01825_RIGHT_CC_ROI_Mass_B_1.png .png,Original label:benign, Prediction :malignant, confidence : 0.744, class ID : 1\n",
            "filename:malignant/Mass-Test_P_00016_LEFT_CC_ROI_Mass_M_1.png .png,Original label:malignant, Prediction :benign, confidence : 0.638, class ID : 0\n",
            "filename:malignant/Mass-Test_P_00017_LEFT_CC_ROI_Mass_M_1.png .png,Original label:malignant, Prediction :benign, confidence : 0.835, class ID : 0\n",
            "filename:malignant/Mass-Test_P_00017_LEFT_MLO_ROI_Mass_M_1.png .png,Original label:malignant, Prediction :benign, confidence : 0.716, class ID : 0\n",
            "filename:malignant/Mass-Test_P_00066_LEFT_CC_ROI_Mass_M_1.png .png,Original label:malignant, Prediction :benign, confidence : 0.631, class ID : 0\n",
            "filename:malignant/Mass-Test_P_00066_LEFT_MLO_ROI_Mass_M_1.png .png,Original label:malignant, Prediction :benign, confidence : 0.559, class ID : 0\n",
            "filename:malignant/Mass-Test_P_00116_RIGHT_MLO_ROI_Arch_M_1.png .png,Original label:malignant, Prediction :benign, confidence : 0.589, class ID : 0\n",
            "filename:malignant/Mass-Test_P_00118_RIGHT_MLO_ROI_Mass_M_1.png .png,Original label:malignant, Prediction :benign, confidence : 0.646, class ID : 0\n",
            "filename:malignant/Mass-Test_P_00147_RIGHT_CC_ROI_Mass_M_1.png .png,Original label:malignant, Prediction :benign, confidence : 0.635, class ID : 0\n",
            "filename:malignant/Mass-Test_P_00147_RIGHT_MLO_ROI_Mass_M_1.png .png,Original label:malignant, Prediction :benign, confidence : 0.932, class ID : 0\n",
            "filename:malignant/Mass-Test_P_00194_RIGHT_CC_ROI_Mass_M_1.png .png,Original label:malignant, Prediction :benign, confidence : 0.530, class ID : 0\n",
            "filename:malignant/Mass-Test_P_00194_RIGHT_MLO_ROI_Mass_M_1.png .png,Original label:malignant, Prediction :benign, confidence : 0.894, class ID : 0\n",
            "filename:malignant/Mass-Test_P_00198_LEFT_CC_ROI_Mass_M_1.png .png,Original label:malignant, Prediction :benign, confidence : 0.812, class ID : 0\n",
            "filename:malignant/Mass-Test_P_00198_LEFT_MLO_ROI_Mass_M_1.png .png,Original label:malignant, Prediction :benign, confidence : 0.801, class ID : 0\n",
            "filename:malignant/Mass-Test_P_00202_RIGHT_MLO_ROI_Arch_M_1.png .png,Original label:malignant, Prediction :benign, confidence : 0.592, class ID : 0\n",
            "filename:malignant/Mass-Test_P_00212_RIGHT_CC_ROI_Mass_M_1.png .png,Original label:malignant, Prediction :benign, confidence : 0.548, class ID : 0\n",
            "filename:malignant/Mass-Test_P_00212_RIGHT_MLO_ROI_Mass_M_1.png .png,Original label:malignant, Prediction :benign, confidence : 0.961, class ID : 0\n",
            "filename:malignant/Mass-Test_P_00324_RIGHT_CC_ROI_Mass_M_1.png .png,Original label:malignant, Prediction :benign, confidence : 0.543, class ID : 0\n",
            "filename:malignant/Mass-Test_P_00347_LEFT_CC_ROI_Mass_M_1.png .png,Original label:malignant, Prediction :benign, confidence : 0.665, class ID : 0\n",
            "filename:malignant/Mass-Test_P_00498_LEFT_CC_ROI_Mass_M_1.png .png,Original label:malignant, Prediction :benign, confidence : 0.756, class ID : 0\n",
            "filename:malignant/Mass-Test_P_00514_LEFT_MLO_ROI_Mass_M_1.png .png,Original label:malignant, Prediction :benign, confidence : 0.595, class ID : 0\n",
            "filename:malignant/Mass-Test_P_00524_LEFT_CC_ROI_Mass_M_1.png .png,Original label:malignant, Prediction :benign, confidence : 0.536, class ID : 0\n",
            "filename:malignant/Mass-Test_P_00524_LEFT_MLO_ROI_Mass_M_1.png .png,Original label:malignant, Prediction :benign, confidence : 0.858, class ID : 0\n",
            "filename:malignant/Mass-Test_P_00576_LEFT_MLO_ROI_Mass_M_1.png .png,Original label:malignant, Prediction :benign, confidence : 0.761, class ID : 0\n",
            "filename:malignant/Mass-Test_P_00591_RIGHT_MLO_ROI_Mass_M_3.png .png,Original label:malignant, Prediction :benign, confidence : 0.980, class ID : 0\n",
            "filename:malignant/Mass-Test_P_00636_RIGHT_CC_ROI_Mass_M_1.png .png,Original label:malignant, Prediction :benign, confidence : 0.520, class ID : 0\n",
            "filename:malignant/Mass-Test_P_00641_RIGHT_CC_ROI_Mass_M_1.png .png,Original label:malignant, Prediction :benign, confidence : 0.733, class ID : 0\n",
            "filename:malignant/Mass-Test_P_00677_RIGHT_MLO_ROI_Mass_M_1.png .png,Original label:malignant, Prediction :benign, confidence : 0.621, class ID : 0\n",
            "filename:malignant/Mass-Test_P_00741_LEFT_CC_ROI_Mass_M_1.png .png,Original label:malignant, Prediction :benign, confidence : 0.697, class ID : 0\n",
            "filename:malignant/Mass-Test_P_00741_LEFT_MLO_ROI_Mass_M_1.png .png,Original label:malignant, Prediction :benign, confidence : 0.602, class ID : 0\n",
            "filename:malignant/Mass-Test_P_00758_LEFT_CC_ROI_Arch_M_1.png .png,Original label:malignant, Prediction :benign, confidence : 0.533, class ID : 0\n",
            "filename:malignant/Mass-Test_P_00773_LEFT_MLO_ROI_Arch_M_1.png .png,Original label:malignant, Prediction :benign, confidence : 0.729, class ID : 0\n",
            "filename:malignant/Mass-Test_P_00813_RIGHT_MLO_ROI_Mass_M_1.png .png,Original label:malignant, Prediction :benign, confidence : 0.667, class ID : 0\n",
            "filename:malignant/Mass-Test_P_00820_LEFT_CC_ROI_Mass_M_1.png .png,Original label:malignant, Prediction :benign, confidence : 0.509, class ID : 0\n",
            "filename:malignant/Mass-Test_P_00932_LEFT_MLO_ROI_Mass_M_1.png .png,Original label:malignant, Prediction :benign, confidence : 0.559, class ID : 0\n",
            "filename:malignant/Mass-Test_P_00947_RIGHT_MLO_ROI_Mass_M_1.png .png,Original label:malignant, Prediction :benign, confidence : 0.759, class ID : 0\n",
            "filename:malignant/Mass-Test_P_00951_RIGHT_CC_ROI_Mass_M_1.png .png,Original label:malignant, Prediction :benign, confidence : 0.770, class ID : 0\n",
            "filename:malignant/Mass-Test_P_00962_RIGHT_MLO_ROI_Mass_M_1.png .png,Original label:malignant, Prediction :benign, confidence : 0.841, class ID : 0\n",
            "filename:malignant/Mass-Test_P_00969_LEFT_MLO_ROI_Arch_M_4.png .png,Original label:malignant, Prediction :benign, confidence : 0.677, class ID : 0\n",
            "filename:malignant/Mass-Test_P_01114_RIGHT_MLO_ROI_Mass_M_1.png .png,Original label:malignant, Prediction :benign, confidence : 0.722, class ID : 0\n",
            "filename:malignant/Mass-Test_P_01140_LEFT_MLO_ROI_Mass_M_1.png .png,Original label:malignant, Prediction :benign, confidence : 0.638, class ID : 0\n",
            "filename:malignant/Mass-Test_P_01167_LEFT_MLO_ROI_Mass_M_1.png .png,Original label:malignant, Prediction :benign, confidence : 0.673, class ID : 0\n",
            "filename:malignant/Mass-Test_P_01213_LEFT_CC_ROI_Mass_M_1.png .png,Original label:malignant, Prediction :benign, confidence : 0.681, class ID : 0\n",
            "filename:malignant/Mass-Test_P_01213_LEFT_MLO_ROI_Mass_M_1.png .png,Original label:malignant, Prediction :benign, confidence : 0.882, class ID : 0\n",
            "filename:malignant/Mass-Test_P_01277_RIGHT_CC_ROI_Mass_M_1.png .png,Original label:malignant, Prediction :benign, confidence : 0.855, class ID : 0\n",
            "filename:malignant/Mass-Test_P_01298_LEFT_CC_ROI_Mass_M_1.png .png,Original label:malignant, Prediction :benign, confidence : 0.734, class ID : 0\n",
            "filename:malignant/Mass-Test_P_01323_LEFT_CC_ROI_Mass_M_1.png .png,Original label:malignant, Prediction :benign, confidence : 0.788, class ID : 0\n",
            "filename:malignant/Mass-Test_P_01323_LEFT_MLO_ROI_Mass_M_1.png .png,Original label:malignant, Prediction :benign, confidence : 0.549, class ID : 0\n",
            "filename:malignant/Mass-Test_P_01347_RIGHT_MLO_ROI_Mass_M_1.png .png,Original label:malignant, Prediction :benign, confidence : 0.577, class ID : 0\n",
            "filename:malignant/Mass-Test_P_01348_LEFT_MLO_ROI_Mass_M_1.png .png,Original label:malignant, Prediction :benign, confidence : 0.869, class ID : 0\n",
            "filename:malignant/Mass-Test_P_01534_RIGHT_CC_ROI_Mass_M_1.png .png,Original label:malignant, Prediction :benign, confidence : 0.739, class ID : 0\n",
            "filename:malignant/Mass-Test_P_01534_RIGHT_MLO_ROI_Mass_M_1.png .png,Original label:malignant, Prediction :benign, confidence : 0.773, class ID : 0\n",
            "filename:malignant/Mass-Test_P_01546_LEFT_CC_ROI_Mass_M_1.png .png,Original label:malignant, Prediction :benign, confidence : 0.560, class ID : 0\n",
            "filename:malignant/Mass-Test_P_01546_LEFT_MLO_ROI_Mass_M_1.png .png,Original label:malignant, Prediction :benign, confidence : 0.520, class ID : 0\n",
            "filename:malignant/Mass-Test_P_01623_RIGHT_CC_ROI_Mass_M_1.png .png,Original label:malignant, Prediction :benign, confidence : 0.515, class ID : 0\n",
            "filename:malignant/Mass-Test_P_01661_LEFT_CC_ROI_Mass_M_1.png .png,Original label:malignant, Prediction :benign, confidence : 0.777, class ID : 0\n",
            "filename:malignant/Mass-Test_P_01661_LEFT_MLO_ROI_Mass_M_1.png .png,Original label:malignant, Prediction :benign, confidence : 0.536, class ID : 0\n",
            "filename:malignant/Mass-Test_P_01719_RIGHT_MLO_ROI_Mass_M_1.png .png,Original label:malignant, Prediction :benign, confidence : 0.648, class ID : 0\n",
            "filename:malignant/Mass-Test_P_01787_LEFT_CC_ROI_Mass_M_1.png .png,Original label:malignant, Prediction :benign, confidence : 0.527, class ID : 0\n",
            "filename:malignant/Mass-Test_P_01815_RIGHT_CC_ROI_Mass_M_1.png .png,Original label:malignant, Prediction :benign, confidence : 0.508, class ID : 0\n",
            "filename:malignant/Mass-Test_P_01865_LEFT_MLO_ROI_Mass_M_1.png .png,Original label:malignant, Prediction :benign, confidence : 0.551, class ID : 0\n",
            "Accuracy 0.7294429708222812\n",
            "[[209  21]\n",
            " [ 81  66]]\n",
            "              precision    recall  f1-score   support\n",
            "\n",
            "      benign       0.72      0.91      0.80       230\n",
            "   malignant       0.76      0.45      0.56       147\n",
            "\n",
            "    accuracy                           0.73       377\n",
            "   macro avg       0.74      0.68      0.68       377\n",
            "weighted avg       0.74      0.73      0.71       377\n",
            "\n",
            "No of errors = 102/377\n",
            "filename:benign/Mass-Test_P_00200_LEFT_MLO_ROI_Mass_B_1.png .png,Original label:benign, Prediction :malignant, confidence : 0.623, class ID : 1\n",
            "filename:benign/Mass-Test_P_00358_RIGHT_CC_ROI_Arch_B_1.png .png,Original label:benign, Prediction :malignant, confidence : 0.553, class ID : 1\n",
            "filename:benign/Mass-Test_P_00358_RIGHT_MLO_ROI_Arch_B_1.png .png,Original label:benign, Prediction :malignant, confidence : 0.519, class ID : 1\n",
            "filename:benign/Mass-Test_P_00391_LEFT_MLO_ROI_Mass_B_1.png .png,Original label:benign, Prediction :malignant, confidence : 0.539, class ID : 1\n",
            "filename:benign/Mass-Test_P_00405_LEFT_MLO_ROI_Mass_B_1.png .png,Original label:benign, Prediction :malignant, confidence : 0.525, class ID : 1\n",
            "filename:benign/Mass-Test_P_00429_LEFT_CC_ROI_Mass_B_1.png .png,Original label:benign, Prediction :malignant, confidence : 0.569, class ID : 1\n",
            "filename:benign/Mass-Test_P_00429_LEFT_MLO_ROI_Mass_B_1.png .png,Original label:benign, Prediction :malignant, confidence : 0.773, class ID : 1\n",
            "filename:benign/Mass-Test_P_00494_RIGHT_CC_ROI_Mass_B_1.png .png,Original label:benign, Prediction :malignant, confidence : 0.811, class ID : 1\n",
            "filename:benign/Mass-Test_P_00587_RIGHT_CC_ROI_Mass_B_1.png .png,Original label:benign, Prediction :malignant, confidence : 0.771, class ID : 1\n",
            "filename:benign/Mass-Test_P_00629_RIGHT_CC_ROI_Mass_B_1.png .png,Original label:benign, Prediction :malignant, confidence : 0.776, class ID : 1\n",
            "filename:benign/Mass-Test_P_00662_LEFT_MLO_ROI_Mass_B_1.png .png,Original label:benign, Prediction :malignant, confidence : 0.823, class ID : 1\n",
            "filename:benign/Mass-Test_P_00766_LEFT_MLO_ROI_Arch_B_1.png .png,Original label:benign, Prediction :malignant, confidence : 0.747, class ID : 1\n",
            "filename:benign/Mass-Test_P_00882_RIGHT_MLO_ROI_Mass_B_1.png .png,Original label:benign, Prediction :malignant, confidence : 0.595, class ID : 1\n",
            "filename:benign/Mass-Test_P_00966_RIGHT_MLO_ROI_Mass_B_1.png .png,Original label:benign, Prediction :malignant, confidence : 0.590, class ID : 1\n",
            "filename:benign/Mass-Test_P_00979_LEFT_CC_ROI_Mass_B_1.png .png,Original label:benign, Prediction :malignant, confidence : 0.784, class ID : 1\n",
            "filename:benign/Mass-Test_P_01145_LEFT_MLO_ROI_Mass_B_1.png .png,Original label:benign, Prediction :malignant, confidence : 0.588, class ID : 1\n",
            "filename:benign/Mass-Test_P_01254_RIGHT_CC_ROI_Mass_B_1.png .png,Original label:benign, Prediction :malignant, confidence : 0.578, class ID : 1\n",
            "filename:benign/Mass-Test_P_01416_RIGHT_MLO_ROI_Mass_B_1.png .png,Original label:benign, Prediction :malignant, confidence : 0.723, class ID : 1\n",
            "filename:benign/Mass-Test_P_01623_RIGHT_MLO_ROI_Mass_B_1.png .png,Original label:benign, Prediction :malignant, confidence : 0.735, class ID : 1\n",
            "filename:benign/Mass-Test_P_01697_LEFT_MLO_ROI_Mass_B_1.png .png,Original label:benign, Prediction :malignant, confidence : 0.756, class ID : 1\n",
            "filename:benign/Mass-Test_P_01825_RIGHT_CC_ROI_Mass_B_1.png .png,Original label:benign, Prediction :malignant, confidence : 0.505, class ID : 1\n",
            "filename:malignant/Mass-Test_P_00016_LEFT_CC_ROI_Mass_M_1.png .png,Original label:malignant, Prediction :benign, confidence : 0.808, class ID : 0\n",
            "filename:malignant/Mass-Test_P_00017_LEFT_CC_ROI_Mass_M_1.png .png,Original label:malignant, Prediction :benign, confidence : 0.913, class ID : 0\n",
            "filename:malignant/Mass-Test_P_00017_LEFT_MLO_ROI_Mass_M_1.png .png,Original label:malignant, Prediction :benign, confidence : 0.834, class ID : 0\n",
            "filename:malignant/Mass-Test_P_00066_LEFT_CC_ROI_Mass_M_1.png .png,Original label:malignant, Prediction :benign, confidence : 0.837, class ID : 0\n",
            "filename:malignant/Mass-Test_P_00066_LEFT_MLO_ROI_Mass_M_1.png .png,Original label:malignant, Prediction :benign, confidence : 0.763, class ID : 0\n",
            "filename:malignant/Mass-Test_P_00116_RIGHT_MLO_ROI_Arch_M_1.png .png,Original label:malignant, Prediction :benign, confidence : 0.776, class ID : 0\n",
            "filename:malignant/Mass-Test_P_00118_RIGHT_MLO_ROI_Mass_M_1.png .png,Original label:malignant, Prediction :benign, confidence : 0.722, class ID : 0\n",
            "filename:malignant/Mass-Test_P_00147_RIGHT_CC_ROI_Mass_M_1.png .png,Original label:malignant, Prediction :benign, confidence : 0.708, class ID : 0\n",
            "filename:malignant/Mass-Test_P_00147_RIGHT_MLO_ROI_Mass_M_1.png .png,Original label:malignant, Prediction :benign, confidence : 0.957, class ID : 0\n",
            "filename:malignant/Mass-Test_P_00194_RIGHT_CC_ROI_Mass_M_1.png .png,Original label:malignant, Prediction :benign, confidence : 0.798, class ID : 0\n",
            "filename:malignant/Mass-Test_P_00194_RIGHT_MLO_ROI_Mass_M_1.png .png,Original label:malignant, Prediction :benign, confidence : 0.971, class ID : 0\n",
            "filename:malignant/Mass-Test_P_00198_LEFT_CC_ROI_Mass_M_1.png .png,Original label:malignant, Prediction :benign, confidence : 0.932, class ID : 0\n",
            "filename:malignant/Mass-Test_P_00198_LEFT_MLO_ROI_Mass_M_1.png .png,Original label:malignant, Prediction :benign, confidence : 0.927, class ID : 0\n",
            "filename:malignant/Mass-Test_P_00202_RIGHT_MLO_ROI_Arch_M_1.png .png,Original label:malignant, Prediction :benign, confidence : 0.804, class ID : 0\n",
            "filename:malignant/Mass-Test_P_00209_LEFT_MLO_ROI_Mass_M_1.png .png,Original label:malignant, Prediction :benign, confidence : 0.571, class ID : 0\n",
            "filename:malignant/Mass-Test_P_00212_RIGHT_CC_ROI_Mass_M_1.png .png,Original label:malignant, Prediction :benign, confidence : 0.779, class ID : 0\n",
            "filename:malignant/Mass-Test_P_00212_RIGHT_MLO_ROI_Mass_M_1.png .png,Original label:malignant, Prediction :benign, confidence : 0.991, class ID : 0\n",
            "filename:malignant/Mass-Test_P_00324_RIGHT_CC_ROI_Mass_M_1.png .png,Original label:malignant, Prediction :benign, confidence : 0.760, class ID : 0\n",
            "filename:malignant/Mass-Test_P_00347_LEFT_CC_ROI_Mass_M_1.png .png,Original label:malignant, Prediction :benign, confidence : 0.823, class ID : 0\n",
            "filename:malignant/Mass-Test_P_00481_RIGHT_CC_ROI_Mass_M_1.png .png,Original label:malignant, Prediction :benign, confidence : 0.591, class ID : 0\n",
            "filename:malignant/Mass-Test_P_00498_LEFT_CC_ROI_Mass_M_1.png .png,Original label:malignant, Prediction :benign, confidence : 0.850, class ID : 0\n",
            "filename:malignant/Mass-Test_P_00498_LEFT_MLO_ROI_Mass_M_1.png .png,Original label:malignant, Prediction :benign, confidence : 0.550, class ID : 0\n",
            "filename:malignant/Mass-Test_P_00500_RIGHT_MLO_ROI_Mass_M_1.png .png,Original label:malignant, Prediction :benign, confidence : 0.591, class ID : 0\n",
            "filename:malignant/Mass-Test_P_00514_LEFT_MLO_ROI_Mass_M_1.png .png,Original label:malignant, Prediction :benign, confidence : 0.797, class ID : 0\n",
            "filename:malignant/Mass-Test_P_00524_LEFT_CC_ROI_Mass_M_1.png .png,Original label:malignant, Prediction :benign, confidence : 0.741, class ID : 0\n",
            "filename:malignant/Mass-Test_P_00524_LEFT_MLO_ROI_Mass_M_1.png .png,Original label:malignant, Prediction :benign, confidence : 0.953, class ID : 0\n",
            "filename:malignant/Mass-Test_P_00544_LEFT_MLO_ROI_Mass_M_1.png .png,Original label:malignant, Prediction :benign, confidence : 0.654, class ID : 0\n",
            "filename:malignant/Mass-Test_P_00576_LEFT_MLO_ROI_Mass_M_1.png .png,Original label:malignant, Prediction :benign, confidence : 0.861, class ID : 0\n",
            "filename:malignant/Mass-Test_P_00591_RIGHT_MLO_ROI_Mass_M_3.png .png,Original label:malignant, Prediction :benign, confidence : 0.995, class ID : 0\n",
            "filename:malignant/Mass-Test_P_00636_RIGHT_CC_ROI_Mass_M_1.png .png,Original label:malignant, Prediction :benign, confidence : 0.710, class ID : 0\n",
            "filename:malignant/Mass-Test_P_00641_RIGHT_CC_ROI_Mass_M_1.png .png,Original label:malignant, Prediction :benign, confidence : 0.862, class ID : 0\n",
            "filename:malignant/Mass-Test_P_00641_RIGHT_MLO_ROI_Mass_M_1.png .png,Original label:malignant, Prediction :benign, confidence : 0.607, class ID : 0\n",
            "filename:malignant/Mass-Test_P_00677_RIGHT_MLO_ROI_Mass_M_1.png .png,Original label:malignant, Prediction :benign, confidence : 0.748, class ID : 0\n",
            "filename:malignant/Mass-Test_P_00741_LEFT_CC_ROI_Mass_M_1.png .png,Original label:malignant, Prediction :benign, confidence : 0.562, class ID : 0\n",
            "filename:malignant/Mass-Test_P_00741_LEFT_MLO_ROI_Mass_M_1.png .png,Original label:malignant, Prediction :benign, confidence : 0.807, class ID : 0\n",
            "filename:malignant/Mass-Test_P_00758_LEFT_CC_ROI_Arch_M_1.png .png,Original label:malignant, Prediction :benign, confidence : 0.768, class ID : 0\n",
            "filename:malignant/Mass-Test_P_00758_LEFT_MLO_ROI_Arch_M_1.png .png,Original label:malignant, Prediction :benign, confidence : 0.525, class ID : 0\n",
            "filename:malignant/Mass-Test_P_00773_LEFT_CC_ROI_Arch_M_1.png .png,Original label:malignant, Prediction :benign, confidence : 0.570, class ID : 0\n",
            "filename:malignant/Mass-Test_P_00773_LEFT_MLO_ROI_Arch_M_1.png .png,Original label:malignant, Prediction :benign, confidence : 0.863, class ID : 0\n",
            "filename:malignant/Mass-Test_P_00813_RIGHT_MLO_ROI_Mass_M_1.png .png,Original label:malignant, Prediction :benign, confidence : 0.751, class ID : 0\n",
            "filename:malignant/Mass-Test_P_00820_LEFT_CC_ROI_Mass_M_1.png .png,Original label:malignant, Prediction :benign, confidence : 0.719, class ID : 0\n",
            "filename:malignant/Mass-Test_P_00820_LEFT_MLO_ROI_Mass_M_1.png .png,Original label:malignant, Prediction :benign, confidence : 0.528, class ID : 0\n",
            "filename:malignant/Mass-Test_P_00932_LEFT_MLO_ROI_Mass_M_1.png .png,Original label:malignant, Prediction :benign, confidence : 0.685, class ID : 0\n",
            "filename:malignant/Mass-Test_P_00942_LEFT_CC_ROI_Mass_M_1.png .png,Original label:malignant, Prediction :benign, confidence : 0.666, class ID : 0\n",
            "filename:malignant/Mass-Test_P_00947_RIGHT_MLO_ROI_Mass_M_1.png .png,Original label:malignant, Prediction :benign, confidence : 0.849, class ID : 0\n",
            "filename:malignant/Mass-Test_P_00951_RIGHT_CC_ROI_Mass_M_1.png .png,Original label:malignant, Prediction :benign, confidence : 0.901, class ID : 0\n",
            "filename:malignant/Mass-Test_P_00962_RIGHT_MLO_ROI_Mass_M_1.png .png,Original label:malignant, Prediction :benign, confidence : 0.852, class ID : 0\n",
            "filename:malignant/Mass-Test_P_00969_LEFT_MLO_ROI_Arch_M_4.png .png,Original label:malignant, Prediction :benign, confidence : 0.775, class ID : 0\n",
            "filename:malignant/Mass-Test_P_00985_RIGHT_MLO_ROI_Mass_M_1.png .png,Original label:malignant, Prediction :benign, confidence : 0.516, class ID : 0\n",
            "filename:malignant/Mass-Test_P_00986_LEFT_MLO_ROI_Mass_M_1.png .png,Original label:malignant, Prediction :benign, confidence : 0.623, class ID : 0\n",
            "filename:malignant/Mass-Test_P_01068_RIGHT_MLO_ROI_Mass_M_1.png .png,Original label:malignant, Prediction :benign, confidence : 0.521, class ID : 0\n",
            "filename:malignant/Mass-Test_P_01114_RIGHT_MLO_ROI_Mass_M_1.png .png,Original label:malignant, Prediction :benign, confidence : 0.823, class ID : 0\n",
            "filename:malignant/Mass-Test_P_01140_LEFT_MLO_ROI_Mass_M_1.png .png,Original label:malignant, Prediction :benign, confidence : 0.718, class ID : 0\n",
            "filename:malignant/Mass-Test_P_01167_LEFT_MLO_ROI_Mass_M_1.png .png,Original label:malignant, Prediction :benign, confidence : 0.797, class ID : 0\n",
            "filename:malignant/Mass-Test_P_01213_LEFT_CC_ROI_Mass_M_1.png .png,Original label:malignant, Prediction :benign, confidence : 0.786, class ID : 0\n",
            "filename:malignant/Mass-Test_P_01213_LEFT_MLO_ROI_Mass_M_1.png .png,Original label:malignant, Prediction :benign, confidence : 0.948, class ID : 0\n",
            "filename:malignant/Mass-Test_P_01277_RIGHT_CC_ROI_Mass_M_1.png .png,Original label:malignant, Prediction :benign, confidence : 0.925, class ID : 0\n",
            "filename:malignant/Mass-Test_P_01277_RIGHT_MLO_ROI_Mass_M_1.png .png,Original label:malignant, Prediction :benign, confidence : 0.560, class ID : 0\n",
            "filename:malignant/Mass-Test_P_01298_LEFT_CC_ROI_Mass_M_1.png .png,Original label:malignant, Prediction :benign, confidence : 0.900, class ID : 0\n",
            "filename:malignant/Mass-Test_P_01298_LEFT_MLO_ROI_Mass_M_1.png .png,Original label:malignant, Prediction :benign, confidence : 0.834, class ID : 0\n",
            "filename:malignant/Mass-Test_P_01323_LEFT_CC_ROI_Mass_M_1.png .png,Original label:malignant, Prediction :benign, confidence : 0.922, class ID : 0\n",
            "filename:malignant/Mass-Test_P_01323_LEFT_MLO_ROI_Mass_M_1.png .png,Original label:malignant, Prediction :benign, confidence : 0.668, class ID : 0\n",
            "filename:malignant/Mass-Test_P_01347_RIGHT_MLO_ROI_Mass_M_1.png .png,Original label:malignant, Prediction :benign, confidence : 0.720, class ID : 0\n",
            "filename:malignant/Mass-Test_P_01348_LEFT_MLO_ROI_Mass_M_1.png .png,Original label:malignant, Prediction :benign, confidence : 0.960, class ID : 0\n",
            "filename:malignant/Mass-Test_P_01489_RIGHT_MLO_ROI_Mass_M_1.png .png,Original label:malignant, Prediction :benign, confidence : 0.619, class ID : 0\n",
            "filename:malignant/Mass-Test_P_01534_RIGHT_CC_ROI_Mass_M_1.png .png,Original label:malignant, Prediction :benign, confidence : 0.852, class ID : 0\n",
            "filename:malignant/Mass-Test_P_01534_RIGHT_MLO_ROI_Mass_M_1.png .png,Original label:malignant, Prediction :benign, confidence : 0.899, class ID : 0\n",
            "filename:malignant/Mass-Test_P_01546_LEFT_CC_ROI_Mass_M_1.png .png,Original label:malignant, Prediction :benign, confidence : 0.648, class ID : 0\n",
            "filename:malignant/Mass-Test_P_01546_LEFT_MLO_ROI_Mass_M_1.png .png,Original label:malignant, Prediction :benign, confidence : 0.556, class ID : 0\n",
            "filename:malignant/Mass-Test_P_01623_RIGHT_CC_ROI_Mass_M_1.png .png,Original label:malignant, Prediction :benign, confidence : 0.761, class ID : 0\n",
            "filename:malignant/Mass-Test_P_01640_LEFT_MLO_ROI_Mass_M_1.png .png,Original label:malignant, Prediction :benign, confidence : 0.759, class ID : 0\n",
            "filename:malignant/Mass-Test_P_01661_LEFT_CC_ROI_Mass_M_1.png .png,Original label:malignant, Prediction :benign, confidence : 0.947, class ID : 0\n",
            "filename:malignant/Mass-Test_P_01661_LEFT_MLO_ROI_Mass_M_1.png .png,Original label:malignant, Prediction :benign, confidence : 0.758, class ID : 0\n",
            "filename:malignant/Mass-Test_P_01666_RIGHT_MLO_ROI_Mass_M_1.png .png,Original label:malignant, Prediction :benign, confidence : 0.734, class ID : 0\n",
            "filename:malignant/Mass-Test_P_01719_RIGHT_CC_ROI_Mass_M_1.png .png,Original label:malignant, Prediction :benign, confidence : 0.511, class ID : 0\n",
            "filename:malignant/Mass-Test_P_01719_RIGHT_MLO_ROI_Mass_M_1.png .png,Original label:malignant, Prediction :benign, confidence : 0.746, class ID : 0\n",
            "filename:malignant/Mass-Test_P_01787_LEFT_CC_ROI_Mass_M_1.png .png,Original label:malignant, Prediction :benign, confidence : 0.675, class ID : 0\n",
            "filename:malignant/Mass-Test_P_01800_LEFT_MLO_ROI_Mass_M_1.png .png,Original label:malignant, Prediction :benign, confidence : 0.567, class ID : 0\n",
            "filename:malignant/Mass-Test_P_01815_RIGHT_CC_ROI_Mass_M_1.png .png,Original label:malignant, Prediction :benign, confidence : 0.790, class ID : 0\n",
            "filename:malignant/Mass-Test_P_01815_RIGHT_MLO_ROI_Mass_M_1.png .png,Original label:malignant, Prediction :benign, confidence : 0.602, class ID : 0\n",
            "filename:malignant/Mass-Test_P_01865_LEFT_MLO_ROI_Mass_M_1.png .png,Original label:malignant, Prediction :benign, confidence : 0.696, class ID : 0\n",
            "Accuracy 0.7002652519893899\n",
            "[[161  69]\n",
            " [ 44 103]]\n",
            "              precision    recall  f1-score   support\n",
            "\n",
            "      benign       0.79      0.70      0.74       230\n",
            "   malignant       0.60      0.70      0.65       147\n",
            "\n",
            "    accuracy                           0.70       377\n",
            "   macro avg       0.69      0.70      0.69       377\n",
            "weighted avg       0.71      0.70      0.70       377\n",
            "\n",
            "No of errors = 113/377\n",
            "filename:benign/Mass-Test_P_00032_RIGHT_CC_ROI_Mass_B_1.png .png,Original label:benign, Prediction :malignant, confidence : 0.676, class ID : 1\n",
            "filename:benign/Mass-Test_P_00032_RIGHT_MLO_ROI_Mass_B_1.png .png,Original label:benign, Prediction :malignant, confidence : 0.590, class ID : 1\n",
            "filename:benign/Mass-Test_P_00126_RIGHT_CC_ROI_Mass_B_1.png .png,Original label:benign, Prediction :malignant, confidence : 0.718, class ID : 1\n",
            "filename:benign/Mass-Test_P_00126_RIGHT_MLO_ROI_Mass_B_1.png .png,Original label:benign, Prediction :malignant, confidence : 0.527, class ID : 1\n",
            "filename:benign/Mass-Test_P_00145_LEFT_MLO_ROI_Mass_B_1.png .png,Original label:benign, Prediction :malignant, confidence : 0.551, class ID : 1\n",
            "filename:benign/Mass-Test_P_00171_RIGHT_CC_ROI_Mass_B_1.png .png,Original label:benign, Prediction :malignant, confidence : 0.548, class ID : 1\n",
            "filename:benign/Mass-Test_P_00171_RIGHT_MLO_ROI_Mass_B_1.png .png,Original label:benign, Prediction :malignant, confidence : 0.621, class ID : 1\n",
            "filename:benign/Mass-Test_P_00173_RIGHT_CC_ROI_Mass_B_2.png .png,Original label:benign, Prediction :malignant, confidence : 0.596, class ID : 1\n",
            "filename:benign/Mass-Test_P_00200_LEFT_MLO_ROI_Mass_B_1.png .png,Original label:benign, Prediction :malignant, confidence : 0.835, class ID : 1\n",
            "filename:benign/Mass-Test_P_00358_RIGHT_CC_ROI_Arch_B_1.png .png,Original label:benign, Prediction :malignant, confidence : 0.790, class ID : 1\n",
            "filename:benign/Mass-Test_P_00358_RIGHT_MLO_ROI_Arch_B_1.png .png,Original label:benign, Prediction :malignant, confidence : 0.745, class ID : 1\n",
            "filename:benign/Mass-Test_P_00359_LEFT_MLO_ROI_Mass_B_1.png .png,Original label:benign, Prediction :malignant, confidence : 0.629, class ID : 1\n",
            "filename:benign/Mass-Test_P_00369_LEFT_CC_ROI_Mass_B_1.png .png,Original label:benign, Prediction :malignant, confidence : 0.758, class ID : 1\n",
            "filename:benign/Mass-Test_P_00379_LEFT_CC_ROI_Mass_B_1.png .png,Original label:benign, Prediction :malignant, confidence : 0.805, class ID : 1\n",
            "filename:benign/Mass-Test_P_00387_RIGHT_MLO_ROI_Mass_B_1.png .png,Original label:benign, Prediction :malignant, confidence : 0.582, class ID : 1\n",
            "filename:benign/Mass-Test_P_00391_LEFT_MLO_ROI_Mass_B_1.png .png,Original label:benign, Prediction :malignant, confidence : 0.786, class ID : 1\n",
            "filename:benign/Mass-Test_P_00391_RIGHT_CC_ROI_Mass_B_1.png .png,Original label:benign, Prediction :malignant, confidence : 0.583, class ID : 1\n",
            "filename:benign/Mass-Test_P_00394_RIGHT_MLO_ROI_Arch_B_1.png .png,Original label:benign, Prediction :malignant, confidence : 0.578, class ID : 1\n",
            "filename:benign/Mass-Test_P_00405_LEFT_MLO_ROI_Mass_B_1.png .png,Original label:benign, Prediction :malignant, confidence : 0.811, class ID : 1\n",
            "filename:benign/Mass-Test_P_00429_LEFT_CC_ROI_Mass_B_1.png .png,Original label:benign, Prediction :malignant, confidence : 0.672, class ID : 1\n",
            "filename:benign/Mass-Test_P_00429_LEFT_MLO_ROI_Mass_B_1.png .png,Original label:benign, Prediction :malignant, confidence : 0.885, class ID : 1\n",
            "filename:benign/Mass-Test_P_00457_LEFT_CC_ROI_Mass_B_1.png .png,Original label:benign, Prediction :malignant, confidence : 0.634, class ID : 1\n",
            "filename:benign/Mass-Test_P_00470_RIGHT_MLO_ROI_Mass_B_1.png .png,Original label:benign, Prediction :malignant, confidence : 0.597, class ID : 1\n",
            "filename:benign/Mass-Test_P_00493_RIGHT_CC_ROI_Mass_B_1.png .png,Original label:benign, Prediction :malignant, confidence : 0.647, class ID : 1\n",
            "filename:benign/Mass-Test_P_00494_RIGHT_CC_ROI_Mass_B_1.png .png,Original label:benign, Prediction :malignant, confidence : 0.945, class ID : 1\n",
            "filename:benign/Mass-Test_P_00494_RIGHT_MLO_ROI_Mass_B_1.png .png,Original label:benign, Prediction :malignant, confidence : 0.587, class ID : 1\n",
            "filename:benign/Mass-Test_P_00587_RIGHT_CC_ROI_Mass_B_1.png .png,Original label:benign, Prediction :malignant, confidence : 0.929, class ID : 1\n",
            "filename:benign/Mass-Test_P_00587_RIGHT_MLO_ROI_Mass_B_1.png .png,Original label:benign, Prediction :malignant, confidence : 0.520, class ID : 1\n",
            "filename:benign/Mass-Test_P_00629_RIGHT_CC_ROI_Mass_B_1.png .png,Original label:benign, Prediction :malignant, confidence : 0.890, class ID : 1\n",
            "filename:benign/Mass-Test_P_00639_LEFT_MLO_ROI_Arch_B_1.png .png,Original label:benign, Prediction :malignant, confidence : 0.635, class ID : 1\n",
            "filename:benign/Mass-Test_P_00662_LEFT_CC_ROI_Mass_B_1.png .png,Original label:benign, Prediction :malignant, confidence : 0.723, class ID : 1\n",
            "filename:benign/Mass-Test_P_00662_LEFT_MLO_ROI_Mass_B_1.png .png,Original label:benign, Prediction :malignant, confidence : 0.949, class ID : 1\n",
            "filename:benign/Mass-Test_P_00671_LEFT_MLO_ROI_Mass_B_1.png .png,Original label:benign, Prediction :malignant, confidence : 0.552, class ID : 1\n",
            "filename:benign/Mass-Test_P_00766_LEFT_CC_ROI_Arch_B_1.png .png,Original label:benign, Prediction :malignant, confidence : 0.718, class ID : 1\n",
            "filename:benign/Mass-Test_P_00766_LEFT_MLO_ROI_Arch_B_1.png .png,Original label:benign, Prediction :malignant, confidence : 0.934, class ID : 1\n",
            "filename:benign/Mass-Test_P_00788_RIGHT_MLO_ROI_Mass_B_1.png .png,Original label:benign, Prediction :malignant, confidence : 0.598, class ID : 1\n",
            "filename:benign/Mass-Test_P_00882_RIGHT_CC_ROI_Mass_B_1.png .png,Original label:benign, Prediction :malignant, confidence : 0.783, class ID : 1\n",
            "filename:benign/Mass-Test_P_00882_RIGHT_MLO_ROI_Mass_B_1.png .png,Original label:benign, Prediction :malignant, confidence : 0.893, class ID : 1\n",
            "filename:benign/Mass-Test_P_00922_RIGHT_MLO_ROI_Mass_B_1.png .png,Original label:benign, Prediction :malignant, confidence : 0.830, class ID : 1\n",
            "filename:benign/Mass-Test_P_00951_LEFT_CC_ROI_Arch_B_1.png .png,Original label:benign, Prediction :malignant, confidence : 0.808, class ID : 1\n",
            "filename:benign/Mass-Test_P_00966_RIGHT_MLO_ROI_Mass_B_1.png .png,Original label:benign, Prediction :malignant, confidence : 0.805, class ID : 1\n",
            "filename:benign/Mass-Test_P_00979_LEFT_CC_ROI_Mass_B_1.png .png,Original label:benign, Prediction :malignant, confidence : 0.921, class ID : 1\n",
            "filename:benign/Mass-Test_P_00979_LEFT_MLO_ROI_Mass_B_1.png .png,Original label:benign, Prediction :malignant, confidence : 0.578, class ID : 1\n",
            "filename:benign/Mass-Test_P_01145_LEFT_MLO_ROI_Mass_B_1.png .png,Original label:benign, Prediction :malignant, confidence : 0.880, class ID : 1\n",
            "filename:benign/Mass-Test_P_01183_LEFT_MLO_ROI_Mass_B_1.png .png,Original label:benign, Prediction :malignant, confidence : 0.531, class ID : 1\n",
            "filename:benign/Mass-Test_P_01192_LEFT_MLO_ROI_Arch_B_1.png .png,Original label:benign, Prediction :malignant, confidence : 0.651, class ID : 1\n",
            "filename:benign/Mass-Test_P_01251_LEFT_CC_ROI_Mass_B_1.png .png,Original label:benign, Prediction :malignant, confidence : 0.521, class ID : 1\n",
            "filename:benign/Mass-Test_P_01254_RIGHT_CC_ROI_Mass_B_1.png .png,Original label:benign, Prediction :malignant, confidence : 0.766, class ID : 1\n",
            "filename:benign/Mass-Test_P_01307_RIGHT_CC_ROI_Mass_B_1.png .png,Original label:benign, Prediction :malignant, confidence : 0.674, class ID : 1\n",
            "filename:benign/Mass-Test_P_01322_RIGHT_MLO_ROI_Mass_B_1.png .png,Original label:benign, Prediction :malignant, confidence : 0.551, class ID : 1\n",
            "filename:benign/Mass-Test_P_01365_LEFT_CC_ROI_Mass_B_2.png .png,Original label:benign, Prediction :malignant, confidence : 0.721, class ID : 1\n",
            "filename:benign/Mass-Test_P_01395_RIGHT_CC_ROI_Mass_B_1.png .png,Original label:benign, Prediction :malignant, confidence : 0.811, class ID : 1\n",
            "filename:benign/Mass-Test_P_01395_RIGHT_MLO_ROI_Mass_B_1.png .png,Original label:benign, Prediction :malignant, confidence : 0.652, class ID : 1\n",
            "filename:benign/Mass-Test_P_01416_RIGHT_MLO_ROI_Mass_B_1.png .png,Original label:benign, Prediction :malignant, confidence : 0.936, class ID : 1\n",
            "filename:benign/Mass-Test_P_01502_LEFT_CC_ROI_Mass_B_1.png .png,Original label:benign, Prediction :malignant, confidence : 0.588, class ID : 1\n",
            "filename:benign/Mass-Test_P_01510_RIGHT_CC_ROI_Mass_B_1.png .png,Original label:benign, Prediction :malignant, confidence : 0.591, class ID : 1\n",
            "filename:benign/Mass-Test_P_01512_LEFT_CC_ROI_Mass_B_1.png .png,Original label:benign, Prediction :malignant, confidence : 0.798, class ID : 1\n",
            "filename:benign/Mass-Test_P_01539_RIGHT_CC_ROI_Mass_B_1.png .png,Original label:benign, Prediction :malignant, confidence : 0.730, class ID : 1\n",
            "filename:benign/Mass-Test_P_01551_LEFT_MLO_ROI_Mass_B_1.png .png,Original label:benign, Prediction :malignant, confidence : 0.722, class ID : 1\n",
            "filename:benign/Mass-Test_P_01566_RIGHT_MLO_ROI_Mass_B_1.png .png,Original label:benign, Prediction :malignant, confidence : 0.519, class ID : 1\n",
            "filename:benign/Mass-Test_P_01566_RIGHT_MLO_ROI_Mass_B_2.png .png,Original label:benign, Prediction :malignant, confidence : 0.626, class ID : 1\n",
            "filename:benign/Mass-Test_P_01623_RIGHT_MLO_ROI_Mass_B_1.png .png,Original label:benign, Prediction :malignant, confidence : 0.925, class ID : 1\n",
            "filename:benign/Mass-Test_P_01684_LEFT_CC_ROI_Mass_B_1.png .png,Original label:benign, Prediction :malignant, confidence : 0.717, class ID : 1\n",
            "filename:benign/Mass-Test_P_01684_LEFT_MLO_ROI_Mass_B_1.png .png,Original label:benign, Prediction :malignant, confidence : 0.634, class ID : 1\n",
            "filename:benign/Mass-Test_P_01697_LEFT_MLO_ROI_Mass_B_1.png .png,Original label:benign, Prediction :malignant, confidence : 0.958, class ID : 1\n",
            "filename:benign/Mass-Test_P_01716_RIGHT_CC_ROI_Mass_B_1.png .png,Original label:benign, Prediction :malignant, confidence : 0.663, class ID : 1\n",
            "filename:benign/Mass-Test_P_01726_RIGHT_CC_ROI_Mass_B_1.png .png,Original label:benign, Prediction :malignant, confidence : 0.715, class ID : 1\n",
            "filename:benign/Mass-Test_P_01765_RIGHT_MLO_ROI_Mass_B_1.png .png,Original label:benign, Prediction :malignant, confidence : 0.525, class ID : 1\n",
            "filename:benign/Mass-Test_P_01825_RIGHT_CC_ROI_Mass_B_1.png .png,Original label:benign, Prediction :malignant, confidence : 0.847, class ID : 1\n",
            "filename:malignant/Mass-Test_P_00016_LEFT_CC_ROI_Mass_M_1.png .png,Original label:malignant, Prediction :benign, confidence : 0.623, class ID : 0\n",
            "filename:malignant/Mass-Test_P_00017_LEFT_CC_ROI_Mass_M_1.png .png,Original label:malignant, Prediction :benign, confidence : 0.833, class ID : 0\n",
            "filename:malignant/Mass-Test_P_00017_LEFT_MLO_ROI_Mass_M_1.png .png,Original label:malignant, Prediction :benign, confidence : 0.695, class ID : 0\n",
            "filename:malignant/Mass-Test_P_00066_LEFT_CC_ROI_Mass_M_1.png .png,Original label:malignant, Prediction :benign, confidence : 0.593, class ID : 0\n",
            "filename:malignant/Mass-Test_P_00066_LEFT_MLO_ROI_Mass_M_1.png .png,Original label:malignant, Prediction :benign, confidence : 0.506, class ID : 0\n",
            "filename:malignant/Mass-Test_P_00116_RIGHT_MLO_ROI_Arch_M_1.png .png,Original label:malignant, Prediction :benign, confidence : 0.608, class ID : 0\n",
            "filename:malignant/Mass-Test_P_00118_RIGHT_MLO_ROI_Mass_M_1.png .png,Original label:malignant, Prediction :benign, confidence : 0.690, class ID : 0\n",
            "filename:malignant/Mass-Test_P_00147_RIGHT_MLO_ROI_Mass_M_1.png .png,Original label:malignant, Prediction :benign, confidence : 0.901, class ID : 0\n",
            "filename:malignant/Mass-Test_P_00194_RIGHT_CC_ROI_Mass_M_1.png .png,Original label:malignant, Prediction :benign, confidence : 0.576, class ID : 0\n",
            "filename:malignant/Mass-Test_P_00194_RIGHT_MLO_ROI_Mass_M_1.png .png,Original label:malignant, Prediction :benign, confidence : 0.930, class ID : 0\n",
            "filename:malignant/Mass-Test_P_00198_LEFT_CC_ROI_Mass_M_1.png .png,Original label:malignant, Prediction :benign, confidence : 0.856, class ID : 0\n",
            "filename:malignant/Mass-Test_P_00198_LEFT_MLO_ROI_Mass_M_1.png .png,Original label:malignant, Prediction :benign, confidence : 0.742, class ID : 0\n",
            "filename:malignant/Mass-Test_P_00212_RIGHT_CC_ROI_Mass_M_1.png .png,Original label:malignant, Prediction :benign, confidence : 0.501, class ID : 0\n",
            "filename:malignant/Mass-Test_P_00212_RIGHT_MLO_ROI_Mass_M_1.png .png,Original label:malignant, Prediction :benign, confidence : 0.974, class ID : 0\n",
            "filename:malignant/Mass-Test_P_00324_RIGHT_CC_ROI_Mass_M_1.png .png,Original label:malignant, Prediction :benign, confidence : 0.557, class ID : 0\n",
            "filename:malignant/Mass-Test_P_00347_LEFT_CC_ROI_Mass_M_1.png .png,Original label:malignant, Prediction :benign, confidence : 0.547, class ID : 0\n",
            "filename:malignant/Mass-Test_P_00498_LEFT_CC_ROI_Mass_M_1.png .png,Original label:malignant, Prediction :benign, confidence : 0.753, class ID : 0\n",
            "filename:malignant/Mass-Test_P_00514_LEFT_MLO_ROI_Mass_M_1.png .png,Original label:malignant, Prediction :benign, confidence : 0.729, class ID : 0\n",
            "filename:malignant/Mass-Test_P_00524_LEFT_MLO_ROI_Mass_M_1.png .png,Original label:malignant, Prediction :benign, confidence : 0.837, class ID : 0\n",
            "filename:malignant/Mass-Test_P_00544_LEFT_MLO_ROI_Mass_M_1.png .png,Original label:malignant, Prediction :benign, confidence : 0.505, class ID : 0\n",
            "filename:malignant/Mass-Test_P_00576_LEFT_MLO_ROI_Mass_M_1.png .png,Original label:malignant, Prediction :benign, confidence : 0.556, class ID : 0\n",
            "filename:malignant/Mass-Test_P_00591_RIGHT_MLO_ROI_Mass_M_3.png .png,Original label:malignant, Prediction :benign, confidence : 0.988, class ID : 0\n",
            "filename:malignant/Mass-Test_P_00641_RIGHT_CC_ROI_Mass_M_1.png .png,Original label:malignant, Prediction :benign, confidence : 0.649, class ID : 0\n",
            "filename:malignant/Mass-Test_P_00677_RIGHT_MLO_ROI_Mass_M_1.png .png,Original label:malignant, Prediction :benign, confidence : 0.706, class ID : 0\n",
            "filename:malignant/Mass-Test_P_00773_LEFT_MLO_ROI_Arch_M_1.png .png,Original label:malignant, Prediction :benign, confidence : 0.516, class ID : 0\n",
            "filename:malignant/Mass-Test_P_00813_RIGHT_MLO_ROI_Mass_M_1.png .png,Original label:malignant, Prediction :benign, confidence : 0.523, class ID : 0\n",
            "filename:malignant/Mass-Test_P_00947_RIGHT_MLO_ROI_Mass_M_1.png .png,Original label:malignant, Prediction :benign, confidence : 0.725, class ID : 0\n",
            "filename:malignant/Mass-Test_P_00951_RIGHT_CC_ROI_Mass_M_1.png .png,Original label:malignant, Prediction :benign, confidence : 0.641, class ID : 0\n",
            "filename:malignant/Mass-Test_P_00962_RIGHT_MLO_ROI_Mass_M_1.png .png,Original label:malignant, Prediction :benign, confidence : 0.710, class ID : 0\n",
            "filename:malignant/Mass-Test_P_01114_RIGHT_MLO_ROI_Mass_M_1.png .png,Original label:malignant, Prediction :benign, confidence : 0.557, class ID : 0\n",
            "filename:malignant/Mass-Test_P_01167_LEFT_MLO_ROI_Mass_M_1.png .png,Original label:malignant, Prediction :benign, confidence : 0.708, class ID : 0\n",
            "filename:malignant/Mass-Test_P_01213_LEFT_CC_ROI_Mass_M_1.png .png,Original label:malignant, Prediction :benign, confidence : 0.543, class ID : 0\n",
            "filename:malignant/Mass-Test_P_01213_LEFT_MLO_ROI_Mass_M_1.png .png,Original label:malignant, Prediction :benign, confidence : 0.898, class ID : 0\n",
            "filename:malignant/Mass-Test_P_01277_RIGHT_CC_ROI_Mass_M_1.png .png,Original label:malignant, Prediction :benign, confidence : 0.827, class ID : 0\n",
            "filename:malignant/Mass-Test_P_01298_LEFT_CC_ROI_Mass_M_1.png .png,Original label:malignant, Prediction :benign, confidence : 0.783, class ID : 0\n",
            "filename:malignant/Mass-Test_P_01298_LEFT_MLO_ROI_Mass_M_1.png .png,Original label:malignant, Prediction :benign, confidence : 0.631, class ID : 0\n",
            "filename:malignant/Mass-Test_P_01323_LEFT_CC_ROI_Mass_M_1.png .png,Original label:malignant, Prediction :benign, confidence : 0.799, class ID : 0\n",
            "filename:malignant/Mass-Test_P_01348_LEFT_MLO_ROI_Mass_M_1.png .png,Original label:malignant, Prediction :benign, confidence : 0.832, class ID : 0\n",
            "filename:malignant/Mass-Test_P_01534_RIGHT_CC_ROI_Mass_M_1.png .png,Original label:malignant, Prediction :benign, confidence : 0.615, class ID : 0\n",
            "filename:malignant/Mass-Test_P_01534_RIGHT_MLO_ROI_Mass_M_1.png .png,Original label:malignant, Prediction :benign, confidence : 0.698, class ID : 0\n",
            "filename:malignant/Mass-Test_P_01623_RIGHT_CC_ROI_Mass_M_1.png .png,Original label:malignant, Prediction :benign, confidence : 0.533, class ID : 0\n",
            "filename:malignant/Mass-Test_P_01661_LEFT_CC_ROI_Mass_M_1.png .png,Original label:malignant, Prediction :benign, confidence : 0.865, class ID : 0\n",
            "filename:malignant/Mass-Test_P_01719_RIGHT_MLO_ROI_Mass_M_1.png .png,Original label:malignant, Prediction :benign, confidence : 0.519, class ID : 0\n",
            "filename:malignant/Mass-Test_P_01815_RIGHT_CC_ROI_Mass_M_1.png .png,Original label:malignant, Prediction :benign, confidence : 0.533, class ID : 0\n",
            "Accuracy 0.7108753315649867\n",
            "[[198  32]\n",
            " [ 77  70]]\n",
            "              precision    recall  f1-score   support\n",
            "\n",
            "      benign       0.72      0.86      0.78       230\n",
            "   malignant       0.69      0.48      0.56       147\n",
            "\n",
            "    accuracy                           0.71       377\n",
            "   macro avg       0.70      0.67      0.67       377\n",
            "weighted avg       0.71      0.71      0.70       377\n",
            "\n",
            "No of errors = 109/377\n",
            "filename:benign/Mass-Test_P_00032_RIGHT_CC_ROI_Mass_B_1.png .png,Original label:benign, Prediction :malignant, confidence : 0.538, class ID : 1\n",
            "filename:benign/Mass-Test_P_00126_RIGHT_CC_ROI_Mass_B_1.png .png,Original label:benign, Prediction :malignant, confidence : 0.564, class ID : 1\n",
            "filename:benign/Mass-Test_P_00200_LEFT_MLO_ROI_Mass_B_1.png .png,Original label:benign, Prediction :malignant, confidence : 0.793, class ID : 1\n",
            "filename:benign/Mass-Test_P_00358_RIGHT_CC_ROI_Arch_B_1.png .png,Original label:benign, Prediction :malignant, confidence : 0.562, class ID : 1\n",
            "filename:benign/Mass-Test_P_00358_RIGHT_MLO_ROI_Arch_B_1.png .png,Original label:benign, Prediction :malignant, confidence : 0.516, class ID : 1\n",
            "filename:benign/Mass-Test_P_00369_LEFT_CC_ROI_Mass_B_1.png .png,Original label:benign, Prediction :malignant, confidence : 0.568, class ID : 1\n",
            "filename:benign/Mass-Test_P_00379_LEFT_CC_ROI_Mass_B_1.png .png,Original label:benign, Prediction :malignant, confidence : 0.714, class ID : 1\n",
            "filename:benign/Mass-Test_P_00391_LEFT_MLO_ROI_Mass_B_1.png .png,Original label:benign, Prediction :malignant, confidence : 0.587, class ID : 1\n",
            "filename:benign/Mass-Test_P_00405_LEFT_MLO_ROI_Mass_B_1.png .png,Original label:benign, Prediction :malignant, confidence : 0.551, class ID : 1\n",
            "filename:benign/Mass-Test_P_00429_LEFT_MLO_ROI_Mass_B_1.png .png,Original label:benign, Prediction :malignant, confidence : 0.799, class ID : 1\n",
            "filename:benign/Mass-Test_P_00494_RIGHT_CC_ROI_Mass_B_1.png .png,Original label:benign, Prediction :malignant, confidence : 0.870, class ID : 1\n",
            "filename:benign/Mass-Test_P_00587_RIGHT_CC_ROI_Mass_B_1.png .png,Original label:benign, Prediction :malignant, confidence : 0.858, class ID : 1\n",
            "filename:benign/Mass-Test_P_00629_RIGHT_CC_ROI_Mass_B_1.png .png,Original label:benign, Prediction :malignant, confidence : 0.828, class ID : 1\n",
            "filename:benign/Mass-Test_P_00662_LEFT_MLO_ROI_Mass_B_1.png .png,Original label:benign, Prediction :malignant, confidence : 0.929, class ID : 1\n",
            "filename:benign/Mass-Test_P_00766_LEFT_MLO_ROI_Arch_B_1.png .png,Original label:benign, Prediction :malignant, confidence : 0.792, class ID : 1\n",
            "filename:benign/Mass-Test_P_00882_RIGHT_CC_ROI_Mass_B_1.png .png,Original label:benign, Prediction :malignant, confidence : 0.616, class ID : 1\n",
            "filename:benign/Mass-Test_P_00882_RIGHT_MLO_ROI_Mass_B_1.png .png,Original label:benign, Prediction :malignant, confidence : 0.754, class ID : 1\n",
            "filename:benign/Mass-Test_P_00922_RIGHT_MLO_ROI_Mass_B_1.png .png,Original label:benign, Prediction :malignant, confidence : 0.615, class ID : 1\n",
            "filename:benign/Mass-Test_P_00951_LEFT_CC_ROI_Arch_B_1.png .png,Original label:benign, Prediction :malignant, confidence : 0.543, class ID : 1\n",
            "filename:benign/Mass-Test_P_00966_RIGHT_MLO_ROI_Mass_B_1.png .png,Original label:benign, Prediction :malignant, confidence : 0.695, class ID : 1\n",
            "filename:benign/Mass-Test_P_00979_LEFT_CC_ROI_Mass_B_1.png .png,Original label:benign, Prediction :malignant, confidence : 0.933, class ID : 1\n",
            "filename:benign/Mass-Test_P_01145_LEFT_MLO_ROI_Mass_B_1.png .png,Original label:benign, Prediction :malignant, confidence : 0.684, class ID : 1\n",
            "filename:benign/Mass-Test_P_01254_RIGHT_CC_ROI_Mass_B_1.png .png,Original label:benign, Prediction :malignant, confidence : 0.667, class ID : 1\n",
            "filename:benign/Mass-Test_P_01365_LEFT_CC_ROI_Mass_B_2.png .png,Original label:benign, Prediction :malignant, confidence : 0.557, class ID : 1\n",
            "filename:benign/Mass-Test_P_01395_RIGHT_CC_ROI_Mass_B_1.png .png,Original label:benign, Prediction :malignant, confidence : 0.609, class ID : 1\n",
            "filename:benign/Mass-Test_P_01416_RIGHT_MLO_ROI_Mass_B_1.png .png,Original label:benign, Prediction :malignant, confidence : 0.798, class ID : 1\n",
            "filename:benign/Mass-Test_P_01512_LEFT_CC_ROI_Mass_B_1.png .png,Original label:benign, Prediction :malignant, confidence : 0.625, class ID : 1\n",
            "filename:benign/Mass-Test_P_01539_RIGHT_CC_ROI_Mass_B_1.png .png,Original label:benign, Prediction :malignant, confidence : 0.546, class ID : 1\n",
            "filename:benign/Mass-Test_P_01623_RIGHT_MLO_ROI_Mass_B_1.png .png,Original label:benign, Prediction :malignant, confidence : 0.820, class ID : 1\n",
            "filename:benign/Mass-Test_P_01697_LEFT_MLO_ROI_Mass_B_1.png .png,Original label:benign, Prediction :malignant, confidence : 0.870, class ID : 1\n",
            "filename:benign/Mass-Test_P_01726_RIGHT_CC_ROI_Mass_B_1.png .png,Original label:benign, Prediction :malignant, confidence : 0.617, class ID : 1\n",
            "filename:benign/Mass-Test_P_01825_RIGHT_CC_ROI_Mass_B_1.png .png,Original label:benign, Prediction :malignant, confidence : 0.518, class ID : 1\n",
            "filename:malignant/Mass-Test_P_00016_LEFT_CC_ROI_Mass_M_1.png .png,Original label:malignant, Prediction :benign, confidence : 0.762, class ID : 0\n",
            "filename:malignant/Mass-Test_P_00017_LEFT_CC_ROI_Mass_M_1.png .png,Original label:malignant, Prediction :benign, confidence : 0.940, class ID : 0\n",
            "filename:malignant/Mass-Test_P_00017_LEFT_MLO_ROI_Mass_M_1.png .png,Original label:malignant, Prediction :benign, confidence : 0.871, class ID : 0\n",
            "filename:malignant/Mass-Test_P_00066_LEFT_CC_ROI_Mass_M_1.png .png,Original label:malignant, Prediction :benign, confidence : 0.674, class ID : 0\n",
            "filename:malignant/Mass-Test_P_00066_LEFT_MLO_ROI_Mass_M_1.png .png,Original label:malignant, Prediction :benign, confidence : 0.727, class ID : 0\n",
            "filename:malignant/Mass-Test_P_00116_RIGHT_MLO_ROI_Arch_M_1.png .png,Original label:malignant, Prediction :benign, confidence : 0.798, class ID : 0\n",
            "filename:malignant/Mass-Test_P_00118_RIGHT_MLO_ROI_Mass_M_1.png .png,Original label:malignant, Prediction :benign, confidence : 0.829, class ID : 0\n",
            "filename:malignant/Mass-Test_P_00147_RIGHT_CC_ROI_Mass_M_1.png .png,Original label:malignant, Prediction :benign, confidence : 0.669, class ID : 0\n",
            "filename:malignant/Mass-Test_P_00147_RIGHT_MLO_ROI_Mass_M_1.png .png,Original label:malignant, Prediction :benign, confidence : 0.930, class ID : 0\n",
            "filename:malignant/Mass-Test_P_00194_RIGHT_CC_ROI_Mass_M_1.png .png,Original label:malignant, Prediction :benign, confidence : 0.673, class ID : 0\n",
            "filename:malignant/Mass-Test_P_00194_RIGHT_MLO_ROI_Mass_M_1.png .png,Original label:malignant, Prediction :benign, confidence : 0.969, class ID : 0\n",
            "filename:malignant/Mass-Test_P_00198_LEFT_CC_ROI_Mass_M_1.png .png,Original label:malignant, Prediction :benign, confidence : 0.913, class ID : 0\n",
            "filename:malignant/Mass-Test_P_00198_LEFT_MLO_ROI_Mass_M_1.png .png,Original label:malignant, Prediction :benign, confidence : 0.919, class ID : 0\n",
            "filename:malignant/Mass-Test_P_00202_RIGHT_MLO_ROI_Arch_M_1.png .png,Original label:malignant, Prediction :benign, confidence : 0.851, class ID : 0\n",
            "filename:malignant/Mass-Test_P_00209_LEFT_MLO_ROI_Mass_M_1.png .png,Original label:malignant, Prediction :benign, confidence : 0.534, class ID : 0\n",
            "filename:malignant/Mass-Test_P_00212_RIGHT_CC_ROI_Mass_M_1.png .png,Original label:malignant, Prediction :benign, confidence : 0.584, class ID : 0\n",
            "filename:malignant/Mass-Test_P_00212_RIGHT_MLO_ROI_Mass_M_1.png .png,Original label:malignant, Prediction :benign, confidence : 0.990, class ID : 0\n",
            "filename:malignant/Mass-Test_P_00324_RIGHT_CC_ROI_Mass_M_1.png .png,Original label:malignant, Prediction :benign, confidence : 0.697, class ID : 0\n",
            "filename:malignant/Mass-Test_P_00347_LEFT_CC_ROI_Mass_M_1.png .png,Original label:malignant, Prediction :benign, confidence : 0.849, class ID : 0\n",
            "filename:malignant/Mass-Test_P_00498_LEFT_CC_ROI_Mass_M_1.png .png,Original label:malignant, Prediction :benign, confidence : 0.827, class ID : 0\n",
            "filename:malignant/Mass-Test_P_00498_LEFT_MLO_ROI_Mass_M_1.png .png,Original label:malignant, Prediction :benign, confidence : 0.672, class ID : 0\n",
            "filename:malignant/Mass-Test_P_00500_RIGHT_MLO_ROI_Mass_M_1.png .png,Original label:malignant, Prediction :benign, confidence : 0.665, class ID : 0\n",
            "filename:malignant/Mass-Test_P_00514_LEFT_MLO_ROI_Mass_M_1.png .png,Original label:malignant, Prediction :benign, confidence : 0.846, class ID : 0\n",
            "filename:malignant/Mass-Test_P_00516_LEFT_MLO_ROI_Mass_M_1.png .png,Original label:malignant, Prediction :benign, confidence : 0.556, class ID : 0\n",
            "filename:malignant/Mass-Test_P_00524_LEFT_CC_ROI_Mass_M_1.png .png,Original label:malignant, Prediction :benign, confidence : 0.543, class ID : 0\n",
            "filename:malignant/Mass-Test_P_00524_LEFT_MLO_ROI_Mass_M_1.png .png,Original label:malignant, Prediction :benign, confidence : 0.921, class ID : 0\n",
            "filename:malignant/Mass-Test_P_00544_LEFT_MLO_ROI_Mass_M_1.png .png,Original label:malignant, Prediction :benign, confidence : 0.578, class ID : 0\n",
            "filename:malignant/Mass-Test_P_00576_LEFT_MLO_ROI_Mass_M_1.png .png,Original label:malignant, Prediction :benign, confidence : 0.826, class ID : 0\n",
            "filename:malignant/Mass-Test_P_00591_RIGHT_MLO_ROI_Mass_M_3.png .png,Original label:malignant, Prediction :benign, confidence : 0.993, class ID : 0\n",
            "filename:malignant/Mass-Test_P_00636_RIGHT_CC_ROI_Mass_M_1.png .png,Original label:malignant, Prediction :benign, confidence : 0.575, class ID : 0\n",
            "filename:malignant/Mass-Test_P_00641_RIGHT_CC_ROI_Mass_M_1.png .png,Original label:malignant, Prediction :benign, confidence : 0.843, class ID : 0\n",
            "filename:malignant/Mass-Test_P_00641_RIGHT_MLO_ROI_Mass_M_1.png .png,Original label:malignant, Prediction :benign, confidence : 0.603, class ID : 0\n",
            "filename:malignant/Mass-Test_P_00677_RIGHT_MLO_ROI_Mass_M_1.png .png,Original label:malignant, Prediction :benign, confidence : 0.735, class ID : 0\n",
            "filename:malignant/Mass-Test_P_00741_LEFT_CC_ROI_Mass_M_1.png .png,Original label:malignant, Prediction :benign, confidence : 0.633, class ID : 0\n",
            "filename:malignant/Mass-Test_P_00741_LEFT_MLO_ROI_Mass_M_1.png .png,Original label:malignant, Prediction :benign, confidence : 0.769, class ID : 0\n",
            "filename:malignant/Mass-Test_P_00758_LEFT_CC_ROI_Arch_M_1.png .png,Original label:malignant, Prediction :benign, confidence : 0.666, class ID : 0\n",
            "filename:malignant/Mass-Test_P_00758_LEFT_MLO_ROI_Arch_M_1.png .png,Original label:malignant, Prediction :benign, confidence : 0.662, class ID : 0\n",
            "filename:malignant/Mass-Test_P_00773_LEFT_CC_ROI_Arch_M_1.png .png,Original label:malignant, Prediction :benign, confidence : 0.510, class ID : 0\n",
            "filename:malignant/Mass-Test_P_00773_LEFT_MLO_ROI_Arch_M_1.png .png,Original label:malignant, Prediction :benign, confidence : 0.873, class ID : 0\n",
            "filename:malignant/Mass-Test_P_00813_RIGHT_MLO_ROI_Mass_M_1.png .png,Original label:malignant, Prediction :benign, confidence : 0.817, class ID : 0\n",
            "filename:malignant/Mass-Test_P_00820_LEFT_CC_ROI_Mass_M_1.png .png,Original label:malignant, Prediction :benign, confidence : 0.652, class ID : 0\n",
            "filename:malignant/Mass-Test_P_00820_LEFT_MLO_ROI_Mass_M_1.png .png,Original label:malignant, Prediction :benign, confidence : 0.575, class ID : 0\n",
            "filename:malignant/Mass-Test_P_00932_LEFT_MLO_ROI_Mass_M_1.png .png,Original label:malignant, Prediction :benign, confidence : 0.618, class ID : 0\n",
            "filename:malignant/Mass-Test_P_00942_LEFT_CC_ROI_Mass_M_1.png .png,Original label:malignant, Prediction :benign, confidence : 0.559, class ID : 0\n",
            "filename:malignant/Mass-Test_P_00947_RIGHT_MLO_ROI_Mass_M_1.png .png,Original label:malignant, Prediction :benign, confidence : 0.798, class ID : 0\n",
            "filename:malignant/Mass-Test_P_00951_RIGHT_CC_ROI_Mass_M_1.png .png,Original label:malignant, Prediction :benign, confidence : 0.918, class ID : 0\n",
            "filename:malignant/Mass-Test_P_00962_RIGHT_MLO_ROI_Mass_M_1.png .png,Original label:malignant, Prediction :benign, confidence : 0.865, class ID : 0\n",
            "filename:malignant/Mass-Test_P_00969_LEFT_MLO_ROI_Arch_M_4.png .png,Original label:malignant, Prediction :benign, confidence : 0.820, class ID : 0\n",
            "filename:malignant/Mass-Test_P_00986_LEFT_MLO_ROI_Mass_M_1.png .png,Original label:malignant, Prediction :benign, confidence : 0.578, class ID : 0\n",
            "filename:malignant/Mass-Test_P_01068_RIGHT_MLO_ROI_Mass_M_1.png .png,Original label:malignant, Prediction :benign, confidence : 0.593, class ID : 0\n",
            "filename:malignant/Mass-Test_P_01114_RIGHT_MLO_ROI_Mass_M_1.png .png,Original label:malignant, Prediction :benign, confidence : 0.870, class ID : 0\n",
            "filename:malignant/Mass-Test_P_01140_LEFT_MLO_ROI_Mass_M_1.png .png,Original label:malignant, Prediction :benign, confidence : 0.779, class ID : 0\n",
            "filename:malignant/Mass-Test_P_01167_LEFT_MLO_ROI_Mass_M_1.png .png,Original label:malignant, Prediction :benign, confidence : 0.832, class ID : 0\n",
            "filename:malignant/Mass-Test_P_01213_LEFT_CC_ROI_Mass_M_1.png .png,Original label:malignant, Prediction :benign, confidence : 0.864, class ID : 0\n",
            "filename:malignant/Mass-Test_P_01213_LEFT_MLO_ROI_Mass_M_1.png .png,Original label:malignant, Prediction :benign, confidence : 0.954, class ID : 0\n",
            "filename:malignant/Mass-Test_P_01277_RIGHT_CC_ROI_Mass_M_1.png .png,Original label:malignant, Prediction :benign, confidence : 0.943, class ID : 0\n",
            "filename:malignant/Mass-Test_P_01277_RIGHT_MLO_ROI_Mass_M_1.png .png,Original label:malignant, Prediction :benign, confidence : 0.713, class ID : 0\n",
            "filename:malignant/Mass-Test_P_01298_LEFT_CC_ROI_Mass_M_1.png .png,Original label:malignant, Prediction :benign, confidence : 0.850, class ID : 0\n",
            "filename:malignant/Mass-Test_P_01298_LEFT_MLO_ROI_Mass_M_1.png .png,Original label:malignant, Prediction :benign, confidence : 0.704, class ID : 0\n",
            "filename:malignant/Mass-Test_P_01323_LEFT_CC_ROI_Mass_M_1.png .png,Original label:malignant, Prediction :benign, confidence : 0.972, class ID : 0\n",
            "filename:malignant/Mass-Test_P_01323_LEFT_MLO_ROI_Mass_M_1.png .png,Original label:malignant, Prediction :benign, confidence : 0.727, class ID : 0\n",
            "filename:malignant/Mass-Test_P_01347_RIGHT_MLO_ROI_Mass_M_1.png .png,Original label:malignant, Prediction :benign, confidence : 0.746, class ID : 0\n",
            "filename:malignant/Mass-Test_P_01348_LEFT_MLO_ROI_Mass_M_1.png .png,Original label:malignant, Prediction :benign, confidence : 0.976, class ID : 0\n",
            "filename:malignant/Mass-Test_P_01489_RIGHT_MLO_ROI_Mass_M_1.png .png,Original label:malignant, Prediction :benign, confidence : 0.673, class ID : 0\n",
            "filename:malignant/Mass-Test_P_01534_RIGHT_CC_ROI_Mass_M_1.png .png,Original label:malignant, Prediction :benign, confidence : 0.879, class ID : 0\n",
            "filename:malignant/Mass-Test_P_01534_RIGHT_MLO_ROI_Mass_M_1.png .png,Original label:malignant, Prediction :benign, confidence : 0.886, class ID : 0\n",
            "filename:malignant/Mass-Test_P_01546_LEFT_CC_ROI_Mass_M_1.png .png,Original label:malignant, Prediction :benign, confidence : 0.597, class ID : 0\n",
            "filename:malignant/Mass-Test_P_01546_LEFT_MLO_ROI_Mass_M_1.png .png,Original label:malignant, Prediction :benign, confidence : 0.564, class ID : 0\n",
            "filename:malignant/Mass-Test_P_01623_RIGHT_CC_ROI_Mass_M_1.png .png,Original label:malignant, Prediction :benign, confidence : 0.860, class ID : 0\n",
            "filename:malignant/Mass-Test_P_01661_LEFT_CC_ROI_Mass_M_1.png .png,Original label:malignant, Prediction :benign, confidence : 0.914, class ID : 0\n",
            "filename:malignant/Mass-Test_P_01661_LEFT_MLO_ROI_Mass_M_1.png .png,Original label:malignant, Prediction :benign, confidence : 0.653, class ID : 0\n",
            "filename:malignant/Mass-Test_P_01666_RIGHT_MLO_ROI_Mass_M_1.png .png,Original label:malignant, Prediction :benign, confidence : 0.737, class ID : 0\n",
            "filename:malignant/Mass-Test_P_01719_RIGHT_MLO_ROI_Mass_M_1.png .png,Original label:malignant, Prediction :benign, confidence : 0.822, class ID : 0\n",
            "filename:malignant/Mass-Test_P_01787_LEFT_CC_ROI_Mass_M_1.png .png,Original label:malignant, Prediction :benign, confidence : 0.782, class ID : 0\n",
            "filename:malignant/Mass-Test_P_01800_LEFT_MLO_ROI_Mass_M_1.png .png,Original label:malignant, Prediction :benign, confidence : 0.537, class ID : 0\n",
            "filename:malignant/Mass-Test_P_01815_RIGHT_CC_ROI_Mass_M_1.png .png,Original label:malignant, Prediction :benign, confidence : 0.693, class ID : 0\n",
            "filename:malignant/Mass-Test_P_01865_LEFT_MLO_ROI_Mass_M_1.png .png,Original label:malignant, Prediction :benign, confidence : 0.790, class ID : 0\n"
          ],
          "name": "stdout"
        }
      ]
    },
    {
      "cell_type": "markdown",
      "metadata": {
        "id": "ibaPT14f2xTM"
      },
      "source": [
        "**Result of the stacked classifier**"
      ]
    },
    {
      "cell_type": "code",
      "metadata": {
        "id": "UsM6CY38s9FK"
      },
      "source": [
        "# create stacked model input dataset as outputs from the ensemble\n",
        "def stacked_dataset(members, inputX):\n",
        "\tstackX = None\n",
        "\tfor model in members:\n",
        "\t\t# make prediction\n",
        "\t\tyhat = model.predict(inputX, verbose=0)\n",
        "\t\t# stack predictions into [rows, members, probabilities]\n",
        "\t\tif stackX is None:\n",
        "\t\t\tstackX = yhat\n",
        "\t\telse:\n",
        "\t\t\tstackX = dstack((stackX, yhat))\n",
        "\t# flatten predictions to [rows, members x probabilities]\n",
        "\tstackX = stackX.reshape((stackX.shape[0], stackX.shape[1]*stackX.shape[2]))\n",
        "\treturn stackX"
      ],
      "execution_count": 21,
      "outputs": []
    },
    {
      "cell_type": "code",
      "metadata": {
        "id": "hYmnQynSs-4f"
      },
      "source": [
        "# fit a model based on the outputs from the ensemble members\n",
        "def fit_stacked_model(members, inputX, inputy):\n",
        "\t# create dataset using ensemble\n",
        "\tstackedX = stacked_dataset(members, inputX)\n",
        "\t# fit standalone model\n",
        "\tmodel = LogisticRegression()\n",
        "\tmodel.fit(stackedX, inputy)\n",
        "\treturn model"
      ],
      "execution_count": 22,
      "outputs": []
    },
    {
      "cell_type": "code",
      "metadata": {
        "id": "QBUwtMbWtBB_"
      },
      "source": [
        "# fit stacked model using the ensemble\n",
        "model = fit_stacked_model(members, testX, testy)"
      ],
      "execution_count": 23,
      "outputs": []
    },
    {
      "cell_type": "code",
      "metadata": {
        "id": "rtaUFed0tEiD"
      },
      "source": [
        "# make a prediction with the stacked model\n",
        "def stacked_prediction(members, model, inputX):\n",
        "\t# create dataset using ensemble\n",
        "\tstackedX = stacked_dataset(members, inputX)\n",
        "\t# make a prediction\n",
        "\tyhat = model.predict(stackedX)\n",
        "\treturn yhat"
      ],
      "execution_count": 24,
      "outputs": []
    },
    {
      "cell_type": "code",
      "metadata": {
        "colab": {
          "base_uri": "https://localhost:8080/"
        },
        "id": "c9D9pKQxtGYr",
        "outputId": "3f9c16f1-adfd-4ff7-fc63-afc3b023540f"
      },
      "source": [
        "# evaluate model on test set as stacked ensemble\n",
        "\n",
        "yhat = stacked_prediction(members, model, testX)\n",
        "acc = accuracy_score(testy, yhat)\n",
        "print('Stacked Test Accuracy: %.3f' % acc)"
      ],
      "execution_count": 42,
      "outputs": [
        {
          "output_type": "stream",
          "text": [
            "Stacked Test Accuracy: 0.772\n"
          ],
          "name": "stdout"
        }
      ]
    },
    {
      "cell_type": "markdown",
      "metadata": {
        "id": "SxzCduLD0yqP"
      },
      "source": [
        "# **Machine Learning Algorithms**"
      ]
    },
    {
      "cell_type": "code",
      "metadata": {
        "id": "2pbigjlh0pdY"
      },
      "source": [
        "from sklearn.metrics import accuracy_score,roc_curve, confusion_matrix, roc_auc_score, auc, f1_score, classification_report\n",
        "\n",
        "from sklearn.ensemble import AdaBoostClassifier\n",
        "from sklearn.tree import DecisionTreeClassifier\n",
        "from sklearn.ensemble import BaggingClassifier\n",
        "from sklearn.ensemble import RandomForestClassifier\n",
        "from sklearn.svm import SVC\n",
        "import xgboost as xgb\n",
        "from xgboost import XGBClassifier\n",
        "from sklearn.model_selection import KFold, train_test_split\n",
        "from sklearn.model_selection import cross_val_score\n",
        "\n",
        "\n",
        "k_fold = KFold(n_splits=10, shuffle=True, random_state=5)"
      ],
      "execution_count": 25,
      "outputs": []
    },
    {
      "cell_type": "code",
      "metadata": {
        "id": "-cJQqAMf1Dn-"
      },
      "source": [
        "y_test = np.asarray(test_labels)\n",
        "y_test = np.argmax(y_test, axis=1)\n",
        "\n",
        "y_train = np.asarray(train_labels)\n",
        "y_train = np.argmax(y_train, axis=1)"
      ],
      "execution_count": 26,
      "outputs": []
    },
    {
      "cell_type": "markdown",
      "metadata": {
        "id": "GHu2Kj5-1W6s"
      },
      "source": [
        "**Bagging Classifier**"
      ]
    },
    {
      "cell_type": "code",
      "metadata": {
        "colab": {
          "base_uri": "https://localhost:8080/"
        },
        "id": "uepSRlaQ1OZ_",
        "outputId": "b063b734-2fa0-400f-c2a4-ccb09b10e7a0"
      },
      "source": [
        "clf = BaggingClassifier(RandomForestClassifier(), n_estimators = 300 )\n",
        "clf.fit(train_data, y_train)\n",
        "print(\"Train accuracy\", clf.score(train_data, y_train))\n",
        "print(\"Test accuracy\", clf.score(test_data, y_test))\n",
        "\n",
        "y_test_pred = clf.predict(test_data)\n",
        "clf_test = accuracy_score(y_test, y_test_pred)\n",
        "print('Bagging Classifier test accuracies %.4f' % (clf_test))\n",
        "\n",
        "print(classification_report(y_test, y_test_pred))\n",
        "\n",
        "# print(confusion_matrix(test_labels, y_test_pred))\n",
        "print(\"Test accuracy\", accuracy_score(y_test, y_test_pred))"
      ],
      "execution_count": 27,
      "outputs": [
        {
          "output_type": "stream",
          "text": [
            "Train accuracy 1.0\n",
            "Test accuracy 0.7002652519893899\n",
            "Bagging Classifier test accuracies 0.7003\n",
            "              precision    recall  f1-score   support\n",
            "\n",
            "           0       0.71      0.86      0.78       230\n",
            "           1       0.67      0.45      0.54       147\n",
            "\n",
            "    accuracy                           0.70       377\n",
            "   macro avg       0.69      0.65      0.66       377\n",
            "weighted avg       0.70      0.70      0.68       377\n",
            "\n",
            "Test accuracy 0.7002652519893899\n"
          ],
          "name": "stdout"
        }
      ]
    },
    {
      "cell_type": "code",
      "metadata": {
        "colab": {
          "base_uri": "https://localhost:8080/"
        },
        "id": "0v8XLaCv1dBd",
        "outputId": "4c6e262b-238a-4c6c-f3cb-0328e3aec298"
      },
      "source": [
        "clf = BaggingClassifier(RandomForestClassifier(), n_estimators = 300 )\n",
        "scoring = 'accuracy'\n",
        "scores = cross_val_score(clf, test_data, y_test, cv=k_fold, n_jobs=1, scoring=scoring)\n",
        "\n",
        "print (\"Scores Mean: %.4f and (STDEV %.4f)\" % (np.mean(scores)*100, np.std(scores)))\n",
        "print (\"Best result for fold %s\" % np.argmax(scores))\n",
        "print (\"Best accuracy is\", (scores[np.argmax(scores)]))\n",
        "print (\"Scores of all folds:\", scores)\n",
        "print(\"BaggingClassifier - Test Accuracy on all folds: %0.2f (+/- %0.2f)\" % (scores.mean(), scores.std() * 2))"
      ],
      "execution_count": 28,
      "outputs": [
        {
          "output_type": "stream",
          "text": [
            "Scores Mean: 68.9687 and (STDEV 0.0683)\n",
            "Best result for fold 6\n",
            "Best accuracy is 0.7894736842105263\n",
            "Scores of all folds: [0.71052632 0.71052632 0.71052632 0.63157895 0.65789474 0.60526316\n",
            " 0.78947368 0.75675676 0.56756757 0.75675676]\n",
            "BaggingClassifier - Test Accuracy on all folds: 0.69 (+/- 0.14)\n"
          ],
          "name": "stdout"
        }
      ]
    },
    {
      "cell_type": "markdown",
      "metadata": {
        "id": "-TyX0r472Mp3"
      },
      "source": [
        "**AdaBoost Classifier**"
      ]
    },
    {
      "cell_type": "code",
      "metadata": {
        "colab": {
          "base_uri": "https://localhost:8080/"
        },
        "id": "9IjMNvK42Jen",
        "outputId": "eaa5db89-ffbd-4bd1-d709-c3c3acc980cc"
      },
      "source": [
        "clf = AdaBoostClassifier(DecisionTreeClassifier(), n_estimators = 300 )\n",
        "clf.fit(train_data, y_train)\n",
        "print(\"Train accuracy\", clf.score(train_data, y_train))\n",
        "print(\"Test accuracy\", clf.score(test_data, y_test))\n",
        "\n",
        "y_test_pred = clf.predict(test_data)\n",
        "clf_test = accuracy_score(y_test, y_test_pred)\n",
        "print('AdaBoost Classifier test accuracies %.4f' % (clf_test))\n",
        "\n",
        "print(classification_report(y_test, y_test_pred))\n",
        "\n",
        "# print(confusion_matrix(test_labels, y_test_pred))\n",
        "print(accuracy_score(y_test, y_test_pred))"
      ],
      "execution_count": 29,
      "outputs": [
        {
          "output_type": "stream",
          "text": [
            "Train accuracy 1.0\n",
            "Test accuracy 0.5994694960212201\n",
            "AdaBoost Classifier test accuracies 0.5995\n",
            "              precision    recall  f1-score   support\n",
            "\n",
            "           0       0.69      0.63      0.66       230\n",
            "           1       0.49      0.56      0.52       147\n",
            "\n",
            "    accuracy                           0.60       377\n",
            "   macro avg       0.59      0.59      0.59       377\n",
            "weighted avg       0.61      0.60      0.60       377\n",
            "\n",
            "0.5994694960212201\n"
          ],
          "name": "stdout"
        }
      ]
    },
    {
      "cell_type": "code",
      "metadata": {
        "colab": {
          "base_uri": "https://localhost:8080/"
        },
        "id": "hF01NsxV2KIa",
        "outputId": "b6f6236e-f230-439e-e8a3-9c05a1c9d254"
      },
      "source": [
        "scoring = 'accuracy'\n",
        "scores = cross_val_score(clf, test_data, y_test, cv=k_fold, n_jobs=1, scoring=scoring)\n",
        "\n",
        "print (\"Scores Mean: %.4f and (STDEV %.4f)\" % (np.mean(scores)*100, np.std(scores)))\n",
        "print (\"Best result for fold %s\" % np.argmax(scores))\n",
        "print (\"Best accuracy is\", (scores[np.argmax(scores)]))\n",
        "print (\"Scores of all folds:\", scores)\n",
        "print(\"(AdaBoost Classifier) Test Accuracy on all folds: %0.2f (+/- %0.2f)\" % (scores.mean(), scores.std() * 2))"
      ],
      "execution_count": 30,
      "outputs": [
        {
          "output_type": "stream",
          "text": [
            "Scores Mean: 61.8137 and (STDEV 0.0366)\n",
            "Best result for fold 2\n",
            "Best accuracy is 0.6842105263157895\n",
            "Scores of all folds: [0.60526316 0.60526316 0.68421053 0.60526316 0.60526316 0.63157895\n",
            " 0.55263158 0.67567568 0.59459459 0.62162162]\n",
            "(AdaBoost Classifier) Test Accuracy on all folds: 0.62 (+/- 0.07)\n"
          ],
          "name": "stdout"
        }
      ]
    },
    {
      "cell_type": "markdown",
      "metadata": {
        "id": "72iXyRi32Sfj"
      },
      "source": [
        "**XGBoost Classifier**"
      ]
    },
    {
      "cell_type": "code",
      "metadata": {
        "colab": {
          "base_uri": "https://localhost:8080/"
        },
        "id": "h4diCbJZ2YNQ",
        "outputId": "662756a7-45b4-4169-968f-36c3f7872ee9"
      },
      "source": [
        "clf = xgb.XGBClassifier()\n",
        "clf.fit(train_data, y_train)\n",
        "print(\"Train accuracy\", clf.score(train_data, y_train))\n",
        "print(\"Test accuracy\", clf.score(test_data, y_test))\n",
        "\n",
        "y_test_pred = clf.predict(test_data)\n",
        "clf_test = accuracy_score(y_test, y_test_pred)\n",
        "print('XGB Classifier test accuracies %.4f' % (clf_test))\n",
        "\n",
        "print(classification_report(y_test, y_test_pred))\n",
        "\n",
        "# print(confusion_matrix(test_labels, y_test_pred))\n",
        "print(accuracy_score(y_test, y_test_pred))"
      ],
      "execution_count": 31,
      "outputs": [
        {
          "output_type": "stream",
          "text": [
            "Train accuracy 1.0\n",
            "Test accuracy 0.7002652519893899\n",
            "XGB Classifier test accuracies 0.7003\n",
            "              precision    recall  f1-score   support\n",
            "\n",
            "           0       0.72      0.82      0.77       230\n",
            "           1       0.65      0.51      0.57       147\n",
            "\n",
            "    accuracy                           0.70       377\n",
            "   macro avg       0.69      0.67      0.67       377\n",
            "weighted avg       0.69      0.70      0.69       377\n",
            "\n",
            "0.7002652519893899\n"
          ],
          "name": "stdout"
        }
      ]
    },
    {
      "cell_type": "code",
      "metadata": {
        "colab": {
          "base_uri": "https://localhost:8080/"
        },
        "id": "n8IS_Yqf2d9i",
        "outputId": "8289eb19-d49e-4473-8a63-b6ce8888df0d"
      },
      "source": [
        "scoring = 'accuracy'\n",
        "scores = cross_val_score(clf, test_data, y_test, cv=k_fold, n_jobs=1, scoring=scoring)\n",
        "\n",
        "print (\"Scores Mean: %.4f and (STDEV %.4f)\" % (np.mean(scores)*100, np.std(scores)))\n",
        "print (\"Best result for fold %s\" % np.argmax(scores))\n",
        "print (\"Best accuracy is\", (scores[np.argmax(scores)]))\n",
        "print (\"Scores of all folds:\", scores)\n",
        "print(\"XGB - Test Accuracy on all folds: %0.2f (+/- %0.2f)\" % (scores.mean(), scores.std() * 2))"
      ],
      "execution_count": 32,
      "outputs": [
        {
          "output_type": "stream",
          "text": [
            "Scores Mean: 69.7226 and (STDEV 0.0766)\n",
            "Best result for fold 7\n",
            "Best accuracy is 0.7837837837837838\n",
            "Scores of all folds: [0.71052632 0.71052632 0.73684211 0.71052632 0.76315789 0.63157895\n",
            " 0.76315789 0.78378378 0.51351351 0.64864865]\n",
            "XGB - Test Accuracy on all folds: 0.70 (+/- 0.15)\n"
          ],
          "name": "stdout"
        }
      ]
    },
    {
      "cell_type": "markdown",
      "metadata": {
        "id": "2CYeugyS2j_s"
      },
      "source": [
        "**Decision Tree Classifier**"
      ]
    },
    {
      "cell_type": "code",
      "metadata": {
        "colab": {
          "base_uri": "https://localhost:8080/"
        },
        "id": "SBOXbyUO2gaW",
        "outputId": "12e53417-675b-45ce-b3c7-7bf4ecda3493"
      },
      "source": [
        "clf = DecisionTreeClassifier()\n",
        "clf.fit(train_data, y_train)\n",
        "print(\"Train accuracy\", clf.score(train_data, y_train))\n",
        "print(\"Test accuracy\", clf.score(test_data, y_test))\n",
        "\n",
        "y_test_pred = clf.predict(test_data)\n",
        "clf_test = accuracy_score(y_test, y_test_pred)\n",
        "print('DecisionTree Classifier test accuracies %.4f' % (clf_test))\n",
        "\n",
        "print(classification_report(y_test, y_test_pred))\n",
        "\n",
        "# print(confusion_matrix(test_labels, y_test_pred))\n",
        "print(accuracy_score(y_test, y_test_pred))"
      ],
      "execution_count": 33,
      "outputs": [
        {
          "output_type": "stream",
          "text": [
            "Train accuracy 1.0\n",
            "Test accuracy 0.5570291777188329\n",
            "DecisionTree Classifier test accuracies 0.5570\n",
            "              precision    recall  f1-score   support\n",
            "\n",
            "           0       0.64      0.62      0.63       230\n",
            "           1       0.44      0.46      0.45       147\n",
            "\n",
            "    accuracy                           0.56       377\n",
            "   macro avg       0.54      0.54      0.54       377\n",
            "weighted avg       0.56      0.56      0.56       377\n",
            "\n",
            "0.5570291777188329\n"
          ],
          "name": "stdout"
        }
      ]
    },
    {
      "cell_type": "code",
      "metadata": {
        "colab": {
          "base_uri": "https://localhost:8080/"
        },
        "id": "ir87UuXg2jF5",
        "outputId": "afab20e5-d354-4878-c12f-91d48b32eea6"
      },
      "source": [
        "scoring = 'accuracy'\n",
        "scores = cross_val_score(clf, test_data, y_test, cv=k_fold, n_jobs=1, scoring=scoring)\n",
        "\n",
        "print (\"Scores Mean: %.4f and (STDEV %.4f)\" % (np.mean(scores)*100, np.std(scores)))\n",
        "print (\"Best result for fold %s\" % np.argmax(scores))\n",
        "print (\"Best accuracy is\", (scores[np.argmax(scores)]))\n",
        "print (\"Scores of all folds:\", scores)\n",
        "print(\"DecisionTree - Test Accuracy on all folds: %0.2f (+/- %0.2f)\" % (scores.mean(), scores.std() * 2))"
      ],
      "execution_count": 34,
      "outputs": [
        {
          "output_type": "stream",
          "text": [
            "Scores Mean: 62.0697 and (STDEV 0.0511)\n",
            "Best result for fold 2\n",
            "Best accuracy is 0.7105263157894737\n",
            "Scores of all folds: [0.63157895 0.65789474 0.71052632 0.63157895 0.5        0.63157895\n",
            " 0.57894737 0.62162162 0.62162162 0.62162162]\n",
            "DecisionTree - Test Accuracy on all folds: 0.62 (+/- 0.10)\n"
          ],
          "name": "stdout"
        }
      ]
    },
    {
      "cell_type": "markdown",
      "metadata": {
        "id": "Idg0KAWR8XET"
      },
      "source": [
        "**Random forest Classifier**"
      ]
    },
    {
      "cell_type": "code",
      "metadata": {
        "colab": {
          "base_uri": "https://localhost:8080/"
        },
        "id": "u2pEg37N8dhj",
        "outputId": "679adc50-dc99-4ad1-8d28-75513a075e3f"
      },
      "source": [
        "clf = RandomForestClassifier(n_estimators=5)\n",
        "clf.fit(train_data, y_train)\n",
        "print(\"Train accuracy\", clf.score(train_data, y_train))\n",
        "print(\"Test accuracy\", clf.score(test_data, y_test))\n",
        "\n",
        "y_test_pred = clf.predict(test_data)\n",
        "clf_test = accuracy_score(y_test, y_test_pred)\n",
        "print('RandomForest Classifier test accuracies %.4f' % (clf_test))\n",
        "\n",
        "print(classification_report(y_test, y_test_pred))\n",
        "\n",
        "# print(confusion_matrix(test_labels, y_test_pred))\n",
        "print(accuracy_score(y_test, y_test_pred))"
      ],
      "execution_count": 35,
      "outputs": [
        {
          "output_type": "stream",
          "text": [
            "Train accuracy 0.9646772228989038\n",
            "Test accuracy 0.623342175066313\n",
            "RandomForest Classifier test accuracies 0.6233\n",
            "              precision    recall  f1-score   support\n",
            "\n",
            "           0       0.68      0.72      0.70       230\n",
            "           1       0.52      0.48      0.50       147\n",
            "\n",
            "    accuracy                           0.62       377\n",
            "   macro avg       0.60      0.60      0.60       377\n",
            "weighted avg       0.62      0.62      0.62       377\n",
            "\n",
            "0.623342175066313\n"
          ],
          "name": "stdout"
        }
      ]
    },
    {
      "cell_type": "code",
      "metadata": {
        "colab": {
          "base_uri": "https://localhost:8080/"
        },
        "id": "YDnJsoW-8gkl",
        "outputId": "dce7a0ae-7a86-4f60-c767-fa674bb578d0"
      },
      "source": [
        "scoring = 'accuracy'\n",
        "scores = cross_val_score(clf, test_data, test_labels, cv=k_fold, n_jobs=1, scoring=scoring)\n",
        "\n",
        "print (\"Scores Mean: %.4f and (STDEV %.4f)\" % (np.mean(scores)*100, np.std(scores)))\n",
        "print (\"Best result for fold %s\" % np.argmax(scores))\n",
        "print (\"Best accuracy is\", (scores[np.argmax(scores)]))\n",
        "print (\"Scores of all folds:\", scores)\n",
        "print(\"(RandomForest) Test Accuracy on all folds: %0.2f (+/- %0.2f)\" % (scores.mean(), scores.std() * 2))"
      ],
      "execution_count": 36,
      "outputs": [
        {
          "output_type": "stream",
          "text": [
            "Scores Mean: 62.5889 and (STDEV 0.0737)\n",
            "Best result for fold 6\n",
            "Best accuracy is 0.7105263157894737\n",
            "Scores of all folds: [0.57894737 0.55263158 0.65789474 0.60526316 0.65789474 0.65789474\n",
            " 0.71052632 0.7027027  0.45945946 0.67567568]\n",
            "(RandomForest) Test Accuracy on all folds: 0.63 (+/- 0.15)\n"
          ],
          "name": "stdout"
        }
      ]
    },
    {
      "cell_type": "markdown",
      "metadata": {
        "id": "XYdvNZrF8ph6"
      },
      "source": [
        "**Light GBM**"
      ]
    },
    {
      "cell_type": "code",
      "metadata": {
        "colab": {
          "base_uri": "https://localhost:8080/"
        },
        "id": "VC9Ma8tY8qHx",
        "outputId": "f9f5413d-c28e-4e46-aeeb-99ae0b34ab9f"
      },
      "source": [
        "import lightgbm as lgb\n",
        "\n",
        "lgbm=lgb.LGBMClassifier(n_estimators=1000, class_weight=\"balanced\", reg_alpha=0.1, reg_lambda=0.1, learning_rate=0.001, num_leaves=400,\n",
        "                        random_state=523, boosting='dart')\n",
        "\n",
        "lgbm_scores=cross_val_score(lgbm,train_data, y_train, cv=10)\n",
        "print(lgbm_scores)\n",
        "print(\"Train accuracy mean and std %.2f\" %np.mean(lgbm_scores),\"+/- %.2f\"%np.std(lgbm_scores))"
      ],
      "execution_count": 37,
      "outputs": [
        {
          "output_type": "stream",
          "text": [
            "[0.65060241 0.65853659 0.63414634 0.57317073 0.69512195 0.69512195\n",
            " 0.57317073 0.6097561  0.6097561  0.64634146]\n",
            "Train accuracy mean and std 0.63 +/- 0.04\n"
          ],
          "name": "stdout"
        }
      ]
    },
    {
      "cell_type": "code",
      "metadata": {
        "colab": {
          "base_uri": "https://localhost:8080/"
        },
        "id": "okBIqwr581QU",
        "outputId": "cd6a901f-ec3b-4eef-b588-3e917eb2d22e"
      },
      "source": [
        "lgbm.fit(train_data, y_train)\n",
        "y_pred=lgbm.predict(test_data)\n",
        "print(classification_report(y_test, y_pred))\n",
        "print(accuracy_score(y_test, y_test_pred))"
      ],
      "execution_count": 38,
      "outputs": [
        {
          "output_type": "stream",
          "text": [
            "              precision    recall  f1-score   support\n",
            "\n",
            "           0       0.74      0.75      0.74       230\n",
            "           1       0.60      0.59      0.59       147\n",
            "\n",
            "    accuracy                           0.68       377\n",
            "   macro avg       0.67      0.67      0.67       377\n",
            "weighted avg       0.68      0.68      0.68       377\n",
            "\n",
            "0.623342175066313\n"
          ],
          "name": "stdout"
        }
      ]
    },
    {
      "cell_type": "code",
      "metadata": {
        "colab": {
          "base_uri": "https://localhost:8080/"
        },
        "id": "zfAyL6oV826Q",
        "outputId": "d13f2e29-4fdf-48d2-dc5a-91a1e9f09f46"
      },
      "source": [
        "scoring = 'accuracy'\n",
        "scores = cross_val_score(lgbm, test_data, y_test, cv=k_fold, n_jobs=1, scoring=scoring)\n",
        "\n",
        "print (\"Scores Mean: %.4f and (STDEV %.4f)\" % (np.mean(scores)*100, np.std(scores)))\n",
        "print (\"Best result for fold %s\" % np.argmax(scores))\n",
        "print (\"Best accuracy is\", (scores[np.argmax(scores)]))\n",
        "print (\"Scores of all folds:\", scores)\n",
        "print(\"(LighGBM) Test Accuracy on all folds: %0.2f (+/- %0.2f)\" % (scores.mean(), scores.std() * 2))"
      ],
      "execution_count": 39,
      "outputs": [
        {
          "output_type": "stream",
          "text": [
            "Scores Mean: 68.4139 and (STDEV 0.0664)\n",
            "Best result for fold 2\n",
            "Best accuracy is 0.7631578947368421\n",
            "Scores of all folds: [0.57894737 0.73684211 0.76315789 0.68421053 0.73684211 0.63157895\n",
            " 0.73684211 0.72972973 0.56756757 0.67567568]\n",
            "(LighGBM) Test Accuracy on all folds: 0.68 (+/- 0.13)\n"
          ],
          "name": "stdout"
        }
      ]
    }
  ]
}